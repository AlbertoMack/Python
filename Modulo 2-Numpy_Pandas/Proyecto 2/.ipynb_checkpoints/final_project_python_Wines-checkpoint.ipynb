{
 "cells": [
  {
   "cell_type": "markdown",
   "id": "5aa4c7b7",
   "metadata": {},
   "source": [
    "# WINES"
   ]
  },
  {
   "cell_type": "markdown",
   "id": "4da9e87d",
   "metadata": {},
   "source": [
    "Columns:\n",
    "\n",
    "**country**: Country of origin of the wine.\n",
    "*\n",
    "*description**: Description of the taster about the properties of the wine.\n",
    "\n",
    "**designation**: Wine category.\n",
    "\n",
    "**points**: Score given by winemag users.\n",
    "\n",
    "**price**: Price of the wine.\n",
    "\n",
    "**province**: Province of the wine country.\n",
    "\n",
    "**region_1**: Wine Region 1.\n",
    "\n",
    "**region_2**: Wine Region 2\n",
    "\n",
    "**variety**: Grape variety.\n",
    "\n",
    "**winery**: Production and maturation cellar.\n",
    "\n",
    "\n"
   ]
  },
  {
   "cell_type": "markdown",
   "id": "9b4db760",
   "metadata": {},
   "source": [
    "# 1.  Load both files, the .csv as pandas dataframe and the .json as json."
   ]
  },
  {
   "cell_type": "code",
   "execution_count": 22,
   "id": "049548b4",
   "metadata": {},
   "outputs": [],
   "source": [
    "import pandas as pd\n",
    "import numpy as np\n",
    "import seaborn as sns\n",
    "import matplotlib.pyplot as plt\n",
    "import json\n",
    "\n",
    "# CSV file is opened\n",
    "df = pd.read_csv(\"winemag-data_first150k.csv\", sep= \",\")\n",
    "\n",
    "# JSON file is opened\n",
    "with open('winemag-data-130k-v2.json') as datafile:\n",
    "    data= json.load(datafile)\n",
    "js = pd.DataFrame(data)"
   ]
  },
  {
   "cell_type": "code",
   "execution_count": 23,
   "id": "d827f7bd",
   "metadata": {},
   "outputs": [
    {
     "data": {
      "text/html": [
       "<div>\n",
       "<style scoped>\n",
       "    .dataframe tbody tr th:only-of-type {\n",
       "        vertical-align: middle;\n",
       "    }\n",
       "\n",
       "    .dataframe tbody tr th {\n",
       "        vertical-align: top;\n",
       "    }\n",
       "\n",
       "    .dataframe thead th {\n",
       "        text-align: right;\n",
       "    }\n",
       "</style>\n",
       "<table border=\"1\" class=\"dataframe\">\n",
       "  <thead>\n",
       "    <tr style=\"text-align: right;\">\n",
       "      <th></th>\n",
       "      <th>points</th>\n",
       "      <th>title</th>\n",
       "      <th>description</th>\n",
       "      <th>taster_name</th>\n",
       "      <th>taster_twitter_handle</th>\n",
       "      <th>price</th>\n",
       "      <th>designation</th>\n",
       "      <th>variety</th>\n",
       "      <th>region_1</th>\n",
       "      <th>region_2</th>\n",
       "      <th>province</th>\n",
       "      <th>country</th>\n",
       "      <th>winery</th>\n",
       "    </tr>\n",
       "  </thead>\n",
       "  <tbody>\n",
       "    <tr>\n",
       "      <th>0</th>\n",
       "      <td>87</td>\n",
       "      <td>Nicosia 2013 Vulkà Bianco  (Etna)</td>\n",
       "      <td>Aromas include tropical fruit, broom, brimston...</td>\n",
       "      <td>Kerin O’Keefe</td>\n",
       "      <td>@kerinokeefe</td>\n",
       "      <td>NaN</td>\n",
       "      <td>Vulkà Bianco</td>\n",
       "      <td>White Blend</td>\n",
       "      <td>Etna</td>\n",
       "      <td>None</td>\n",
       "      <td>Sicily &amp; Sardinia</td>\n",
       "      <td>Italy</td>\n",
       "      <td>Nicosia</td>\n",
       "    </tr>\n",
       "    <tr>\n",
       "      <th>1</th>\n",
       "      <td>87</td>\n",
       "      <td>Quinta dos Avidagos 2011 Avidagos Red (Douro)</td>\n",
       "      <td>This is ripe and fruity, a wine that is smooth...</td>\n",
       "      <td>Roger Voss</td>\n",
       "      <td>@vossroger</td>\n",
       "      <td>15.0</td>\n",
       "      <td>Avidagos</td>\n",
       "      <td>Portuguese Red</td>\n",
       "      <td>None</td>\n",
       "      <td>None</td>\n",
       "      <td>Douro</td>\n",
       "      <td>Portugal</td>\n",
       "      <td>Quinta dos Avidagos</td>\n",
       "    </tr>\n",
       "    <tr>\n",
       "      <th>2</th>\n",
       "      <td>87</td>\n",
       "      <td>Rainstorm 2013 Pinot Gris (Willamette Valley)</td>\n",
       "      <td>Tart and snappy, the flavors of lime flesh and...</td>\n",
       "      <td>Paul Gregutt</td>\n",
       "      <td>@paulgwine</td>\n",
       "      <td>14.0</td>\n",
       "      <td>None</td>\n",
       "      <td>Pinot Gris</td>\n",
       "      <td>Willamette Valley</td>\n",
       "      <td>Willamette Valley</td>\n",
       "      <td>Oregon</td>\n",
       "      <td>US</td>\n",
       "      <td>Rainstorm</td>\n",
       "    </tr>\n",
       "    <tr>\n",
       "      <th>3</th>\n",
       "      <td>87</td>\n",
       "      <td>St. Julian 2013 Reserve Late Harvest Riesling ...</td>\n",
       "      <td>Pineapple rind, lemon pith and orange blossom ...</td>\n",
       "      <td>Alexander Peartree</td>\n",
       "      <td>None</td>\n",
       "      <td>13.0</td>\n",
       "      <td>Reserve Late Harvest</td>\n",
       "      <td>Riesling</td>\n",
       "      <td>Lake Michigan Shore</td>\n",
       "      <td>None</td>\n",
       "      <td>Michigan</td>\n",
       "      <td>US</td>\n",
       "      <td>St. Julian</td>\n",
       "    </tr>\n",
       "    <tr>\n",
       "      <th>4</th>\n",
       "      <td>87</td>\n",
       "      <td>Sweet Cheeks 2012 Vintner's Reserve Wild Child...</td>\n",
       "      <td>Much like the regular bottling from 2012, this...</td>\n",
       "      <td>Paul Gregutt</td>\n",
       "      <td>@paulgwine</td>\n",
       "      <td>65.0</td>\n",
       "      <td>Vintner's Reserve Wild Child Block</td>\n",
       "      <td>Pinot Noir</td>\n",
       "      <td>Willamette Valley</td>\n",
       "      <td>Willamette Valley</td>\n",
       "      <td>Oregon</td>\n",
       "      <td>US</td>\n",
       "      <td>Sweet Cheeks</td>\n",
       "    </tr>\n",
       "  </tbody>\n",
       "</table>\n",
       "</div>"
      ],
      "text/plain": [
       "  points                                              title  \\\n",
       "0     87                  Nicosia 2013 Vulkà Bianco  (Etna)   \n",
       "1     87      Quinta dos Avidagos 2011 Avidagos Red (Douro)   \n",
       "2     87      Rainstorm 2013 Pinot Gris (Willamette Valley)   \n",
       "3     87  St. Julian 2013 Reserve Late Harvest Riesling ...   \n",
       "4     87  Sweet Cheeks 2012 Vintner's Reserve Wild Child...   \n",
       "\n",
       "                                         description         taster_name  \\\n",
       "0  Aromas include tropical fruit, broom, brimston...       Kerin O’Keefe   \n",
       "1  This is ripe and fruity, a wine that is smooth...          Roger Voss   \n",
       "2  Tart and snappy, the flavors of lime flesh and...        Paul Gregutt   \n",
       "3  Pineapple rind, lemon pith and orange blossom ...  Alexander Peartree   \n",
       "4  Much like the regular bottling from 2012, this...        Paul Gregutt   \n",
       "\n",
       "  taster_twitter_handle  price                         designation  \\\n",
       "0          @kerinokeefe    NaN                        Vulkà Bianco   \n",
       "1            @vossroger   15.0                            Avidagos   \n",
       "2           @paulgwine    14.0                                None   \n",
       "3                  None   13.0                Reserve Late Harvest   \n",
       "4           @paulgwine    65.0  Vintner's Reserve Wild Child Block   \n",
       "\n",
       "          variety             region_1           region_2           province  \\\n",
       "0     White Blend                 Etna               None  Sicily & Sardinia   \n",
       "1  Portuguese Red                 None               None              Douro   \n",
       "2      Pinot Gris    Willamette Valley  Willamette Valley             Oregon   \n",
       "3        Riesling  Lake Michigan Shore               None           Michigan   \n",
       "4      Pinot Noir    Willamette Valley  Willamette Valley             Oregon   \n",
       "\n",
       "    country               winery  \n",
       "0     Italy              Nicosia  \n",
       "1  Portugal  Quinta dos Avidagos  \n",
       "2        US            Rainstorm  \n",
       "3        US           St. Julian  \n",
       "4        US         Sweet Cheeks  "
      ]
     },
     "execution_count": 23,
     "metadata": {},
     "output_type": "execute_result"
    }
   ],
   "source": [
    "# Verification that file was correctly opened\n",
    "js.head()"
   ]
  },
  {
   "cell_type": "code",
   "execution_count": 24,
   "id": "91164aca",
   "metadata": {},
   "outputs": [
    {
     "data": {
      "text/html": [
       "<div>\n",
       "<style scoped>\n",
       "    .dataframe tbody tr th:only-of-type {\n",
       "        vertical-align: middle;\n",
       "    }\n",
       "\n",
       "    .dataframe tbody tr th {\n",
       "        vertical-align: top;\n",
       "    }\n",
       "\n",
       "    .dataframe thead th {\n",
       "        text-align: right;\n",
       "    }\n",
       "</style>\n",
       "<table border=\"1\" class=\"dataframe\">\n",
       "  <thead>\n",
       "    <tr style=\"text-align: right;\">\n",
       "      <th></th>\n",
       "      <th>Unnamed: 0</th>\n",
       "      <th>country</th>\n",
       "      <th>description</th>\n",
       "      <th>designation</th>\n",
       "      <th>points</th>\n",
       "      <th>price</th>\n",
       "      <th>province</th>\n",
       "      <th>region_1</th>\n",
       "      <th>region_2</th>\n",
       "      <th>variety</th>\n",
       "      <th>winery</th>\n",
       "    </tr>\n",
       "  </thead>\n",
       "  <tbody>\n",
       "    <tr>\n",
       "      <th>0</th>\n",
       "      <td>0</td>\n",
       "      <td>US</td>\n",
       "      <td>This tremendous 100% varietal wine hails from ...</td>\n",
       "      <td>Martha's Vineyard</td>\n",
       "      <td>96</td>\n",
       "      <td>235.0</td>\n",
       "      <td>California</td>\n",
       "      <td>Napa Valley</td>\n",
       "      <td>Napa</td>\n",
       "      <td>Cabernet Sauvignon</td>\n",
       "      <td>Heitz</td>\n",
       "    </tr>\n",
       "    <tr>\n",
       "      <th>1</th>\n",
       "      <td>1</td>\n",
       "      <td>Spain</td>\n",
       "      <td>Ripe aromas of fig, blackberry and cassis are ...</td>\n",
       "      <td>Carodorum Selección Especial Reserva</td>\n",
       "      <td>96</td>\n",
       "      <td>110.0</td>\n",
       "      <td>Northern Spain</td>\n",
       "      <td>Toro</td>\n",
       "      <td>NaN</td>\n",
       "      <td>Tinta de Toro</td>\n",
       "      <td>Bodega Carmen Rodríguez</td>\n",
       "    </tr>\n",
       "    <tr>\n",
       "      <th>2</th>\n",
       "      <td>2</td>\n",
       "      <td>US</td>\n",
       "      <td>Mac Watson honors the memory of a wine once ma...</td>\n",
       "      <td>Special Selected Late Harvest</td>\n",
       "      <td>96</td>\n",
       "      <td>90.0</td>\n",
       "      <td>California</td>\n",
       "      <td>Knights Valley</td>\n",
       "      <td>Sonoma</td>\n",
       "      <td>Sauvignon Blanc</td>\n",
       "      <td>Macauley</td>\n",
       "    </tr>\n",
       "    <tr>\n",
       "      <th>3</th>\n",
       "      <td>3</td>\n",
       "      <td>US</td>\n",
       "      <td>This spent 20 months in 30% new French oak, an...</td>\n",
       "      <td>Reserve</td>\n",
       "      <td>96</td>\n",
       "      <td>65.0</td>\n",
       "      <td>Oregon</td>\n",
       "      <td>Willamette Valley</td>\n",
       "      <td>Willamette Valley</td>\n",
       "      <td>Pinot Noir</td>\n",
       "      <td>Ponzi</td>\n",
       "    </tr>\n",
       "    <tr>\n",
       "      <th>4</th>\n",
       "      <td>4</td>\n",
       "      <td>France</td>\n",
       "      <td>This is the top wine from La Bégude, named aft...</td>\n",
       "      <td>La Brûlade</td>\n",
       "      <td>95</td>\n",
       "      <td>66.0</td>\n",
       "      <td>Provence</td>\n",
       "      <td>Bandol</td>\n",
       "      <td>NaN</td>\n",
       "      <td>Provence red blend</td>\n",
       "      <td>Domaine de la Bégude</td>\n",
       "    </tr>\n",
       "  </tbody>\n",
       "</table>\n",
       "</div>"
      ],
      "text/plain": [
       "   Unnamed: 0 country                                        description  \\\n",
       "0           0      US  This tremendous 100% varietal wine hails from ...   \n",
       "1           1   Spain  Ripe aromas of fig, blackberry and cassis are ...   \n",
       "2           2      US  Mac Watson honors the memory of a wine once ma...   \n",
       "3           3      US  This spent 20 months in 30% new French oak, an...   \n",
       "4           4  France  This is the top wine from La Bégude, named aft...   \n",
       "\n",
       "                            designation  points  price        province  \\\n",
       "0                     Martha's Vineyard      96  235.0      California   \n",
       "1  Carodorum Selección Especial Reserva      96  110.0  Northern Spain   \n",
       "2         Special Selected Late Harvest      96   90.0      California   \n",
       "3                               Reserve      96   65.0          Oregon   \n",
       "4                            La Brûlade      95   66.0        Provence   \n",
       "\n",
       "            region_1           region_2             variety  \\\n",
       "0        Napa Valley               Napa  Cabernet Sauvignon   \n",
       "1               Toro                NaN       Tinta de Toro   \n",
       "2     Knights Valley             Sonoma     Sauvignon Blanc   \n",
       "3  Willamette Valley  Willamette Valley          Pinot Noir   \n",
       "4             Bandol                NaN  Provence red blend   \n",
       "\n",
       "                    winery  \n",
       "0                    Heitz  \n",
       "1  Bodega Carmen Rodríguez  \n",
       "2                 Macauley  \n",
       "3                    Ponzi  \n",
       "4     Domaine de la Bégude  "
      ]
     },
     "execution_count": 24,
     "metadata": {},
     "output_type": "execute_result"
    }
   ],
   "source": [
    "# Verification that file was correctly opened\n",
    "df.head()"
   ]
  },
  {
   "cell_type": "markdown",
   "id": "7731fd14",
   "metadata": {},
   "source": [
    "# 2. Get a single dataframe that is the union of both files that only has the following columns: country, designation, points, price, state, winery.\n"
   ]
  },
  {
   "cell_type": "code",
   "execution_count": 25,
   "id": "955a5174",
   "metadata": {},
   "outputs": [],
   "source": [
    "# Two new DataFrames are generated keeping only the desired columns\n",
    "\n",
    "df1 = pd.DataFrame(df, columns = ['country', 'designation', 'points', 'price', 'province', 'winery'])\n",
    "\n",
    "js1 = pd.DataFrame(js, columns = ['country', 'designation', 'points', 'price', 'province', 'winery'])\n",
    "\n",
    "# The two DataFrames are merged into one\n",
    "single_df = pd.concat([df1, js1])"
   ]
  },
  {
   "cell_type": "markdown",
   "id": "6ac28ee1",
   "metadata": {},
   "source": [
    "Dimensions are checked for each of the DataFrames to ensure that no errors occurred during the DataFrame transformations"
   ]
  },
  {
   "cell_type": "code",
   "execution_count": 26,
   "id": "c80fe991",
   "metadata": {},
   "outputs": [
    {
     "data": {
      "text/plain": [
       "(150930, 11)"
      ]
     },
     "execution_count": 26,
     "metadata": {},
     "output_type": "execute_result"
    }
   ],
   "source": [
    "df.shape"
   ]
  },
  {
   "cell_type": "code",
   "execution_count": 27,
   "id": "ef816344",
   "metadata": {},
   "outputs": [
    {
     "data": {
      "text/plain": [
       "(129971, 13)"
      ]
     },
     "execution_count": 27,
     "metadata": {},
     "output_type": "execute_result"
    }
   ],
   "source": [
    "js.shape"
   ]
  },
  {
   "cell_type": "code",
   "execution_count": 28,
   "id": "a2ee05fc",
   "metadata": {},
   "outputs": [
    {
     "data": {
      "text/plain": [
       "(150930, 6)"
      ]
     },
     "execution_count": 28,
     "metadata": {},
     "output_type": "execute_result"
    }
   ],
   "source": [
    "df1.shape"
   ]
  },
  {
   "cell_type": "code",
   "execution_count": 29,
   "id": "b460409a",
   "metadata": {},
   "outputs": [
    {
     "data": {
      "text/plain": [
       "(129971, 6)"
      ]
     },
     "execution_count": 29,
     "metadata": {},
     "output_type": "execute_result"
    }
   ],
   "source": [
    "js1.shape"
   ]
  },
  {
   "cell_type": "code",
   "execution_count": 30,
   "id": "66582213",
   "metadata": {},
   "outputs": [
    {
     "data": {
      "text/plain": [
       "(280901, 6)"
      ]
     },
     "execution_count": 30,
     "metadata": {},
     "output_type": "execute_result"
    }
   ],
   "source": [
    "single_df.shape"
   ]
  },
  {
   "cell_type": "code",
   "execution_count": 31,
   "id": "37e30c3f",
   "metadata": {},
   "outputs": [
    {
     "data": {
      "text/html": [
       "<div>\n",
       "<style scoped>\n",
       "    .dataframe tbody tr th:only-of-type {\n",
       "        vertical-align: middle;\n",
       "    }\n",
       "\n",
       "    .dataframe tbody tr th {\n",
       "        vertical-align: top;\n",
       "    }\n",
       "\n",
       "    .dataframe thead th {\n",
       "        text-align: right;\n",
       "    }\n",
       "</style>\n",
       "<table border=\"1\" class=\"dataframe\">\n",
       "  <thead>\n",
       "    <tr style=\"text-align: right;\">\n",
       "      <th></th>\n",
       "      <th>country</th>\n",
       "      <th>designation</th>\n",
       "      <th>points</th>\n",
       "      <th>price</th>\n",
       "      <th>province</th>\n",
       "      <th>winery</th>\n",
       "    </tr>\n",
       "  </thead>\n",
       "  <tbody>\n",
       "    <tr>\n",
       "      <th>0</th>\n",
       "      <td>US</td>\n",
       "      <td>Martha's Vineyard</td>\n",
       "      <td>96</td>\n",
       "      <td>235.0</td>\n",
       "      <td>California</td>\n",
       "      <td>Heitz</td>\n",
       "    </tr>\n",
       "    <tr>\n",
       "      <th>1</th>\n",
       "      <td>Spain</td>\n",
       "      <td>Carodorum Selección Especial Reserva</td>\n",
       "      <td>96</td>\n",
       "      <td>110.0</td>\n",
       "      <td>Northern Spain</td>\n",
       "      <td>Bodega Carmen Rodríguez</td>\n",
       "    </tr>\n",
       "    <tr>\n",
       "      <th>2</th>\n",
       "      <td>US</td>\n",
       "      <td>Special Selected Late Harvest</td>\n",
       "      <td>96</td>\n",
       "      <td>90.0</td>\n",
       "      <td>California</td>\n",
       "      <td>Macauley</td>\n",
       "    </tr>\n",
       "    <tr>\n",
       "      <th>3</th>\n",
       "      <td>US</td>\n",
       "      <td>Reserve</td>\n",
       "      <td>96</td>\n",
       "      <td>65.0</td>\n",
       "      <td>Oregon</td>\n",
       "      <td>Ponzi</td>\n",
       "    </tr>\n",
       "    <tr>\n",
       "      <th>4</th>\n",
       "      <td>France</td>\n",
       "      <td>La Brûlade</td>\n",
       "      <td>95</td>\n",
       "      <td>66.0</td>\n",
       "      <td>Provence</td>\n",
       "      <td>Domaine de la Bégude</td>\n",
       "    </tr>\n",
       "  </tbody>\n",
       "</table>\n",
       "</div>"
      ],
      "text/plain": [
       "  country                           designation points  price        province  \\\n",
       "0      US                     Martha's Vineyard     96  235.0      California   \n",
       "1   Spain  Carodorum Selección Especial Reserva     96  110.0  Northern Spain   \n",
       "2      US         Special Selected Late Harvest     96   90.0      California   \n",
       "3      US                               Reserve     96   65.0          Oregon   \n",
       "4  France                            La Brûlade     95   66.0        Provence   \n",
       "\n",
       "                    winery  \n",
       "0                    Heitz  \n",
       "1  Bodega Carmen Rodríguez  \n",
       "2                 Macauley  \n",
       "3                    Ponzi  \n",
       "4     Domaine de la Bégude  "
      ]
     },
     "execution_count": 31,
     "metadata": {},
     "output_type": "execute_result"
    }
   ],
   "source": [
    "single_df.head()"
   ]
  },
  {
   "cell_type": "markdown",
   "id": "ad4871db",
   "metadata": {},
   "source": [
    "# 3. Are there duplicates in the dataframe? Delete all duplicate rows."
   ]
  },
  {
   "cell_type": "code",
   "execution_count": 32,
   "id": "fa77f5bc",
   "metadata": {},
   "outputs": [
    {
     "data": {
      "text/plain": [
       "False    203119\n",
       "True      77782\n",
       "dtype: int64"
      ]
     },
     "execution_count": 32,
     "metadata": {},
     "output_type": "execute_result"
    }
   ],
   "source": [
    "# Duplicated values are checked using dataframe.duplicated() method\n",
    "single_df.duplicated().value_counts()\n",
    "\n",
    "# There are 77782 duplicated values"
   ]
  },
  {
   "cell_type": "code",
   "execution_count": 34,
   "id": "dbbc1202",
   "metadata": {},
   "outputs": [],
   "source": [
    "# Duplicated values are deleted\n",
    "single_df.drop_duplicates(inplace= True)"
   ]
  },
  {
   "cell_type": "markdown",
   "id": "839c07a0",
   "metadata": {},
   "source": [
    "Some checks are made to ensure that previous tests were done correctly"
   ]
  },
  {
   "cell_type": "code",
   "execution_count": 35,
   "id": "65da06f2",
   "metadata": {
    "scrolled": true
   },
   "outputs": [
    {
     "data": {
      "text/plain": [
       "False    203119\n",
       "dtype: int64"
      ]
     },
     "execution_count": 35,
     "metadata": {},
     "output_type": "execute_result"
    }
   ],
   "source": [
    "single_df.duplicated().value_counts()"
   ]
  },
  {
   "cell_type": "code",
   "execution_count": 15,
   "id": "f9729223",
   "metadata": {},
   "outputs": [
    {
     "data": {
      "text/plain": [
       "203119"
      ]
     },
     "execution_count": 15,
     "metadata": {},
     "output_type": "execute_result"
    }
   ],
   "source": [
    "len(single_df)"
   ]
  },
  {
   "cell_type": "markdown",
   "id": "fcb15653",
   "metadata": {},
   "source": [
    "# 4. Make a study of the null values of the dataset, assign a zero to all the rows that have a null value in the price, after that, delete the rest of the null values of the dataframe. What is the resulting number of rows?\n"
   ]
  },
  {
   "cell_type": "code",
   "execution_count": 40,
   "id": "35ac98c2",
   "metadata": {},
   "outputs": [
    {
     "data": {
      "text/html": [
       "<div>\n",
       "<style scoped>\n",
       "    .dataframe tbody tr th:only-of-type {\n",
       "        vertical-align: middle;\n",
       "    }\n",
       "\n",
       "    .dataframe tbody tr th {\n",
       "        vertical-align: top;\n",
       "    }\n",
       "\n",
       "    .dataframe thead th {\n",
       "        text-align: right;\n",
       "    }\n",
       "</style>\n",
       "<table border=\"1\" class=\"dataframe\">\n",
       "  <thead>\n",
       "    <tr style=\"text-align: right;\">\n",
       "      <th></th>\n",
       "      <th>country</th>\n",
       "      <th>designation</th>\n",
       "      <th>points</th>\n",
       "      <th>price</th>\n",
       "      <th>province</th>\n",
       "      <th>winery</th>\n",
       "    </tr>\n",
       "  </thead>\n",
       "  <tbody>\n",
       "    <tr>\n",
       "      <th>0</th>\n",
       "      <td>False</td>\n",
       "      <td>False</td>\n",
       "      <td>False</td>\n",
       "      <td>False</td>\n",
       "      <td>False</td>\n",
       "      <td>False</td>\n",
       "    </tr>\n",
       "    <tr>\n",
       "      <th>1</th>\n",
       "      <td>False</td>\n",
       "      <td>False</td>\n",
       "      <td>False</td>\n",
       "      <td>False</td>\n",
       "      <td>False</td>\n",
       "      <td>False</td>\n",
       "    </tr>\n",
       "    <tr>\n",
       "      <th>2</th>\n",
       "      <td>False</td>\n",
       "      <td>False</td>\n",
       "      <td>False</td>\n",
       "      <td>False</td>\n",
       "      <td>False</td>\n",
       "      <td>False</td>\n",
       "    </tr>\n",
       "    <tr>\n",
       "      <th>3</th>\n",
       "      <td>False</td>\n",
       "      <td>False</td>\n",
       "      <td>False</td>\n",
       "      <td>False</td>\n",
       "      <td>False</td>\n",
       "      <td>False</td>\n",
       "    </tr>\n",
       "    <tr>\n",
       "      <th>4</th>\n",
       "      <td>False</td>\n",
       "      <td>False</td>\n",
       "      <td>False</td>\n",
       "      <td>False</td>\n",
       "      <td>False</td>\n",
       "      <td>False</td>\n",
       "    </tr>\n",
       "    <tr>\n",
       "      <th>...</th>\n",
       "      <td>...</td>\n",
       "      <td>...</td>\n",
       "      <td>...</td>\n",
       "      <td>...</td>\n",
       "      <td>...</td>\n",
       "      <td>...</td>\n",
       "    </tr>\n",
       "    <tr>\n",
       "      <th>129965</th>\n",
       "      <td>False</td>\n",
       "      <td>False</td>\n",
       "      <td>False</td>\n",
       "      <td>False</td>\n",
       "      <td>False</td>\n",
       "      <td>False</td>\n",
       "    </tr>\n",
       "    <tr>\n",
       "      <th>129966</th>\n",
       "      <td>False</td>\n",
       "      <td>False</td>\n",
       "      <td>False</td>\n",
       "      <td>False</td>\n",
       "      <td>False</td>\n",
       "      <td>False</td>\n",
       "    </tr>\n",
       "    <tr>\n",
       "      <th>129967</th>\n",
       "      <td>False</td>\n",
       "      <td>True</td>\n",
       "      <td>False</td>\n",
       "      <td>False</td>\n",
       "      <td>False</td>\n",
       "      <td>False</td>\n",
       "    </tr>\n",
       "    <tr>\n",
       "      <th>129969</th>\n",
       "      <td>False</td>\n",
       "      <td>True</td>\n",
       "      <td>False</td>\n",
       "      <td>False</td>\n",
       "      <td>False</td>\n",
       "      <td>False</td>\n",
       "    </tr>\n",
       "    <tr>\n",
       "      <th>129970</th>\n",
       "      <td>False</td>\n",
       "      <td>False</td>\n",
       "      <td>False</td>\n",
       "      <td>False</td>\n",
       "      <td>False</td>\n",
       "      <td>False</td>\n",
       "    </tr>\n",
       "  </tbody>\n",
       "</table>\n",
       "<p>203119 rows × 6 columns</p>\n",
       "</div>"
      ],
      "text/plain": [
       "        country  designation  points  price  province  winery\n",
       "0         False        False   False  False     False   False\n",
       "1         False        False   False  False     False   False\n",
       "2         False        False   False  False     False   False\n",
       "3         False        False   False  False     False   False\n",
       "4         False        False   False  False     False   False\n",
       "...         ...          ...     ...    ...       ...     ...\n",
       "129965    False        False   False  False     False   False\n",
       "129966    False        False   False  False     False   False\n",
       "129967    False         True   False  False     False   False\n",
       "129969    False         True   False  False     False   False\n",
       "129970    False        False   False  False     False   False\n",
       "\n",
       "[203119 rows x 6 columns]"
      ]
     },
     "execution_count": 40,
     "metadata": {},
     "output_type": "execute_result"
    }
   ],
   "source": [
    "# A boolean matrix is generated, null values are displayed as True\n",
    "single_df.isna()"
   ]
  },
  {
   "cell_type": "code",
   "execution_count": 41,
   "id": "f3627179",
   "metadata": {},
   "outputs": [
    {
     "data": {
      "text/plain": [
       "country           60\n",
       "designation    57614\n",
       "points             0\n",
       "price          16027\n",
       "province          60\n",
       "winery             0\n",
       "dtype: int64"
      ]
     },
     "execution_count": 41,
     "metadata": {},
     "output_type": "execute_result"
    }
   ],
   "source": [
    "# Null count is displayed in a table \n",
    "single_df.isna().sum()"
   ]
  },
  {
   "cell_type": "code",
   "execution_count": 42,
   "id": "b675edae",
   "metadata": {},
   "outputs": [],
   "source": [
    "# Assign a zero to all the rows that have a null value in the price\n",
    "\n",
    "single_df['price'].fillna(0, inplace= True)"
   ]
  },
  {
   "cell_type": "code",
   "execution_count": 43,
   "id": "c3cb7936",
   "metadata": {},
   "outputs": [
    {
     "data": {
      "text/plain": [
       "0"
      ]
     },
     "execution_count": 43,
     "metadata": {},
     "output_type": "execute_result"
    }
   ],
   "source": [
    "# Checks are made to ensure that all null values were correctly replaced\n",
    "single_df['price'].isna().sum()"
   ]
  },
  {
   "cell_type": "code",
   "execution_count": 44,
   "id": "c79b7282",
   "metadata": {},
   "outputs": [],
   "source": [
    "# Rows with null values are deleted\n",
    "\n",
    "single_df.dropna(inplace= True)"
   ]
  },
  {
   "cell_type": "code",
   "execution_count": 45,
   "id": "8339ed6b",
   "metadata": {},
   "outputs": [
    {
     "data": {
      "text/plain": [
       "country        0\n",
       "designation    0\n",
       "points         0\n",
       "price          0\n",
       "province       0\n",
       "winery         0\n",
       "dtype: int64"
      ]
     },
     "execution_count": 45,
     "metadata": {},
     "output_type": "execute_result"
    }
   ],
   "source": [
    "# Checks are made to ensure that all null values were correctly replaced\n",
    "\n",
    "single_df.isna().sum()"
   ]
  },
  {
   "cell_type": "code",
   "execution_count": 46,
   "id": "180bfa6d",
   "metadata": {},
   "outputs": [
    {
     "data": {
      "text/plain": [
       "145455"
      ]
     },
     "execution_count": 46,
     "metadata": {},
     "output_type": "execute_result"
    }
   ],
   "source": [
    "# The resulting number of rows is obtained\n",
    "len(single_df)"
   ]
  },
  {
   "cell_type": "markdown",
   "id": "876d6ec7",
   "metadata": {},
   "source": [
    "# 5. Obtain a subset with all the wines that are from Spain and that also include the word reserve 'reserva' in the designation of origin. Hint: To locate a text string in a column, you can use the str.contains function"
   ]
  },
  {
   "cell_type": "code",
   "execution_count": 49,
   "id": "d22c3598",
   "metadata": {},
   "outputs": [],
   "source": [
    "# A subset consisting of wines produced in Spain with the word 'reserva' in its designation is obtained\n",
    "spanish_df = single_df[(single_df.country == \"Spain\") & (single_df.designation.str.contains(\"reserva\", case= False ))]"
   ]
  },
  {
   "cell_type": "code",
   "execution_count": 50,
   "id": "82860041",
   "metadata": {},
   "outputs": [
    {
     "data": {
      "text/html": [
       "<div>\n",
       "<style scoped>\n",
       "    .dataframe tbody tr th:only-of-type {\n",
       "        vertical-align: middle;\n",
       "    }\n",
       "\n",
       "    .dataframe tbody tr th {\n",
       "        vertical-align: top;\n",
       "    }\n",
       "\n",
       "    .dataframe thead th {\n",
       "        text-align: right;\n",
       "    }\n",
       "</style>\n",
       "<table border=\"1\" class=\"dataframe\">\n",
       "  <thead>\n",
       "    <tr style=\"text-align: right;\">\n",
       "      <th></th>\n",
       "      <th>country</th>\n",
       "      <th>designation</th>\n",
       "      <th>points</th>\n",
       "      <th>price</th>\n",
       "      <th>province</th>\n",
       "      <th>winery</th>\n",
       "    </tr>\n",
       "  </thead>\n",
       "  <tbody>\n",
       "    <tr>\n",
       "      <th>1</th>\n",
       "      <td>Spain</td>\n",
       "      <td>Carodorum Selección Especial Reserva</td>\n",
       "      <td>96.0</td>\n",
       "      <td>110.0</td>\n",
       "      <td>Northern Spain</td>\n",
       "      <td>Bodega Carmen Rodríguez</td>\n",
       "    </tr>\n",
       "    <tr>\n",
       "      <th>17</th>\n",
       "      <td>Spain</td>\n",
       "      <td>6 Años Reserva Premium</td>\n",
       "      <td>95.0</td>\n",
       "      <td>80.0</td>\n",
       "      <td>Northern Spain</td>\n",
       "      <td>Valduero</td>\n",
       "    </tr>\n",
       "    <tr>\n",
       "      <th>21</th>\n",
       "      <td>Spain</td>\n",
       "      <td>Prado Enea Gran Reserva</td>\n",
       "      <td>95.0</td>\n",
       "      <td>79.0</td>\n",
       "      <td>Northern Spain</td>\n",
       "      <td>Muga</td>\n",
       "    </tr>\n",
       "    <tr>\n",
       "      <th>128</th>\n",
       "      <td>Spain</td>\n",
       "      <td>Arnegui Reserva</td>\n",
       "      <td>90.0</td>\n",
       "      <td>22.0</td>\n",
       "      <td>Northern Spain</td>\n",
       "      <td>Pagos del Rey</td>\n",
       "    </tr>\n",
       "    <tr>\n",
       "      <th>152</th>\n",
       "      <td>Spain</td>\n",
       "      <td>Brut Reserva</td>\n",
       "      <td>89.0</td>\n",
       "      <td>17.0</td>\n",
       "      <td>Catalonia</td>\n",
       "      <td>Bohigas</td>\n",
       "    </tr>\n",
       "    <tr>\n",
       "      <th>...</th>\n",
       "      <td>...</td>\n",
       "      <td>...</td>\n",
       "      <td>...</td>\n",
       "      <td>...</td>\n",
       "      <td>...</td>\n",
       "      <td>...</td>\n",
       "    </tr>\n",
       "    <tr>\n",
       "      <th>129727</th>\n",
       "      <td>Spain</td>\n",
       "      <td>Reserva</td>\n",
       "      <td>90.0</td>\n",
       "      <td>18.0</td>\n",
       "      <td>Northern Spain</td>\n",
       "      <td>Taron</td>\n",
       "    </tr>\n",
       "    <tr>\n",
       "      <th>129737</th>\n",
       "      <td>Spain</td>\n",
       "      <td>Viña Olagosa Gran Reserva</td>\n",
       "      <td>90.0</td>\n",
       "      <td>21.0</td>\n",
       "      <td>Northern Spain</td>\n",
       "      <td>Bodegas Perica</td>\n",
       "    </tr>\n",
       "    <tr>\n",
       "      <th>129789</th>\n",
       "      <td>Spain</td>\n",
       "      <td>Clisos Reserva</td>\n",
       "      <td>89.0</td>\n",
       "      <td>19.0</td>\n",
       "      <td>Northern Spain</td>\n",
       "      <td>Federico Paternina</td>\n",
       "    </tr>\n",
       "    <tr>\n",
       "      <th>129794</th>\n",
       "      <td>Spain</td>\n",
       "      <td>Secreto Reserva</td>\n",
       "      <td>89.0</td>\n",
       "      <td>0.0</td>\n",
       "      <td>Northern Spain</td>\n",
       "      <td>Viña Mayor</td>\n",
       "    </tr>\n",
       "    <tr>\n",
       "      <th>129884</th>\n",
       "      <td>Spain</td>\n",
       "      <td>Gran Reserva</td>\n",
       "      <td>91.0</td>\n",
       "      <td>43.0</td>\n",
       "      <td>Northern Spain</td>\n",
       "      <td>Valserrano</td>\n",
       "    </tr>\n",
       "  </tbody>\n",
       "</table>\n",
       "<p>1485 rows × 6 columns</p>\n",
       "</div>"
      ],
      "text/plain": [
       "       country                           designation  points  price  \\\n",
       "1        Spain  Carodorum Selección Especial Reserva    96.0  110.0   \n",
       "17       Spain                6 Años Reserva Premium    95.0   80.0   \n",
       "21       Spain               Prado Enea Gran Reserva    95.0   79.0   \n",
       "128      Spain                       Arnegui Reserva    90.0   22.0   \n",
       "152      Spain                          Brut Reserva    89.0   17.0   \n",
       "...        ...                                   ...     ...    ...   \n",
       "129727   Spain                               Reserva    90.0   18.0   \n",
       "129737   Spain             Viña Olagosa Gran Reserva    90.0   21.0   \n",
       "129789   Spain                        Clisos Reserva    89.0   19.0   \n",
       "129794   Spain                       Secreto Reserva    89.0    0.0   \n",
       "129884   Spain                          Gran Reserva    91.0   43.0   \n",
       "\n",
       "              province                   winery  \n",
       "1       Northern Spain  Bodega Carmen Rodríguez  \n",
       "17      Northern Spain                 Valduero  \n",
       "21      Northern Spain                     Muga  \n",
       "128     Northern Spain            Pagos del Rey  \n",
       "152          Catalonia                  Bohigas  \n",
       "...                ...                      ...  \n",
       "129727  Northern Spain                    Taron  \n",
       "129737  Northern Spain           Bodegas Perica  \n",
       "129789  Northern Spain       Federico Paternina  \n",
       "129794  Northern Spain               Viña Mayor  \n",
       "129884  Northern Spain               Valserrano  \n",
       "\n",
       "[1485 rows x 6 columns]"
      ]
     },
     "execution_count": 50,
     "metadata": {},
     "output_type": "execute_result"
    }
   ],
   "source": [
    "# Subset is displayed\n",
    "spanish_df"
   ]
  },
  {
   "cell_type": "markdown",
   "id": "e861a5cc",
   "metadata": {},
   "source": [
    "# 6. Of the previous sub-set with the Spanish reserve wines, do they have a higher average score than all the wines or a lower one?\n"
   ]
  },
  {
   "cell_type": "code",
   "execution_count": 51,
   "id": "be129c7d",
   "metadata": {},
   "outputs": [
    {
     "name": "stdout",
     "output_type": "stream",
     "text": [
      "<class 'pandas.core.frame.DataFrame'>\n",
      "Int64Index: 1485 entries, 1 to 129884\n",
      "Data columns (total 6 columns):\n",
      " #   Column       Non-Null Count  Dtype  \n",
      "---  ------       --------------  -----  \n",
      " 0   country      1485 non-null   object \n",
      " 1   designation  1485 non-null   object \n",
      " 2   points       1485 non-null   float64\n",
      " 3   price        1485 non-null   float64\n",
      " 4   province     1485 non-null   object \n",
      " 5   winery       1485 non-null   object \n",
      "dtypes: float64(2), object(4)\n",
      "memory usage: 81.2+ KB\n"
     ]
    }
   ],
   "source": [
    "# 'points' columns has Object datatype. Must be changed to float to enable mean calculation.\n",
    "spanish_df.info()\n"
   ]
  },
  {
   "cell_type": "code",
   "execution_count": 52,
   "id": "3d81ddb6",
   "metadata": {},
   "outputs": [],
   "source": [
    "# The 'points' column datatype is changed to float in both the main DataFrame and the subset \n",
    "\n",
    "single_df = single_df.astype({'points': 'float'})\n",
    "\n",
    "spanish_df = spanish_df.astype({'points':'float'})"
   ]
  },
  {
   "cell_type": "code",
   "execution_count": 53,
   "id": "cc485239",
   "metadata": {},
   "outputs": [
    {
     "name": "stdout",
     "output_type": "stream",
     "text": [
      "<class 'pandas.core.frame.DataFrame'>\n",
      "Int64Index: 1485 entries, 1 to 129884\n",
      "Data columns (total 6 columns):\n",
      " #   Column       Non-Null Count  Dtype  \n",
      "---  ------       --------------  -----  \n",
      " 0   country      1485 non-null   object \n",
      " 1   designation  1485 non-null   object \n",
      " 2   points       1485 non-null   float64\n",
      " 3   price        1485 non-null   float64\n",
      " 4   province     1485 non-null   object \n",
      " 5   winery       1485 non-null   object \n",
      "dtypes: float64(2), object(4)\n",
      "memory usage: 81.2+ KB\n"
     ]
    }
   ],
   "source": [
    "# Column datatypes are checked again to ensure that changes have been applied correctly\n",
    "spanish_df.info()"
   ]
  },
  {
   "cell_type": "code",
   "execution_count": 54,
   "id": "be297096",
   "metadata": {},
   "outputs": [
    {
     "data": {
      "text/plain": [
       "88.55"
      ]
     },
     "execution_count": 54,
     "metadata": {},
     "output_type": "execute_result"
    }
   ],
   "source": [
    "# The mean for the 'points' column in the main dataframe is obtained and rounded to two decimal places\n",
    "round(single_df.points.mean(), 2)"
   ]
  },
  {
   "cell_type": "code",
   "execution_count": 55,
   "id": "890a26f5",
   "metadata": {},
   "outputs": [
    {
     "data": {
      "text/plain": [
       "88.22"
      ]
     },
     "execution_count": 55,
     "metadata": {},
     "output_type": "execute_result"
    }
   ],
   "source": [
    "# The mean for the 'points' column in the subset is obtained and rounded to two decimal places\n",
    "round(spanish_df.points.mean(), 2)"
   ]
  },
  {
   "cell_type": "markdown",
   "id": "101c55b8",
   "metadata": {},
   "source": [
    "As seen in the two previous cells, the average score of spanish wines is slightly lower than the score of all the wines."
   ]
  },
  {
   "cell_type": "markdown",
   "id": "49454f5d",
   "metadata": {},
   "source": [
    "# 7. Take again the sub-set of Spanish reserve wines, in general, in Spain the wines from Rioja (a province in the north of Spain, North Spain will appear in the dataset) have great fame, therefore , it is to be expected that this province or region is the one with the most wines in this sub-set, check whether this statement is true graphically."
   ]
  },
  {
   "cell_type": "code",
   "execution_count": 56,
   "id": "0ab18851",
   "metadata": {},
   "outputs": [
    {
     "data": {
      "image/png": "[encoded data removed]",
      "text/plain": [
       "<Figure size 640x480 with 1 Axes>"
      ]
     },
     "metadata": {},
     "output_type": "display_data"
    }
   ],
   "source": [
    "# A count plot is generated using 'province' column as x value\n",
    "ax = sns.countplot(x='province', data= spanish_df, palette= \"pastel\")\n",
    "\n",
    "# X labels are rotated to avoid label overlapping on plot\n",
    "ax.set_xticklabels(ax.get_xticklabels(), rotation=40, ha=\"right\")\n",
    "\n",
    "# A title is added to the plot\n",
    "plt.title(\"Spanish Reserve Wines by Province\")\n",
    "\n",
    "plt.show()"
   ]
  },
  {
   "cell_type": "markdown",
   "id": "821b0524",
   "metadata": {},
   "source": [
    "# 8. Shows the top 10 of the best valued wines.\n"
   ]
  },
  {
   "cell_type": "code",
   "execution_count": 101,
   "id": "c9d9a8c1",
   "metadata": {},
   "outputs": [
    {
     "data": {
      "text/html": [
       "<div>\n",
       "<style scoped>\n",
       "    .dataframe tbody tr th:only-of-type {\n",
       "        vertical-align: middle;\n",
       "    }\n",
       "\n",
       "    .dataframe tbody tr th {\n",
       "        vertical-align: top;\n",
       "    }\n",
       "\n",
       "    .dataframe thead th {\n",
       "        text-align: right;\n",
       "    }\n",
       "</style>\n",
       "<table border=\"1\" class=\"dataframe\">\n",
       "  <thead>\n",
       "    <tr style=\"text-align: right;\">\n",
       "      <th></th>\n",
       "      <th>country</th>\n",
       "      <th>designation</th>\n",
       "      <th>points</th>\n",
       "      <th>price</th>\n",
       "      <th>province</th>\n",
       "      <th>winery</th>\n",
       "    </tr>\n",
       "  </thead>\n",
       "  <tbody>\n",
       "    <tr>\n",
       "      <th>28954</th>\n",
       "      <td>Italy</td>\n",
       "      <td>Guado de' Gemoli</td>\n",
       "      <td>100.0</td>\n",
       "      <td>195.0</td>\n",
       "      <td>Tuscany</td>\n",
       "      <td>Giovanni Chiappini</td>\n",
       "    </tr>\n",
       "    <tr>\n",
       "      <th>7335</th>\n",
       "      <td>Italy</td>\n",
       "      <td>Occhio di Pernice</td>\n",
       "      <td>100.0</td>\n",
       "      <td>210.0</td>\n",
       "      <td>Tuscany</td>\n",
       "      <td>Avignonesi</td>\n",
       "    </tr>\n",
       "    <tr>\n",
       "      <th>19354</th>\n",
       "      <td>US</td>\n",
       "      <td>En Chamberlin Vineyard</td>\n",
       "      <td>100.0</td>\n",
       "      <td>65.0</td>\n",
       "      <td>Oregon</td>\n",
       "      <td>Cayuse</td>\n",
       "    </tr>\n",
       "    <tr>\n",
       "      <th>345</th>\n",
       "      <td>Australia</td>\n",
       "      <td>Rare</td>\n",
       "      <td>100.0</td>\n",
       "      <td>350.0</td>\n",
       "      <td>Victoria</td>\n",
       "      <td>Chambers Rosewood Vineyards</td>\n",
       "    </tr>\n",
       "    <tr>\n",
       "      <th>24151</th>\n",
       "      <td>Italy</td>\n",
       "      <td>Masseto</td>\n",
       "      <td>100.0</td>\n",
       "      <td>460.0</td>\n",
       "      <td>Tuscany</td>\n",
       "      <td>Tenuta dell'Ornellaia</td>\n",
       "    </tr>\n",
       "    <tr>\n",
       "      <th>26296</th>\n",
       "      <td>France</td>\n",
       "      <td>Clos du Mesnil</td>\n",
       "      <td>100.0</td>\n",
       "      <td>1400.0</td>\n",
       "      <td>Champagne</td>\n",
       "      <td>Krug</td>\n",
       "    </tr>\n",
       "    <tr>\n",
       "      <th>36528</th>\n",
       "      <td>France</td>\n",
       "      <td>Brut</td>\n",
       "      <td>100.0</td>\n",
       "      <td>259.0</td>\n",
       "      <td>Champagne</td>\n",
       "      <td>Krug</td>\n",
       "    </tr>\n",
       "    <tr>\n",
       "      <th>92916</th>\n",
       "      <td>US</td>\n",
       "      <td>Hillside Select</td>\n",
       "      <td>100.0</td>\n",
       "      <td>215.0</td>\n",
       "      <td>California</td>\n",
       "      <td>Shafer</td>\n",
       "    </tr>\n",
       "    <tr>\n",
       "      <th>118058</th>\n",
       "      <td>US</td>\n",
       "      <td>La Muse</td>\n",
       "      <td>100.0</td>\n",
       "      <td>450.0</td>\n",
       "      <td>California</td>\n",
       "      <td>Verité</td>\n",
       "    </tr>\n",
       "    <tr>\n",
       "      <th>98647</th>\n",
       "      <td>US</td>\n",
       "      <td>Litton Estate Vineyard</td>\n",
       "      <td>100.0</td>\n",
       "      <td>100.0</td>\n",
       "      <td>California</td>\n",
       "      <td>Williams Selyem</td>\n",
       "    </tr>\n",
       "  </tbody>\n",
       "</table>\n",
       "</div>"
      ],
      "text/plain": [
       "          country             designation  points   price    province  \\\n",
       "28954       Italy        Guado de' Gemoli   100.0   195.0     Tuscany   \n",
       "7335        Italy       Occhio di Pernice   100.0   210.0     Tuscany   \n",
       "19354          US  En Chamberlin Vineyard   100.0    65.0      Oregon   \n",
       "345     Australia                    Rare   100.0   350.0    Victoria   \n",
       "24151       Italy                 Masseto   100.0   460.0     Tuscany   \n",
       "26296      France          Clos du Mesnil   100.0  1400.0   Champagne   \n",
       "36528      France                    Brut   100.0   259.0   Champagne   \n",
       "92916          US         Hillside Select   100.0   215.0  California   \n",
       "118058         US                 La Muse   100.0   450.0  California   \n",
       "98647          US  Litton Estate Vineyard   100.0   100.0  California   \n",
       "\n",
       "                             winery  \n",
       "28954            Giovanni Chiappini  \n",
       "7335                     Avignonesi  \n",
       "19354                        Cayuse  \n",
       "345     Chambers Rosewood Vineyards  \n",
       "24151         Tenuta dell'Ornellaia  \n",
       "26296                          Krug  \n",
       "36528                          Krug  \n",
       "92916                        Shafer  \n",
       "118058                       Verité  \n",
       "98647               Williams Selyem  "
      ]
     },
     "execution_count": 101,
     "metadata": {},
     "output_type": "execute_result"
    }
   ],
   "source": [
    "# 'points' column is sorted in descending order and the first 10 rows are displayed\n",
    "\n",
    "single_df.sort_values(by=\"points\", ascending= False)[0:10]"
   ]
  },
  {
   "cell_type": "markdown",
   "id": "49774784",
   "metadata": {},
   "source": [
    "# 9. Shows the average price of wines in each country. Which country has the highest average price? Does this country appear in the top 10 above?\n"
   ]
  },
  {
   "cell_type": "code",
   "execution_count": 61,
   "id": "eca9d511",
   "metadata": {},
   "outputs": [
    {
     "name": "stdout",
     "output_type": "stream",
     "text": [
      "country\n",
      "Argentina                 26.268494\n",
      "Armenia                   14.500000\n",
      "Australia                 38.229518\n",
      "Austria                   27.653320\n",
      "Bosnia and Herzegovina    13.000000\n",
      "Brazil                    22.719298\n",
      "Bulgaria                  16.060000\n",
      "Canada                    39.725926\n",
      "Chile                     21.220980\n",
      "China                     12.500000\n",
      "Croatia                   25.170213\n",
      "Cyprus                    16.100000\n",
      "Czech Republic            22.000000\n",
      "Egypt                      0.000000\n",
      "England                   48.507042\n",
      "France                    32.420252\n",
      "Georgia                   19.493827\n",
      "Germany                   43.407932\n",
      "Greece                    22.687126\n",
      "Hungary                   50.127854\n",
      "India                     15.571429\n",
      "Israel                    31.453471\n",
      "Italy                     35.428341\n",
      "Japan                     24.000000\n",
      "Lebanon                   31.120000\n",
      "Lithuania                 10.000000\n",
      "Luxembourg                29.875000\n",
      "Macedonia                 16.875000\n",
      "Mexico                    27.494382\n",
      "Moldova                   17.698795\n",
      "Morocco                   21.666667\n",
      "New Zealand               28.275956\n",
      "Peru                      18.333333\n",
      "Portugal                  22.903593\n",
      "Romania                   17.515337\n",
      "Serbia                    26.000000\n",
      "Slovenia                  25.288660\n",
      "South Africa              24.508772\n",
      "South Korea               13.500000\n",
      "Spain                     30.133550\n",
      "Switzerland               30.166667\n",
      "Tunisia                    0.000000\n",
      "Turkey                    26.963415\n",
      "US                        39.534790\n",
      "Ukraine                   10.705882\n",
      "Uruguay                   26.330709\n",
      "Name: price, dtype: float64\n"
     ]
    }
   ],
   "source": [
    "# DataFrame is grouped by country and mean function is applied. 'price' column is the displayed\n",
    "price_wines = single_df.groupby([\"country\"]).mean()[\"price\"]\n",
    "print(price_wines)"
   ]
  },
  {
   "cell_type": "code",
   "execution_count": 62,
   "id": "c346f0c6",
   "metadata": {},
   "outputs": [
    {
     "name": "stdout",
     "output_type": "stream",
     "text": [
      "The country has the highest average price:  Hungary\n"
     ]
    }
   ],
   "source": [
    "# The index name of the country with the highest average price is obtained using Series.idxmax() method\n",
    "\n",
    "print(\"The country has the highest average price: \", price_wines.idxmax())"
   ]
  },
  {
   "cell_type": "markdown",
   "id": "1adf24a8",
   "metadata": {},
   "source": [
    "Hungary does not appear in the top 10 best valued wines"
   ]
  },
  {
   "cell_type": "markdown",
   "id": "a7cc3ecc",
   "metadata": {},
   "source": [
    "# 10. Graphically shows the price over the score based on the province of the subset of Spanish reserve wines. Which province has the most expensive wine? Is the north of Spain still the province with the best valued reserve wine?\n"
   ]
  },
  {
   "cell_type": "code",
   "execution_count": 63,
   "id": "ead70bef",
   "metadata": {},
   "outputs": [
    {
     "data": {
      "image/png": "[encoded data removed]",
      "text/plain": [
       "<Figure size 654.875x500 with 1 Axes>"
      ]
     },
     "metadata": {},
     "output_type": "display_data"
    }
   ],
   "source": [
    "# Strip plot is generated using 'points' as X value and 'price' as Y value\n",
    "ax2 = sns.catplot(data= spanish_df, x= \"points\", y= \"price\", hue= \"province\", kind= \"strip\")\n",
    "\n",
    "# A title is added to the plot\n",
    "plt.title(\"Price over score of Spanish reserve wines color mapped by region\")\n",
    "\n",
    "#X labels are rotated to avoid label overlapping\n",
    "plt.xticks(rotation=45)\n",
    "\n",
    "plt.show()"
   ]
  },
  {
   "cell_type": "markdown",
   "id": "fcc4c8ca",
   "metadata": {},
   "source": [
    "The province with the most expensive wine is the north of Spain.\n",
    "\n",
    "The north of Spain is still the province with the best valued reserve wine, since the vast majority of wines with the highest score belong to this region."
   ]
  }
 ],
 "metadata": {
  "kernelspec": {
   "display_name": "Python 3 (ipykernel)",
   "language": "python",
   "name": "python3"
  },
  "language_info": {
   "codemirror_mode": {
    "name": "ipython",
    "version": 3
   },
   "file_extension": ".py",
   "mimetype": "text/x-python",
   "name": "python",
   "nbconvert_exporter": "python",
   "pygments_lexer": "ipython3",
   "version": "3.9.12"
  },
  "toc": {
   "base_numbering": 1,
   "nav_menu": {},
   "number_sections": false,
   "sideBar": true,
   "skip_h1_title": false,
   "title_cell": "Table of Contents",
   "title_sidebar": "Contents",
   "toc_cell": false,
   "toc_position": {},
   "toc_section_display": true,
   "toc_window_display": false
  }
 },
 "nbformat": 4,
 "nbformat_minor": 5
}
