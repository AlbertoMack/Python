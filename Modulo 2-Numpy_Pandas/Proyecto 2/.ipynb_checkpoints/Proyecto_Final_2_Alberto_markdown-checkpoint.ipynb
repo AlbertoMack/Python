{
 "cells": [
  {
   "cell_type": "code",
   "execution_count": 1,
   "id": "e0e3a8a6",
   "metadata": {},
   "outputs": [],
   "source": [
    "import numpy as np\n",
    "import pandas as pd\n",
    "import os\n",
    "import matplotlib.pyplot as plt\n",
    "import seaborn as sns\n",
    "import math\n",
    "import wget"
   ]
  },
  {
   "cell_type": "markdown",
   "id": "bbf9b1a9",
   "metadata": {},
   "source": [
    "## 1. Join the twelve dataframes from January to December into a single dataframe. Shows the total shape of the resulting dataframe."
   ]
  },
  {
   "cell_type": "code",
   "execution_count": 2,
   "id": "81ef3c23",
   "metadata": {},
   "outputs": [],
   "source": [
    "# # Download the data from internet\n",
    "# https://datos.madrid.es/egob/catalogo/210104-290-multas-circulacion-detalle.csv\n",
    "lista1=[]\n",
    "for i in range(270,294,2):\n",
    "    url =f'https://datos.madrid.es/egob/catalogo/210104-{i}-multas-circulacion-detalle.csv'\n",
    "    lista1.append(wget.download(url))"
   ]
  },
  {
   "cell_type": "code",
   "execution_count": 3,
   "id": "4ad8e277",
   "metadata": {},
   "outputs": [
    {
     "data": {
      "text/plain": [
       "['210104-270-multas-circulacion-detalle.csv',\n",
       " '210104-272-multas-circulacion-detalle.csv',\n",
       " '210104-274-multas-circulacion-detalle.csv',\n",
       " '210104-276-multas-circulacion-detalle.csv',\n",
       " '210104-278-multas-circulacion-detalle.csv',\n",
       " '210104-280-multas-circulacion-detalle.csv',\n",
       " '210104-282-multas-circulacion-detalle.csv',\n",
       " '210104-284-multas-circulacion-detalle.csv',\n",
       " '210104-286-multas-circulacion-detalle.csv',\n",
       " '210104-288-multas-circulacion-detalle.csv',\n",
       " '210104-290-multas-circulacion-detalle.csv',\n",
       " '210104-292-multas-circulacion-detalle.csv']"
      ]
     },
     "execution_count": 3,
     "metadata": {},
     "output_type": "execute_result"
    }
   ],
   "source": [
    "lista1"
   ]
  },
  {
   "cell_type": "code",
   "execution_count": 4,
   "id": "deccb096",
   "metadata": {},
   "outputs": [
    {
     "name": "stderr",
     "output_type": "stream",
     "text": [
      "C:\\Users\\estee\\AppData\\Local\\Temp\\ipykernel_18548\\1276628637.py:4: DtypeWarning: Columns (10,11) have mixed types. Specify dtype option on import or set low_memory=False.\n",
      "  j=pd.read_csv(lista1[i],sep=\";\",encoding=\"Latin1\") #enero.csv,febrero.csv...\n"
     ]
    }
   ],
   "source": [
    "lista_meses=[\"enero\", \"febrero\", \"marzo\", \"abril\", \"mayo\", \"junio\", \"julio\", \"agosto\", \"septiembre\", \"octubre\", \"noviembre\", \"diciembre\"]\n",
    "lista_csv=[]\n",
    "for i,j in enumerate(lista_meses):  \n",
    "    j=pd.read_csv(lista1[i],sep=\";\",encoding=\"Latin1\") #enero.csv,febrero.csv...\n",
    "    j.columns=['CALIFICACION', 'LUGAR', 'MES', 'ANIO', 'HORA', 'IMP_BOL', 'DESCUENTO','PUNTOS', \n",
    " 'DENUNCIANTE', 'HECHO-BOL', 'VEL_LIMITE', 'VEL_CIRCULA','COORDENADA-X','COORDENADA-Y']\n",
    "    lista_csv.append(j)\n"
   ]
  },
  {
   "cell_type": "markdown",
   "id": "6cd6424d",
   "metadata": {},
   "source": [
    "By giving us compatibility error because it detects variations in some of the columns of the CSV, we have created a list of CSVs and a list of columns, to normalize the texts of the columns to finally join them and create a unique dataframe."
   ]
  },
  {
   "cell_type": "code",
   "execution_count": 5,
   "id": "593fcaee",
   "metadata": {},
   "outputs": [],
   "source": [
    "# We unite all the CSVs.\n",
    "df_all=pd.DataFrame()\n",
    "for i in lista_csv:\n",
    "    df_all=pd.concat([df_all,i])\n",
    "    "
   ]
  },
  {
   "cell_type": "code",
   "execution_count": 6,
   "id": "98028ad7",
   "metadata": {},
   "outputs": [
    {
     "name": "stdout",
     "output_type": "stream",
     "text": [
      "<class 'pandas.core.frame.DataFrame'>\n",
      "Int64Index: 1993304 entries, 0 to 205938\n",
      "Data columns (total 14 columns):\n",
      " #   Column        Dtype  \n",
      "---  ------        -----  \n",
      " 0   CALIFICACION  object \n",
      " 1   LUGAR         object \n",
      " 2   MES           int64  \n",
      " 3   ANIO          int64  \n",
      " 4   HORA          float64\n",
      " 5   IMP_BOL       float64\n",
      " 6   DESCUENTO     object \n",
      " 7   PUNTOS        int64  \n",
      " 8   DENUNCIANTE   object \n",
      " 9   HECHO-BOL     object \n",
      " 10  VEL_LIMITE    object \n",
      " 11  VEL_CIRCULA   object \n",
      " 12  COORDENADA-X  object \n",
      " 13  COORDENADA-Y  object \n",
      "dtypes: float64(2), int64(3), object(9)\n",
      "memory usage: 228.1+ MB\n"
     ]
    }
   ],
   "source": [
    "df_all.info()"
   ]
  },
  {
   "cell_type": "markdown",
   "id": "cbfa9ca6",
   "metadata": {},
   "source": [
    "## 2. As such, we are not going to work with geographic data, delete the __COORDENADA_X__ and __COORDENADA_Y__ columns."
   ]
  },
  {
   "cell_type": "code",
   "execution_count": 7,
   "id": "f397bb6a",
   "metadata": {},
   "outputs": [
    {
     "data": {
      "text/plain": [
       "Index(['CALIFICACION', 'LUGAR', 'MES', 'ANIO', 'HORA', 'IMP_BOL', 'DESCUENTO',\n",
       "       'PUNTOS', 'DENUNCIANTE', 'HECHO-BOL', 'VEL_LIMITE', 'VEL_CIRCULA',\n",
       "       'COORDENADA-X', 'COORDENADA-Y'],\n",
       "      dtype='object')"
      ]
     },
     "execution_count": 7,
     "metadata": {},
     "output_type": "execute_result"
    }
   ],
   "source": [
    "df_all.columns"
   ]
  },
  {
   "cell_type": "code",
   "execution_count": 8,
   "id": "02dabf56",
   "metadata": {},
   "outputs": [],
   "source": [
    "# Coordinate columns were ignored\n",
    "df_all2=df_all[['CALIFICACION', 'LUGAR', 'MES', 'ANIO', 'HORA', 'IMP_BOL', 'DESCUENTO',\n",
    "       'PUNTOS', 'DENUNCIANTE', 'HECHO-BOL', 'VEL_LIMITE', 'VEL_CIRCULA',]]"
   ]
  },
  {
   "cell_type": "markdown",
   "id": "e49bc247",
   "metadata": {},
   "source": [
    "## 3. Check the unique values of the variables, there are some of them that do not have unique values, so they are constants, is it worth having them in the dataframe?"
   ]
  },
  {
   "cell_type": "code",
   "execution_count": 9,
   "id": "955ccc88",
   "metadata": {},
   "outputs": [
    {
     "data": {
      "text/plain": [
       "array(['SI'], dtype=object)"
      ]
     },
     "execution_count": 9,
     "metadata": {},
     "output_type": "execute_result"
    }
   ],
   "source": [
    "df_all2.DESCUENTO.unique()"
   ]
  },
  {
   "cell_type": "code",
   "execution_count": 10,
   "id": "ac08930a",
   "metadata": {},
   "outputs": [
    {
     "data": {
      "text/plain": [
       "array([2020], dtype=int64)"
      ]
     },
     "execution_count": 10,
     "metadata": {},
     "output_type": "execute_result"
    }
   ],
   "source": [
    "df_all2.ANIO.unique()"
   ]
  },
  {
   "cell_type": "markdown",
   "id": "36e961cc",
   "metadata": {},
   "source": [
    "When verifying the columns we have seen that the Year and Discount column are the only ones that have unique value, they could be omitted in the case of dispensing with any more column."
   ]
  },
  {
   "cell_type": "markdown",
   "id": "bb3526af",
   "metadata": {},
   "source": [
    "## 4. It seems that the __VEL_LIMITE__ and __VEL_CIRCULA__ columns have empty values, this is because if the infraction was not caused by exceeding any speed limit, this value appears empty, change all the anomalies you detect to null."
   ]
  },
  {
   "cell_type": "code",
   "execution_count": 11,
   "id": "24082c62",
   "metadata": {},
   "outputs": [
    {
     "data": {
      "text/plain": [
       "       1549853\n",
       " 70     259747\n",
       " 90      92510\n",
       " 50      72859\n",
       "70        6574\n",
       " 80       3688\n",
       " 40       2472\n",
       " 60       2188\n",
       "90        1892\n",
       " 30       1343\n",
       "50         177\n",
       " 20          1\n",
       "Name: VEL_LIMITE, dtype: int64"
      ]
     },
     "execution_count": 11,
     "metadata": {},
     "output_type": "execute_result"
    }
   ],
   "source": [
    "df_all2.VEL_LIMITE.value_counts()"
   ]
  },
  {
   "cell_type": "code",
   "execution_count": 12,
   "id": "c8ce1f5e",
   "metadata": {},
   "outputs": [],
   "source": [
    "# We use the replace function to remove spaces \n",
    "df_all2=df_all2.replace(r'^\\s*$', np.nan, regex=True)"
   ]
  },
  {
   "cell_type": "code",
   "execution_count": 13,
   "id": "f7fd6b37",
   "metadata": {
    "scrolled": true
   },
   "outputs": [
    {
     "data": {
      "text/plain": [
       " 70    259747\n",
       " 90     92510\n",
       " 50     72859\n",
       "70       6574\n",
       " 80      3688\n",
       " 40      2472\n",
       " 60      2188\n",
       "90       1892\n",
       " 30      1343\n",
       "50        177\n",
       " 20         1\n",
       "Name: VEL_LIMITE, dtype: int64"
      ]
     },
     "execution_count": 13,
     "metadata": {},
     "output_type": "execute_result"
    }
   ],
   "source": [
    "df_all2.VEL_LIMITE.value_counts()"
   ]
  },
  {
   "cell_type": "markdown",
   "id": "0ab426f2",
   "metadata": {},
   "source": [
    "## 5. The two columns __VEL_LIMITE__ and __VEL_CIRCULA__ despite being two purely numerical columns, are recognized as \"object\" type, check the frequency of values, you will see that they are counted as text strings, therefore:\n",
    "                5.1 Change the nulls of the two variables to 0\n",
    "                5.2 Change the type of the variable to numeric\n",
    "                5.3 What is the most repeated speed limit other than zero?\n"
   ]
  },
  {
   "cell_type": "markdown",
   "id": "2f9e0b03",
   "metadata": {},
   "source": [
    "In the VEL_LIMITE and VEL_CIRCULA column we use the fillna to coverse the nan a zeros, and we pass them to a numeric with the function .to_numeric"
   ]
  },
  {
   "cell_type": "code",
   "execution_count": 14,
   "id": "19dbd992",
   "metadata": {},
   "outputs": [],
   "source": [
    "df_all2[\"VEL_LIMITE\"]=pd.to_numeric(df_all2[\"VEL_LIMITE\"])\n",
    "df_all2[\"VEL_CIRCULA\"]=pd.to_numeric(df_all2[\"VEL_CIRCULA\"])\n",
    "df_all2[\"VEL_LIMITE\"]=df_all2.VEL_LIMITE.fillna(0)\n",
    "df_all2[\"VEL_CIRCULA\"]=df_all2.VEL_CIRCULA.fillna(0)"
   ]
  },
  {
   "cell_type": "code",
   "execution_count": 15,
   "id": "a1166a0b",
   "metadata": {},
   "outputs": [
    {
     "data": {
      "text/plain": [
       "0.0     1549853\n",
       "70.0     266321\n",
       "90.0      94402\n",
       "50.0      73036\n",
       "80.0       3688\n",
       "40.0       2472\n",
       "60.0       2188\n",
       "30.0       1343\n",
       "20.0          1\n",
       "Name: VEL_LIMITE, dtype: int64"
      ]
     },
     "execution_count": 15,
     "metadata": {},
     "output_type": "execute_result"
    }
   ],
   "source": [
    "df_all2.VEL_LIMITE.value_counts()"
   ]
  },
  {
   "cell_type": "code",
   "execution_count": 16,
   "id": "c9a84886",
   "metadata": {},
   "outputs": [
    {
     "data": {
      "text/plain": [
       "0.0      1549853\n",
       "74.0       44737\n",
       "75.0       37006\n",
       "76.0       31681\n",
       "77.0       27554\n",
       "          ...   \n",
       "153.0          4\n",
       "157.0          3\n",
       "158.0          3\n",
       "156.0          2\n",
       "159.0          2\n",
       "Name: VEL_CIRCULA, Length: 130, dtype: int64"
      ]
     },
     "execution_count": 16,
     "metadata": {},
     "output_type": "execute_result"
    }
   ],
   "source": [
    "df_all2.VEL_CIRCULA.value_counts()"
   ]
  },
  {
   "cell_type": "markdown",
   "id": "d9c92e32",
   "metadata": {},
   "source": [
    "## 6. Generate a new column called DIFFERENCE_KMH that is the result of subtracting from each value of the speed at which the driver was circulating the speed limit at which the infraction occurred, to obtain a top 10 of the drivers who exceeded the limits to higher speed."
   ]
  },
  {
   "cell_type": "code",
   "execution_count": 17,
   "id": "121f5407",
   "metadata": {},
   "outputs": [
    {
     "name": "stdout",
     "output_type": "stream",
     "text": [
      "<class 'pandas.core.frame.DataFrame'>\n",
      "Int64Index: 1993304 entries, 0 to 205938\n",
      "Data columns (total 12 columns):\n",
      " #   Column        Dtype  \n",
      "---  ------        -----  \n",
      " 0   CALIFICACION  object \n",
      " 1   LUGAR         object \n",
      " 2   MES           int64  \n",
      " 3   ANIO          int64  \n",
      " 4   HORA          float64\n",
      " 5   IMP_BOL       float64\n",
      " 6   DESCUENTO     object \n",
      " 7   PUNTOS        int64  \n",
      " 8   DENUNCIANTE   object \n",
      " 9   HECHO-BOL     object \n",
      " 10  VEL_LIMITE    float64\n",
      " 11  VEL_CIRCULA   float64\n",
      "dtypes: float64(4), int64(3), object(5)\n",
      "memory usage: 197.7+ MB\n"
     ]
    }
   ],
   "source": [
    "df_all2.info()"
   ]
  },
  {
   "cell_type": "markdown",
   "id": "bfd57710",
   "metadata": {},
   "source": [
    "We create a new column with a variable and subtract columns VEL_CIRCULA and VEL_LIMITE to get the result from the new column"
   ]
  },
  {
   "cell_type": "code",
   "execution_count": 18,
   "id": "892e4fb1",
   "metadata": {},
   "outputs": [],
   "source": [
    "df_all2[\"DIFFERENCE_KMH\"]=df_all2.VEL_CIRCULA.values-df_all2.VEL_LIMITE"
   ]
  },
  {
   "cell_type": "code",
   "execution_count": 19,
   "id": "fa31ea82",
   "metadata": {},
   "outputs": [
    {
     "data": {
      "text/html": [
       "<div>\n",
       "<style scoped>\n",
       "    .dataframe tbody tr th:only-of-type {\n",
       "        vertical-align: middle;\n",
       "    }\n",
       "\n",
       "    .dataframe tbody tr th {\n",
       "        vertical-align: top;\n",
       "    }\n",
       "\n",
       "    .dataframe thead th {\n",
       "        text-align: right;\n",
       "    }\n",
       "</style>\n",
       "<table border=\"1\" class=\"dataframe\">\n",
       "  <thead>\n",
       "    <tr style=\"text-align: right;\">\n",
       "      <th></th>\n",
       "      <th>CALIFICACION</th>\n",
       "      <th>LUGAR</th>\n",
       "      <th>MES</th>\n",
       "      <th>ANIO</th>\n",
       "      <th>HORA</th>\n",
       "      <th>IMP_BOL</th>\n",
       "      <th>DESCUENTO</th>\n",
       "      <th>PUNTOS</th>\n",
       "      <th>DENUNCIANTE</th>\n",
       "      <th>HECHO-BOL</th>\n",
       "      <th>VEL_LIMITE</th>\n",
       "      <th>VEL_CIRCULA</th>\n",
       "      <th>DIFFERENCE_KMH</th>\n",
       "    </tr>\n",
       "  </thead>\n",
       "  <tbody>\n",
       "    <tr>\n",
       "      <th>71</th>\n",
       "      <td>GRAVE</td>\n",
       "      <td>M 30 FT KM 4,150 CR 1</td>\n",
       "      <td>3</td>\n",
       "      <td>2020</td>\n",
       "      <td>23.43</td>\n",
       "      <td>500.0</td>\n",
       "      <td>SI</td>\n",
       "      <td>6</td>\n",
       "      <td>POLICIA MUNICIPAL</td>\n",
       "      <td>SOBREPASAR LA VELOCIDAD MÁXIMA EN VÍAS LIMITAD...</td>\n",
       "      <td>70.0</td>\n",
       "      <td>140.0</td>\n",
       "      <td>70.0</td>\n",
       "    </tr>\n",
       "    <tr>\n",
       "      <th>75936</th>\n",
       "      <td>GRAVE</td>\n",
       "      <td>M 30 XC KM 10,300 CR 3</td>\n",
       "      <td>9</td>\n",
       "      <td>2020</td>\n",
       "      <td>23.25</td>\n",
       "      <td>500.0</td>\n",
       "      <td>SI</td>\n",
       "      <td>6</td>\n",
       "      <td>POLICIA MUNICIPAL</td>\n",
       "      <td>SOBREPASAR LA VELOCIDAD MÁXIMA EN VÍAS LIMITAD...</td>\n",
       "      <td>70.0</td>\n",
       "      <td>140.0</td>\n",
       "      <td>70.0</td>\n",
       "    </tr>\n",
       "    <tr>\n",
       "      <th>68661</th>\n",
       "      <td>GRAVE</td>\n",
       "      <td>M 30 KM 6,700 CR 3 CALZADA 1</td>\n",
       "      <td>11</td>\n",
       "      <td>2020</td>\n",
       "      <td>7.53</td>\n",
       "      <td>500.0</td>\n",
       "      <td>SI</td>\n",
       "      <td>6</td>\n",
       "      <td>POLICIA MUNICIPAL</td>\n",
       "      <td>SOBREPASAR LA VELOCIDAD MÁXIMA EN VÍAS LIMITAD...</td>\n",
       "      <td>90.0</td>\n",
       "      <td>160.0</td>\n",
       "      <td>70.0</td>\n",
       "    </tr>\n",
       "    <tr>\n",
       "      <th>75935</th>\n",
       "      <td>GRAVE</td>\n",
       "      <td>M 30 KM 7,800 CALZADA 2</td>\n",
       "      <td>9</td>\n",
       "      <td>2020</td>\n",
       "      <td>1.11</td>\n",
       "      <td>500.0</td>\n",
       "      <td>SI</td>\n",
       "      <td>6</td>\n",
       "      <td>POLICIA MUNICIPAL</td>\n",
       "      <td>SOBREPASAR LA VELOCIDAD MÁXIMA EN VÍAS LIMITAD...</td>\n",
       "      <td>90.0</td>\n",
       "      <td>160.0</td>\n",
       "      <td>70.0</td>\n",
       "    </tr>\n",
       "    <tr>\n",
       "      <th>61556</th>\n",
       "      <td>GRAVE</td>\n",
       "      <td>M 30 KM 27 DECRECIENTE C 2</td>\n",
       "      <td>2</td>\n",
       "      <td>2020</td>\n",
       "      <td>4.57</td>\n",
       "      <td>500.0</td>\n",
       "      <td>SI</td>\n",
       "      <td>6</td>\n",
       "      <td>POLICIA MUNICIPAL</td>\n",
       "      <td>SOBREPASAR LA VELOCIDAD MÁXIMA EN VÍAS LIMITAD...</td>\n",
       "      <td>90.0</td>\n",
       "      <td>160.0</td>\n",
       "      <td>70.0</td>\n",
       "    </tr>\n",
       "    <tr>\n",
       "      <th>59480</th>\n",
       "      <td>GRAVE</td>\n",
       "      <td>M 30 KM 27 CARRIL 2 CALZADA 2</td>\n",
       "      <td>10</td>\n",
       "      <td>2020</td>\n",
       "      <td>2.11</td>\n",
       "      <td>500.0</td>\n",
       "      <td>SI</td>\n",
       "      <td>6</td>\n",
       "      <td>POLICIA MUNICIPAL</td>\n",
       "      <td>SOBREPASAR LA VELOCIDAD MÁXIMA EN VÍAS LIMITAD...</td>\n",
       "      <td>90.0</td>\n",
       "      <td>160.0</td>\n",
       "      <td>70.0</td>\n",
       "    </tr>\n",
       "    <tr>\n",
       "      <th>30364</th>\n",
       "      <td>GRAVE</td>\n",
       "      <td>M 30 FT KM 4,150 CR 4</td>\n",
       "      <td>3</td>\n",
       "      <td>2020</td>\n",
       "      <td>20.23</td>\n",
       "      <td>500.0</td>\n",
       "      <td>SI</td>\n",
       "      <td>6</td>\n",
       "      <td>POLICIA MUNICIPAL</td>\n",
       "      <td>SOBREPASAR LA VELOCIDAD MÁXIMA EN VÍAS LIMITAD...</td>\n",
       "      <td>70.0</td>\n",
       "      <td>139.0</td>\n",
       "      <td>69.0</td>\n",
       "    </tr>\n",
       "    <tr>\n",
       "      <th>61555</th>\n",
       "      <td>GRAVE</td>\n",
       "      <td>M 30 FT PK 4,150 CR 4</td>\n",
       "      <td>2</td>\n",
       "      <td>2020</td>\n",
       "      <td>14.06</td>\n",
       "      <td>500.0</td>\n",
       "      <td>SI</td>\n",
       "      <td>6</td>\n",
       "      <td>POLICIA MUNICIPAL</td>\n",
       "      <td>SOBREPASAR LA VELOCIDAD MÁXIMA EN VÍAS LIMITAD...</td>\n",
       "      <td>70.0</td>\n",
       "      <td>139.0</td>\n",
       "      <td>69.0</td>\n",
       "    </tr>\n",
       "    <tr>\n",
       "      <th>69609</th>\n",
       "      <td>GRAVE</td>\n",
       "      <td>M 30 KM 0,500 CALZADA 1</td>\n",
       "      <td>7</td>\n",
       "      <td>2020</td>\n",
       "      <td>5.26</td>\n",
       "      <td>500.0</td>\n",
       "      <td>SI</td>\n",
       "      <td>6</td>\n",
       "      <td>POLICIA MUNICIPAL</td>\n",
       "      <td>SOBREPASAR LA VELOCIDAD MÁXIMA EN VÍAS LIMITAD...</td>\n",
       "      <td>90.0</td>\n",
       "      <td>159.0</td>\n",
       "      <td>69.0</td>\n",
       "    </tr>\n",
       "    <tr>\n",
       "      <th>59479</th>\n",
       "      <td>GRAVE</td>\n",
       "      <td>M 30 KM 6,700 CALZADA 1 CR 3</td>\n",
       "      <td>10</td>\n",
       "      <td>2020</td>\n",
       "      <td>2.06</td>\n",
       "      <td>500.0</td>\n",
       "      <td>SI</td>\n",
       "      <td>6</td>\n",
       "      <td>POLICIA MUNICIPAL</td>\n",
       "      <td>SOBREPASAR LA VELOCIDAD MÁXIMA EN VÍAS LIMITAD...</td>\n",
       "      <td>90.0</td>\n",
       "      <td>159.0</td>\n",
       "      <td>69.0</td>\n",
       "    </tr>\n",
       "  </tbody>\n",
       "</table>\n",
       "</div>"
      ],
      "text/plain": [
       "      CALIFICACION                                     LUGAR  MES  ANIO  \\\n",
       "71      GRAVE       M 30 FT KM 4,150 CR 1                       3  2020   \n",
       "75936   GRAVE       M 30 XC KM 10,300 CR 3                      9  2020   \n",
       "68661   GRAVE       M 30 KM 6,700 CR 3 CALZADA 1               11  2020   \n",
       "75935   GRAVE       M 30 KM 7,800 CALZADA 2                     9  2020   \n",
       "61556   GRAVE       M 30 KM 27 DECRECIENTE C 2                  2  2020   \n",
       "59480   GRAVE       M 30 KM 27 CARRIL 2 CALZADA 2              10  2020   \n",
       "30364   GRAVE       M 30 FT KM 4,150 CR 4                       3  2020   \n",
       "61555   GRAVE       M 30 FT PK 4,150 CR 4                       2  2020   \n",
       "69609   GRAVE       M 30 KM 0,500 CALZADA 1                     7  2020   \n",
       "59479   GRAVE       M 30 KM 6,700 CALZADA 1 CR 3               10  2020   \n",
       "\n",
       "        HORA  IMP_BOL DESCUENTO  PUNTOS           DENUNCIANTE  \\\n",
       "71     23.43    500.0        SI       6  POLICIA MUNICIPAL      \n",
       "75936  23.25    500.0        SI       6  POLICIA MUNICIPAL      \n",
       "68661   7.53    500.0        SI       6  POLICIA MUNICIPAL      \n",
       "75935   1.11    500.0        SI       6  POLICIA MUNICIPAL      \n",
       "61556   4.57    500.0        SI       6  POLICIA MUNICIPAL      \n",
       "59480   2.11    500.0        SI       6  POLICIA MUNICIPAL      \n",
       "30364  20.23    500.0        SI       6  POLICIA MUNICIPAL      \n",
       "61555  14.06    500.0        SI       6  POLICIA MUNICIPAL      \n",
       "69609   5.26    500.0        SI       6  POLICIA MUNICIPAL      \n",
       "59479   2.06    500.0        SI       6  POLICIA MUNICIPAL      \n",
       "\n",
       "                                               HECHO-BOL  VEL_LIMITE  \\\n",
       "71     SOBREPASAR LA VELOCIDAD MÁXIMA EN VÍAS LIMITAD...        70.0   \n",
       "75936  SOBREPASAR LA VELOCIDAD MÁXIMA EN VÍAS LIMITAD...        70.0   \n",
       "68661  SOBREPASAR LA VELOCIDAD MÁXIMA EN VÍAS LIMITAD...        90.0   \n",
       "75935  SOBREPASAR LA VELOCIDAD MÁXIMA EN VÍAS LIMITAD...        90.0   \n",
       "61556  SOBREPASAR LA VELOCIDAD MÁXIMA EN VÍAS LIMITAD...        90.0   \n",
       "59480  SOBREPASAR LA VELOCIDAD MÁXIMA EN VÍAS LIMITAD...        90.0   \n",
       "30364  SOBREPASAR LA VELOCIDAD MÁXIMA EN VÍAS LIMITAD...        70.0   \n",
       "61555  SOBREPASAR LA VELOCIDAD MÁXIMA EN VÍAS LIMITAD...        70.0   \n",
       "69609  SOBREPASAR LA VELOCIDAD MÁXIMA EN VÍAS LIMITAD...        90.0   \n",
       "59479  SOBREPASAR LA VELOCIDAD MÁXIMA EN VÍAS LIMITAD...        90.0   \n",
       "\n",
       "       VEL_CIRCULA  DIFFERENCE_KMH  \n",
       "71           140.0            70.0  \n",
       "75936        140.0            70.0  \n",
       "68661        160.0            70.0  \n",
       "75935        160.0            70.0  \n",
       "61556        160.0            70.0  \n",
       "59480        160.0            70.0  \n",
       "30364        139.0            69.0  \n",
       "61555        139.0            69.0  \n",
       "69609        159.0            69.0  \n",
       "59479        159.0            69.0  "
      ]
     },
     "execution_count": 19,
     "metadata": {},
     "output_type": "execute_result"
    }
   ],
   "source": [
    "df_all2.sort_values(by=\"DIFFERENCE_KMH\",ascending=False).head(10)"
   ]
  },
  {
   "cell_type": "markdown",
   "id": "0d3582d1",
   "metadata": {},
   "source": [
    "## 7. Obtain a dataframe filtered by all the complaints that have led to the withdrawal of points (that is, points other than zero). Group the dataframe filtered by the public agent that issues the complaint, which of all the public agents has a higher average point withdrawal?"
   ]
  },
  {
   "cell_type": "markdown",
   "id": "072a0d75",
   "metadata": {},
   "source": [
    "With this variable we define the exercise of obtaining the points of each agent and their average"
   ]
  },
  {
   "cell_type": "code",
   "execution_count": 20,
   "id": "d25bf40f",
   "metadata": {},
   "outputs": [
    {
     "data": {
      "text/html": [
       "<div>\n",
       "<style scoped>\n",
       "    .dataframe tbody tr th:only-of-type {\n",
       "        vertical-align: middle;\n",
       "    }\n",
       "\n",
       "    .dataframe tbody tr th {\n",
       "        vertical-align: top;\n",
       "    }\n",
       "\n",
       "    .dataframe thead th {\n",
       "        text-align: right;\n",
       "    }\n",
       "</style>\n",
       "<table border=\"1\" class=\"dataframe\">\n",
       "  <thead>\n",
       "    <tr style=\"text-align: right;\">\n",
       "      <th></th>\n",
       "      <th>DENUNCIANTE</th>\n",
       "      <th>PUNTOS</th>\n",
       "    </tr>\n",
       "  </thead>\n",
       "  <tbody>\n",
       "    <tr>\n",
       "      <th>0</th>\n",
       "      <td>POLICIA MUNICIPAL</td>\n",
       "      <td>3</td>\n",
       "    </tr>\n",
       "    <tr>\n",
       "      <th>11</th>\n",
       "      <td>POLICIA MUNICIPAL</td>\n",
       "      <td>3</td>\n",
       "    </tr>\n",
       "    <tr>\n",
       "      <th>17</th>\n",
       "      <td>POLICIA MUNICIPAL</td>\n",
       "      <td>4</td>\n",
       "    </tr>\n",
       "    <tr>\n",
       "      <th>25</th>\n",
       "      <td>POLICIA MUNICIPAL</td>\n",
       "      <td>4</td>\n",
       "    </tr>\n",
       "    <tr>\n",
       "      <th>87</th>\n",
       "      <td>AGENTES DE MOVILIDAD</td>\n",
       "      <td>4</td>\n",
       "    </tr>\n",
       "    <tr>\n",
       "      <th>...</th>\n",
       "      <td>...</td>\n",
       "      <td>...</td>\n",
       "    </tr>\n",
       "    <tr>\n",
       "      <th>195775</th>\n",
       "      <td>POLICIA MUNICIPAL</td>\n",
       "      <td>3</td>\n",
       "    </tr>\n",
       "    <tr>\n",
       "      <th>195776</th>\n",
       "      <td>POLICIA MUNICIPAL</td>\n",
       "      <td>6</td>\n",
       "    </tr>\n",
       "    <tr>\n",
       "      <th>195778</th>\n",
       "      <td>POLICIA MUNICIPAL</td>\n",
       "      <td>4</td>\n",
       "    </tr>\n",
       "    <tr>\n",
       "      <th>195779</th>\n",
       "      <td>POLICIA MUNICIPAL</td>\n",
       "      <td>3</td>\n",
       "    </tr>\n",
       "    <tr>\n",
       "      <th>195780</th>\n",
       "      <td>POLICIA MUNICIPAL</td>\n",
       "      <td>6</td>\n",
       "    </tr>\n",
       "  </tbody>\n",
       "</table>\n",
       "<p>60826 rows × 2 columns</p>\n",
       "</div>"
      ],
      "text/plain": [
       "                 DENUNCIANTE  PUNTOS\n",
       "0       POLICIA MUNICIPAL          3\n",
       "11      POLICIA MUNICIPAL          3\n",
       "17      POLICIA MUNICIPAL          4\n",
       "25      POLICIA MUNICIPAL          4\n",
       "87      AGENTES DE MOVILIDAD       4\n",
       "...                      ...     ...\n",
       "195775  POLICIA MUNICIPAL          3\n",
       "195776  POLICIA MUNICIPAL          6\n",
       "195778  POLICIA MUNICIPAL          4\n",
       "195779  POLICIA MUNICIPAL          3\n",
       "195780  POLICIA MUNICIPAL          6\n",
       "\n",
       "[60826 rows x 2 columns]"
      ]
     },
     "execution_count": 20,
     "metadata": {},
     "output_type": "execute_result"
    }
   ],
   "source": [
    "df_points=df_all2.loc[:,['DENUNCIANTE',\"PUNTOS\"]][df_all2[\"PUNTOS\"] != 0];df_points"
   ]
  },
  {
   "cell_type": "code",
   "execution_count": 21,
   "id": "2157873e",
   "metadata": {},
   "outputs": [
    {
     "data": {
      "text/plain": [
       "DENUNCIANTE           PUNTOS\n",
       "POLICIA MUNICIPAL     2         22034\n",
       "AGENTES DE MOVILIDAD  4         15415\n",
       "POLICIA MUNICIPAL     4          9323\n",
       "                      3          5961\n",
       "                      6          5820\n",
       "AGENTES DE MOVILIDAD  3          1747\n",
       "                      2           405\n",
       "                      6           121\n",
       "dtype: int64"
      ]
     },
     "execution_count": 21,
     "metadata": {},
     "output_type": "execute_result"
    }
   ],
   "source": [
    "df_points.value_counts()"
   ]
  },
  {
   "cell_type": "code",
   "execution_count": 28,
   "id": "d915db94",
   "metadata": {},
   "outputs": [
    {
     "data": {
      "text/plain": [
       "DENUNCIANTE\n",
       "AGENTES DE MOVILIDAD    3.869120\n",
       "POLICIA MUNICIPAL       3.110089\n",
       "Name: PUNTOS, dtype: float64"
      ]
     },
     "execution_count": 28,
     "metadata": {},
     "output_type": "execute_result"
    }
   ],
   "source": [
    "df_points.groupby([\"DENUNCIANTE\"]).mean()[\"PUNTOS\"]"
   ]
  },
  {
   "cell_type": "markdown",
   "id": "0325b5f2",
   "metadata": {},
   "source": [
    "## 8. Eliminate the decimal part from the hour column, then, shows graphically in which hours more fines have occurred."
   ]
  },
  {
   "cell_type": "markdown",
   "id": "4e0c9d3b",
   "metadata": {},
   "source": [
    "We import the Math library to leave only the hours without the minutes in one of its columns as requested by the exercise"
   ]
  },
  {
   "cell_type": "code",
   "execution_count": 23,
   "id": "18f6c2cb",
   "metadata": {},
   "outputs": [],
   "source": [
    "df_all2['HORA'] = df_all2['HORA'].apply(lambda x: math.floor(x))"
   ]
  },
  {
   "cell_type": "code",
   "execution_count": 24,
   "id": "58ebd5a7",
   "metadata": {},
   "outputs": [
    {
     "data": {
      "text/html": [
       "<div>\n",
       "<style scoped>\n",
       "    .dataframe tbody tr th:only-of-type {\n",
       "        vertical-align: middle;\n",
       "    }\n",
       "\n",
       "    .dataframe tbody tr th {\n",
       "        vertical-align: top;\n",
       "    }\n",
       "\n",
       "    .dataframe thead th {\n",
       "        text-align: right;\n",
       "    }\n",
       "</style>\n",
       "<table border=\"1\" class=\"dataframe\">\n",
       "  <thead>\n",
       "    <tr style=\"text-align: right;\">\n",
       "      <th></th>\n",
       "      <th>CALIFICACION</th>\n",
       "      <th>LUGAR</th>\n",
       "      <th>MES</th>\n",
       "      <th>ANIO</th>\n",
       "      <th>HORA</th>\n",
       "      <th>IMP_BOL</th>\n",
       "      <th>DESCUENTO</th>\n",
       "      <th>PUNTOS</th>\n",
       "      <th>DENUNCIANTE</th>\n",
       "      <th>HECHO-BOL</th>\n",
       "      <th>VEL_LIMITE</th>\n",
       "      <th>VEL_CIRCULA</th>\n",
       "      <th>DIFFERENCE_KMH</th>\n",
       "    </tr>\n",
       "  </thead>\n",
       "  <tbody>\n",
       "    <tr>\n",
       "      <th>0</th>\n",
       "      <td>GRAVE</td>\n",
       "      <td>ALFONSO XII</td>\n",
       "      <td>1</td>\n",
       "      <td>2020</td>\n",
       "      <td>12</td>\n",
       "      <td>200.0</td>\n",
       "      <td>SI</td>\n",
       "      <td>3</td>\n",
       "      <td>POLICIA MUNICIPAL</td>\n",
       "      <td>CONDUCIR UTILIZANDO MANUALMENTE TELEFONÍA MÓVI...</td>\n",
       "      <td>0.0</td>\n",
       "      <td>0.0</td>\n",
       "      <td>0.0</td>\n",
       "    </tr>\n",
       "    <tr>\n",
       "      <th>1</th>\n",
       "      <td>GRAVE</td>\n",
       "      <td>AV BADAJOZ 5</td>\n",
       "      <td>1</td>\n",
       "      <td>2020</td>\n",
       "      <td>9</td>\n",
       "      <td>200.0</td>\n",
       "      <td>SI</td>\n",
       "      <td>0</td>\n",
       "      <td>POLICIA MUNICIPAL</td>\n",
       "      <td>ESTACIONAR EN DOBLE FILA.                     ...</td>\n",
       "      <td>0.0</td>\n",
       "      <td>0.0</td>\n",
       "      <td>0.0</td>\n",
       "    </tr>\n",
       "    <tr>\n",
       "      <th>2</th>\n",
       "      <td>LEVE</td>\n",
       "      <td>ARISTOTELES 7 POSTERIOR</td>\n",
       "      <td>1</td>\n",
       "      <td>2020</td>\n",
       "      <td>13</td>\n",
       "      <td>90.0</td>\n",
       "      <td>SI</td>\n",
       "      <td>0</td>\n",
       "      <td>POLICIA MUNICIPAL</td>\n",
       "      <td>ESTACIONAR EN LUGAR PROHIBIDO.                ...</td>\n",
       "      <td>0.0</td>\n",
       "      <td>0.0</td>\n",
       "      <td>0.0</td>\n",
       "    </tr>\n",
       "    <tr>\n",
       "      <th>3</th>\n",
       "      <td>LEVE</td>\n",
       "      <td>ARISTOTELES 7 POSTERIOR</td>\n",
       "      <td>1</td>\n",
       "      <td>2020</td>\n",
       "      <td>14</td>\n",
       "      <td>90.0</td>\n",
       "      <td>SI</td>\n",
       "      <td>0</td>\n",
       "      <td>POLICIA MUNICIPAL</td>\n",
       "      <td>ESTACIONAR EN LUGAR PROHIBIDO.                ...</td>\n",
       "      <td>0.0</td>\n",
       "      <td>0.0</td>\n",
       "      <td>0.0</td>\n",
       "    </tr>\n",
       "    <tr>\n",
       "      <th>4</th>\n",
       "      <td>LEVE</td>\n",
       "      <td>VIRGEN DE LLUC 70</td>\n",
       "      <td>1</td>\n",
       "      <td>2020</td>\n",
       "      <td>12</td>\n",
       "      <td>90.0</td>\n",
       "      <td>SI</td>\n",
       "      <td>0</td>\n",
       "      <td>POLICIA MUNICIPAL</td>\n",
       "      <td>ESTACIONAR SOBRE LA ACERA.                    ...</td>\n",
       "      <td>0.0</td>\n",
       "      <td>0.0</td>\n",
       "      <td>0.0</td>\n",
       "    </tr>\n",
       "    <tr>\n",
       "      <th>...</th>\n",
       "      <td>...</td>\n",
       "      <td>...</td>\n",
       "      <td>...</td>\n",
       "      <td>...</td>\n",
       "      <td>...</td>\n",
       "      <td>...</td>\n",
       "      <td>...</td>\n",
       "      <td>...</td>\n",
       "      <td>...</td>\n",
       "      <td>...</td>\n",
       "      <td>...</td>\n",
       "      <td>...</td>\n",
       "      <td>...</td>\n",
       "    </tr>\n",
       "    <tr>\n",
       "      <th>205934</th>\n",
       "      <td>LEVE</td>\n",
       "      <td>CL PADRE DAMIAN 19</td>\n",
       "      <td>12</td>\n",
       "      <td>2020</td>\n",
       "      <td>14</td>\n",
       "      <td>90.0</td>\n",
       "      <td>SI</td>\n",
       "      <td>0</td>\n",
       "      <td>SER</td>\n",
       "      <td>ESTACIONAR, SIN LA CORRESPONDIENTE AUTORIZACIÓ...</td>\n",
       "      <td>0.0</td>\n",
       "      <td>0.0</td>\n",
       "      <td>0.0</td>\n",
       "    </tr>\n",
       "    <tr>\n",
       "      <th>205935</th>\n",
       "      <td>LEVE</td>\n",
       "      <td>CL JUAN RAMON JIMENEZ 2</td>\n",
       "      <td>12</td>\n",
       "      <td>2020</td>\n",
       "      <td>14</td>\n",
       "      <td>90.0</td>\n",
       "      <td>SI</td>\n",
       "      <td>0</td>\n",
       "      <td>SER</td>\n",
       "      <td>ESTACIONAR EN LUGAR PROHIBIDO. VEHÍCULO DE CAT...</td>\n",
       "      <td>0.0</td>\n",
       "      <td>0.0</td>\n",
       "      <td>0.0</td>\n",
       "    </tr>\n",
       "    <tr>\n",
       "      <th>205936</th>\n",
       "      <td>LEVE</td>\n",
       "      <td>CL JUAN RAMON JIMENEZ 15</td>\n",
       "      <td>12</td>\n",
       "      <td>2020</td>\n",
       "      <td>14</td>\n",
       "      <td>90.0</td>\n",
       "      <td>SI</td>\n",
       "      <td>0</td>\n",
       "      <td>SER</td>\n",
       "      <td>ESTACIONAR, SIN LA CORRESPONDIENTE AUTORIZACIÓ...</td>\n",
       "      <td>0.0</td>\n",
       "      <td>0.0</td>\n",
       "      <td>0.0</td>\n",
       "    </tr>\n",
       "    <tr>\n",
       "      <th>205937</th>\n",
       "      <td>LEVE</td>\n",
       "      <td>CL VICTOR DE LA SERNA 1</td>\n",
       "      <td>12</td>\n",
       "      <td>2020</td>\n",
       "      <td>9</td>\n",
       "      <td>90.0</td>\n",
       "      <td>SI</td>\n",
       "      <td>0</td>\n",
       "      <td>SER</td>\n",
       "      <td>ESTACIONAR, SIN LA CORRESPONDIENTE AUTORIZACIÓ...</td>\n",
       "      <td>0.0</td>\n",
       "      <td>0.0</td>\n",
       "      <td>0.0</td>\n",
       "    </tr>\n",
       "    <tr>\n",
       "      <th>205938</th>\n",
       "      <td>LEVE</td>\n",
       "      <td>CL VICTOR DE LA SERNA 5</td>\n",
       "      <td>12</td>\n",
       "      <td>2020</td>\n",
       "      <td>10</td>\n",
       "      <td>60.0</td>\n",
       "      <td>SI</td>\n",
       "      <td>0</td>\n",
       "      <td>SER</td>\n",
       "      <td>ESTACIONAR CON AUTORIZACIÓN NO VÁLIDA.        ...</td>\n",
       "      <td>0.0</td>\n",
       "      <td>0.0</td>\n",
       "      <td>0.0</td>\n",
       "    </tr>\n",
       "  </tbody>\n",
       "</table>\n",
       "<p>1993304 rows × 13 columns</p>\n",
       "</div>"
      ],
      "text/plain": [
       "       CALIFICACION                                     LUGAR  MES  ANIO  \\\n",
       "0        GRAVE       ALFONSO XII                                 1  2020   \n",
       "1        GRAVE       AV BADAJOZ 5                                1  2020   \n",
       "2        LEVE        ARISTOTELES 7 POSTERIOR                     1  2020   \n",
       "3        LEVE        ARISTOTELES 7 POSTERIOR                     1  2020   \n",
       "4        LEVE        VIRGEN DE LLUC 70                           1  2020   \n",
       "...             ...                                       ...  ...   ...   \n",
       "205934   LEVE        CL PADRE DAMIAN 19                         12  2020   \n",
       "205935   LEVE        CL JUAN RAMON JIMENEZ 2                    12  2020   \n",
       "205936   LEVE        CL JUAN RAMON JIMENEZ 15                   12  2020   \n",
       "205937   LEVE        CL VICTOR DE LA SERNA 1                    12  2020   \n",
       "205938   LEVE        CL VICTOR DE LA SERNA 5                    12  2020   \n",
       "\n",
       "        HORA  IMP_BOL DESCUENTO  PUNTOS           DENUNCIANTE  \\\n",
       "0         12    200.0        SI       3  POLICIA MUNICIPAL      \n",
       "1          9    200.0        SI       0  POLICIA MUNICIPAL      \n",
       "2         13     90.0        SI       0  POLICIA MUNICIPAL      \n",
       "3         14     90.0        SI       0  POLICIA MUNICIPAL      \n",
       "4         12     90.0        SI       0  POLICIA MUNICIPAL      \n",
       "...      ...      ...       ...     ...                   ...   \n",
       "205934    14     90.0        SI       0  SER                    \n",
       "205935    14     90.0        SI       0  SER                    \n",
       "205936    14     90.0        SI       0  SER                    \n",
       "205937     9     90.0        SI       0  SER                    \n",
       "205938    10     60.0        SI       0  SER                    \n",
       "\n",
       "                                                HECHO-BOL  VEL_LIMITE  \\\n",
       "0       CONDUCIR UTILIZANDO MANUALMENTE TELEFONÍA MÓVI...         0.0   \n",
       "1       ESTACIONAR EN DOBLE FILA.                     ...         0.0   \n",
       "2       ESTACIONAR EN LUGAR PROHIBIDO.                ...         0.0   \n",
       "3       ESTACIONAR EN LUGAR PROHIBIDO.                ...         0.0   \n",
       "4       ESTACIONAR SOBRE LA ACERA.                    ...         0.0   \n",
       "...                                                   ...         ...   \n",
       "205934  ESTACIONAR, SIN LA CORRESPONDIENTE AUTORIZACIÓ...         0.0   \n",
       "205935  ESTACIONAR EN LUGAR PROHIBIDO. VEHÍCULO DE CAT...         0.0   \n",
       "205936  ESTACIONAR, SIN LA CORRESPONDIENTE AUTORIZACIÓ...         0.0   \n",
       "205937  ESTACIONAR, SIN LA CORRESPONDIENTE AUTORIZACIÓ...         0.0   \n",
       "205938  ESTACIONAR CON AUTORIZACIÓN NO VÁLIDA.        ...         0.0   \n",
       "\n",
       "        VEL_CIRCULA  DIFFERENCE_KMH  \n",
       "0               0.0             0.0  \n",
       "1               0.0             0.0  \n",
       "2               0.0             0.0  \n",
       "3               0.0             0.0  \n",
       "4               0.0             0.0  \n",
       "...             ...             ...  \n",
       "205934          0.0             0.0  \n",
       "205935          0.0             0.0  \n",
       "205936          0.0             0.0  \n",
       "205937          0.0             0.0  \n",
       "205938          0.0             0.0  \n",
       "\n",
       "[1993304 rows x 13 columns]"
      ]
     },
     "execution_count": 24,
     "metadata": {},
     "output_type": "execute_result"
    }
   ],
   "source": [
    "df_all2"
   ]
  },
  {
   "cell_type": "code",
   "execution_count": 25,
   "id": "c8276348",
   "metadata": {},
   "outputs": [
    {
     "data": {
      "image/png": "[encoded data removed]",
      "text/plain": [
       "<Figure size 1500x800 with 1 Axes>"
      ]
     },
     "metadata": {},
     "output_type": "display_data"
    }
   ],
   "source": [
    "fig, ax = plt.subplots(1,1, figsize=(15,8))\n",
    "\n",
    "sns.countplot(x=df_all2[\"HORA\"])\n",
    "hours = df_all2.groupby([\"HORA\"]).count()[\"CALIFICACION\"]\n",
    "\n",
    "for i in range(len(hours.values)):\n",
    "    ax.text(i, hours.values[i], hours.values[i], horizontalalignment='center')\n",
    "plt.xlabel(\"HORAS\")\n",
    "plt.ylabel(\"Nº MULTAS\")\n",
    "plt.show()"
   ]
  },
  {
   "cell_type": "code",
   "execution_count": null,
   "id": "59d71f55",
   "metadata": {},
   "outputs": [],
   "source": []
  },
  {
   "cell_type": "markdown",
   "id": "22a597bc",
   "metadata": {},
   "source": [
    "## 9. Graphically shows the fines made during the months of 2020. Knowing that the confinement in Spain began in March of that year, is the effect of the pandemic noticeable?"
   ]
  },
  {
   "cell_type": "code",
   "execution_count": 26,
   "id": "dc836d4f",
   "metadata": {},
   "outputs": [
    {
     "data": {
      "image/png": "[encoded data removed]",
      "text/plain": [
       "<Figure size 1500x800 with 1 Axes>"
      ]
     },
     "metadata": {},
     "output_type": "display_data"
    }
   ],
   "source": [
    "meses_abrv=[\"E\", \"F\", \"M\", \"A\", \"M\", \"J\",\"J\",\"A\",\"S\",\"O\",\"N\",\"D\"]\n",
    "fig, ax = plt.subplots(1,1, figsize=(15,8))\n",
    "\n",
    "sns.countplot(x=df_all2[\"MES\"])\n",
    "hours = df_all2.groupby([\"MES\"]).count()[\"CALIFICACION\"]\n",
    "\n",
    "for i in range(len(hours.values)):\n",
    "    ax.text(i, hours.values[i], hours.values[i], horizontalalignment='center')\n",
    "    \n",
    "plt.xticks(range(0,12),meses_abrv)\n",
    "plt.ylabel(\"Nº MULTAS\")\n",
    "plt.show()"
   ]
  },
  {
   "cell_type": "markdown",
   "id": "13b38a98",
   "metadata": {},
   "source": [
    "## 10. Shows graphically the number of infractions (without accumulated frequency), of each of the public agents based on the classification of the infraction"
   ]
  },
  {
   "cell_type": "code",
   "execution_count": 29,
   "id": "0e7d4e8d",
   "metadata": {},
   "outputs": [
    {
     "data": {
      "image/png": "[encoded data removed]",
      "text/plain": [
       "<Figure size 936.25x800 with 1 Axes>"
      ]
     },
     "metadata": {},
     "output_type": "display_data"
    }
   ],
   "source": [
    "fig=sns.catplot(x = \"DENUNCIANTE\", data = df_all2, kind = \"count\", hue = \"CALIFICACION\", height=8)\n",
    "plt.xticks(rotation=40)\n",
    "plt.ylabel(\"Nº MULTAS\")\n",
    "plt.show()"
   ]
  }
 ],
 "metadata": {
  "kernelspec": {
   "display_name": "Python 3 (ipykernel)",
   "language": "python",
   "name": "python3"
  },
  "language_info": {
   "codemirror_mode": {
    "name": "ipython",
    "version": 3
   },
   "file_extension": ".py",
   "mimetype": "text/x-python",
   "name": "python",
   "nbconvert_exporter": "python",
   "pygments_lexer": "ipython3",
   "version": "3.9.12"
  },
  "toc": {
   "base_numbering": 1,
   "nav_menu": {},
   "number_sections": true,
   "sideBar": true,
   "skip_h1_title": false,
   "title_cell": "Table of Contents",
   "title_sidebar": "Contents",
   "toc_cell": false,
   "toc_position": {},
   "toc_section_display": true,
   "toc_window_display": false
  },
  "varInspector": {
   "cols": {
    "lenName": 16,
    "lenType": 16,
    "lenVar": 40
   },
   "kernels_config": {
    "python": {
     "delete_cmd_postfix": "",
     "delete_cmd_prefix": "del ",
     "library": "var_list.py",
     "varRefreshCmd": "print(var_dic_list())"
    },
    "r": {
     "delete_cmd_postfix": ") ",
     "delete_cmd_prefix": "rm(",
     "library": "var_list.r",
     "varRefreshCmd": "cat(var_dic_list()) "
    }
   },
   "types_to_exclude": [
    "module",
    "function",
    "builtin_function_or_method",
    "instance",
    "_Feature"
   ],
   "window_display": false
  }
 },
 "nbformat": 4,
 "nbformat_minor": 5
}
