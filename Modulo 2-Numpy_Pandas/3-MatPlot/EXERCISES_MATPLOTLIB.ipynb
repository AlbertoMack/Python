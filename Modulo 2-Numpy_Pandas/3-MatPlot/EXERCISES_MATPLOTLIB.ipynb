{
 "cells": [
  {
   "cell_type": "markdown",
   "metadata": {},
   "source": [
    "# Exercise 1\n",
    "\n",
    "Plot the following lists with `pyplot`, note, the second list will be the index."
   ]
  },
  {
   "cell_type": "code",
   "execution_count": 2,
   "metadata": {},
   "outputs": [],
   "source": [
    "list1 = [10, 100, 1000, 10000, 100000]\n",
    "list2 = [4, 8, 12, 6, 40]"
   ]
  },
  {
   "cell_type": "markdown",
   "metadata": {},
   "source": [
    "## Solution"
   ]
  },
  {
   "cell_type": "code",
   "execution_count": 14,
   "metadata": {},
   "outputs": [
    {
     "data": {
      "text/plain": [
       "[<matplotlib.lines.Line2D at 0x2a20b23f940>]"
      ]
     },
     "execution_count": 14,
     "metadata": {},
     "output_type": "execute_result"
    },
    {
     "data": {
      "image/png": "[encoded data removed]",
      "text/plain": [
       "<Figure size 432x288 with 1 Axes>"
      ]
     },
     "metadata": {
      "needs_background": "light"
     },
     "output_type": "display_data"
    }
   ],
   "source": [
    "import matplotlib.pyplot as plt\n",
    "\n",
    "plt.plot(list1,list2)"
   ]
  },
  {
   "cell_type": "markdown",
   "metadata": {},
   "source": [
    "# Exercise 2\n",
    "\n",
    "Take the lists from exercise 1 and, perform the same visualization, change the width of the axes to -60000, 120000, -10, 50. Also, use the color mediumblue, also change the list axis in this exercise list1 will be X axis and list 2 axis Y\n",
    "\n",
    "## Solution"
   ]
  },
  {
   "cell_type": "code",
   "execution_count": 7,
   "metadata": {},
   "outputs": [
    {
     "data": {
      "image/png": "[encoded data removed]",
      "text/plain": [
       "<Figure size 432x288 with 1 Axes>"
      ]
     },
     "metadata": {
      "needs_background": "light"
     },
     "output_type": "display_data"
    }
   ],
   "source": [
    "plt.plot(list1,list2,color='mediumblue')\n",
    "\n",
    "plt.axis([-60000, 120000, -10, 50])\n",
    "plt.show()"
   ]
  },
  {
   "cell_type": "markdown",
   "metadata": {},
   "source": [
    "# Exercise 3\n",
    "\n",
    "Take the following arrays"
   ]
  },
  {
   "cell_type": "code",
   "execution_count": 8,
   "metadata": {},
   "outputs": [],
   "source": [
    "import numpy as np\n",
    "\n",
    "ej_tres_uno = np.linspace(0, 2, 100)\n",
    "ej_tres_dos = ej_tres_uno ** 2\n",
    "ej_tres_tres = ej_tres_uno ** 3\n",
    "ej_tres_cuatro = ej_tres_uno ** 4 "
   ]
  },
  {
   "cell_type": "markdown",
   "metadata": {},
   "source": [
    "Make a multiple graph in which 4 sub-graphs appear.\n",
    "\n",
    "## Solution"
   ]
  },
  {
   "cell_type": "code",
   "execution_count": 11,
   "metadata": {},
   "outputs": [
    {
     "data": {
      "image/png": "[encoded data removed]",
      "text/plain": [
       "<Figure size 432x288 with 1 Axes>"
      ]
     },
     "metadata": {
      "needs_background": "light"
     },
     "output_type": "display_data"
    }
   ],
   "source": [
    "plt.hist(ej_tres_uno, color=\"green\")\n",
    "plt.hist(ej_tres_dos), color=\"red\"\n",
    "plt.hist(ej_tres_tres), color=\"blue\"\n",
    "plt.hist(ej_tres_cuatro), color=\"ellow\"\n",
    "plt.show()"
   ]
  },
  {
   "cell_type": "markdown",
   "metadata": {},
   "source": [
    "# Exercise 4.\n",
    "\n",
    "Modify the graph from the previous exercise, so that we have 2 rows and three columns where:\n",
    "* Row one has only one graph located in the center (column two)\n",
    "* Row two contains the remaining three graphs.\n",
    "\n",
    "## Solution"
   ]
  },
  {
   "cell_type": "code",
   "execution_count": null,
   "metadata": {},
   "outputs": [],
   "source": []
  },
  {
   "cell_type": "markdown",
   "metadata": {},
   "source": [
    "# Exercise 5\n",
    "\n",
    "Load the 'vgsales.csv' dataset, display a histogram of the Global_Sales column, in green\n",
    "\n",
    "## Solution"
   ]
  },
  {
   "cell_type": "code",
   "execution_count": null,
   "metadata": {},
   "outputs": [],
   "source": []
  },
  {
   "cell_type": "markdown",
   "metadata": {},
   "source": [
    "# Exercise 6\n",
    "\n",
    "Two datasets related to the acquisition and foundation of *startups* at a global level have been obtained, the general objective is to carry out an exploratory data analysis on the common elements of both datasets. These are the objectives to be achieved:\n",
    "* Convert the **funds.csv** and **funding_rounds.csv** files to pandas dataframes.\n",
    "* Search for a common element of both dataframes and convert them into one.\n",
    "* Remove 'id', 'source_url', 'source_description', 'updated_at' columns.\n",
    "* Shows the number of nulls that each column of the dataframe has and what percentage the number of nulls represents within each column.\n",
    "* Changes all null 'raised_currency_dode' values to 'USD'.\n",
    "* Removes all other nulls from the dataset.\n",
    "* Shows the percentage of different values of 'raised_currency_dode'.\n",
    "* Create a subset without the USD value and display a bar chart.\n",
    "* Create a new subset by filtering from the dataset all rows below 10M and display the histogram.\n",
    "* With the set of the previous section. Check out the contains() function https://pandas.pydata.org/pandas-docs/stable/reference/api/pandas.Series.str.contains.html filters the dataset by startup creation dates in 2000\n",
    "\n",
    "# SOLUTION"
   ]
  },
  {
   "cell_type": "code",
   "execution_count": null,
   "metadata": {},
   "outputs": [],
   "source": []
  }
 ],
 "metadata": {
  "kernelspec": {
   "display_name": "Python 3 (ipykernel)",
   "language": "python",
   "name": "python3"
  },
  "language_info": {
   "codemirror_mode": {
    "name": "ipython",
    "version": 3
   },
   "file_extension": ".py",
   "mimetype": "text/x-python",
   "name": "python",
   "nbconvert_exporter": "python",
   "pygments_lexer": "ipython3",
   "version": "3.9.12"
  }
 },
 "nbformat": 4,
 "nbformat_minor": 4
}
