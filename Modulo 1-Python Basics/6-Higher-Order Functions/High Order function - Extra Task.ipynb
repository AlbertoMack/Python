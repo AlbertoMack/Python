{
 "cells": [
  {
   "cell_type": "markdown",
   "id": "840906f9",
   "metadata": {},
   "source": [
    "## Write a Python program to triple all numbers of a given list of integers. Use Python map"
   ]
  },
  {
   "cell_type": "code",
   "execution_count": 3,
   "id": "c7da5e31",
   "metadata": {},
   "outputs": [
    {
     "name": "stdout",
     "output_type": "stream",
     "text": [
      "[3, 6, 9, 12, 15, 18]\n"
     ]
    }
   ],
   "source": [
    "numbers=[1,2,3,4,5,6]\n",
    "\n",
    "triple=list(map(lambda x: x*3, numbers))\n",
    "print(triple)"
   ]
  },
  {
   "cell_type": "markdown",
   "id": "baf80ace",
   "metadata": {},
   "source": [
    "## Create a function that takes a list of digits and returns the number they correspond to. For example [1,2,3] corresponds to the number one hundred twenty-three (123). Use the reduce function."
   ]
  },
  {
   "cell_type": "code",
   "execution_count": 6,
   "id": "68fed76e",
   "metadata": {},
   "outputs": [
    {
     "name": "stdout",
     "output_type": "stream",
     "text": [
      "123456\n"
     ]
    }
   ],
   "source": [
    "from functools import reduce\n",
    "numbers=[1,2,3,4,5,6]\n",
    "\n",
    "cosas=reduce(lambda x,y:x*10+y,numbers)\n",
    "print(cosas)"
   ]
  },
  {
   "cell_type": "code",
   "execution_count": 27,
   "id": "33e64886",
   "metadata": {},
   "outputs": [
    {
     "data": {
      "text/plain": [
       "4392"
      ]
     },
     "execution_count": 27,
     "metadata": {},
     "output_type": "execute_result"
    }
   ],
   "source": [
    "from functools import reduce\n",
    "def digits_to_numbers(digits):\n",
    "    return reduce(lambda x,y:x*10 + y,digits)\n",
    " \n",
    "digits_to_numbers([4,3,9,2])\n"
   ]
  },
  {
   "cell_type": "markdown",
   "id": "af6aa803",
   "metadata": {},
   "source": [
    "## Write a Python program to listify the list of given strings individually using Python map.  Listify means to create a list with each character: Input: ['Red', 'Blue']. Output: [ [‘R’, ‘e’, ‘d’] , ['B’, ‘l’, ‘u’, ‘e’] ]"
   ]
  },
  {
   "cell_type": "code",
   "execution_count": 32,
   "id": "d7083c4c",
   "metadata": {},
   "outputs": [
    {
     "name": "stdout",
     "output_type": "stream",
     "text": [
      "[['R', 'e', 'd'], ['B', 'l', 'u', 'e']]\n"
     ]
    }
   ],
   "source": [
    "colors=['Red', 'Blue']\n",
    "colorslist=[]\n",
    "for color in colors:\n",
    "    colorslist.append(list(map(lambda char: char, color)))\n",
    "print(colorslist)\n"
   ]
  },
  {
   "cell_type": "markdown",
   "id": "75cf7d77",
   "metadata": {},
   "source": [
    "## Create a function that returns the words from a list of words that start with a specific letter. Use the filter function."
   ]
  },
  {
   "cell_type": "code",
   "execution_count": 44,
   "id": "06a701a3",
   "metadata": {},
   "outputs": [
    {
     "data": {
      "text/plain": [
       "['Ball', 'Book']"
      ]
     },
     "execution_count": 44,
     "metadata": {},
     "output_type": "execute_result"
    }
   ],
   "source": [
    "def words(lista,letter):\n",
    "   \n",
    "    return list(filter(lambda words: words[0].lower()==letter.lower(),lista))\n",
    "\n",
    "words(['Dog','Cat','Ball','Apple','Book','Python'],'b')"
   ]
  },
  {
   "cell_type": "markdown",
   "id": "46967f47",
   "metadata": {},
   "source": [
    "## Write a Python program to add (element to element) three given lists using Python map and lambda functions. "
   ]
  },
  {
   "cell_type": "code",
   "execution_count": 45,
   "id": "4c670866",
   "metadata": {},
   "outputs": [
    {
     "name": "stdout",
     "output_type": "stream",
     "text": [
      "[3, 6, 9, 12, 15, 18]\n"
     ]
    }
   ],
   "source": [
    "numbers=[1,2,3,4,5,6]\n",
    "numbers2=[1,2,3,4,5,6]\n",
    "numbers3=[1,2,3,4,5,6]\n",
    "for elem in numbers:\n",
    "    triple=list(map(lambda x,y,z: x+y+z, numbers,numbers2,numbers3))\n",
    "print(triple)"
   ]
  },
  {
   "cell_type": "markdown",
   "id": "812ee22a",
   "metadata": {},
   "source": [
    "## Make a function that takes a list and returns a dictionary containing the values of the list as the key and the index as the value. Use the enumerate function."
   ]
  },
  {
   "cell_type": "code",
   "execution_count": 46,
   "id": "24641148",
   "metadata": {},
   "outputs": [
    {
     "name": "stdout",
     "output_type": "stream",
     "text": [
      "Base numbers abd index: \n",
      "[10, 20, 30, 40, 50, 60, 70, 80, 90, 100]\n",
      "[1, 2, 3, 4, 5, 6, 7, 8, 9, 10]\n",
      "\n",
      "Power of said number in bases raised to the corresponding number in the index:\n",
      "[10, 400, 27000, 2560000, 312500000, 46656000000, 8235430000000, 1677721600000000, 387420489000000000, 100000000000000000000]\n"
     ]
    }
   ],
   "source": [
    "bases_num = [10, 20, 30, 40, 50, 60, 70, 80, 90, 100] \n",
    "index = [1, 2, 3, 4, 5, 6, 7, 8, 9, 10] \n",
    "print(\"Base numbers abd index: \") \n",
    "print(bases_num) \n",
    "print(index) \n",
    "result = list(map(pow, bases_num, index)) \n",
    "print(\"\\nPower of said number in bases raised to the corresponding number in the index:\") \n",
    "print(result)\n"
   ]
  },
  {
   "cell_type": "markdown",
   "id": "b88d7dc1",
   "metadata": {},
   "source": [
    "## Make a function that returns the count of the number of elements in the list whose value is equal to its index. Use the enumerate function. Execute the function as:"
   ]
  },
  {
   "cell_type": "code",
   "execution_count": 30,
   "id": "d65de104",
   "metadata": {},
   "outputs": [
    {
     "data": {
      "text/plain": [
       "4"
      ]
     },
     "execution_count": 30,
     "metadata": {},
     "output_type": "execute_result"
    }
   ],
   "source": [
    "def count_match_index(lista=list):\n",
    "           \n",
    "    return len([element for index, element in enumerate(lista) if index==element])\n",
    "\n",
    "\n",
    "count_match_index([0,2,2,1,5,5,6,10])"
   ]
  },
  {
   "cell_type": "code",
   "execution_count": 25,
   "id": "2df25807",
   "metadata": {},
   "outputs": [
    {
     "data": {
      "text/plain": [
       "4"
      ]
     },
     "execution_count": 25,
     "metadata": {},
     "output_type": "execute_result"
    }
   ],
   "source": [
    "def count_match_index(L):\n",
    "    return len([num for count,num in enumerate(L) if num==count])\n",
    " \n",
    "count_match_index([0,2,2,1,5,5,6,10])\n"
   ]
  }
 ],
 "metadata": {
  "kernelspec": {
   "display_name": "Python 3 (ipykernel)",
   "language": "python",
   "name": "python3"
  },
  "language_info": {
   "codemirror_mode": {
    "name": "ipython",
    "version": 3
   },
   "file_extension": ".py",
   "mimetype": "text/x-python",
   "name": "python",
   "nbconvert_exporter": "python",
   "pygments_lexer": "ipython3",
   "version": "3.9.12"
  },
  "latex_envs": {
   "LaTeX_envs_menu_present": true,
   "autoclose": false,
   "autocomplete": true,
   "bibliofile": "biblio.bib",
   "cite_by": "apalike",
   "current_citInitial": 1,
   "eqLabelWithNumbers": true,
   "eqNumInitial": 1,
   "hotkeys": {
    "equation": "Ctrl-E",
    "itemize": "Ctrl-I"
   },
   "labels_anchors": false,
   "latex_user_defs": false,
   "report_style_numbering": false,
   "user_envs_cfg": false
  },
  "toc": {
   "base_numbering": 1,
   "nav_menu": {},
   "number_sections": true,
   "sideBar": true,
   "skip_h1_title": false,
   "title_cell": "Table of Contents",
   "title_sidebar": "Contents",
   "toc_cell": false,
   "toc_position": {},
   "toc_section_display": true,
   "toc_window_display": false
  }
 },
 "nbformat": 4,
 "nbformat_minor": 5
}
