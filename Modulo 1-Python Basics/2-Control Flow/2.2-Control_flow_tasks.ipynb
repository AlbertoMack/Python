{
 "cells": [
  {
   "cell_type": "markdown",
   "id": "413f4c2a",
   "metadata": {},
   "source": [
    "# Control Flow Task Sheet\n",
    "\n",
    "# Conditionals, loops and other stuff"
   ]
  },
  {
   "cell_type": "markdown",
   "id": "76f51d36",
   "metadata": {},
   "source": [
    "<img width=80 src=\"https://media.giphy.com/media/KAq5w47R9rmTuvWOWa/giphy.gif\">\n",
    "\n",
    "<img width=150 src=\"Images/Assembler.png\">"
   ]
  },
  {
   "cell_type": "markdown",
   "id": "1eeef4db",
   "metadata": {},
   "source": [
    "# Important:\n",
    "\n",
    "- Comment your code explaining what each part does when you consider it.\n",
    "- We are asking about two types of problems. The first type are solved with code cells, and the second with markdown type cells (where the solution must be thought without executing code cells). This will be indicated in each problem.\n",
    "- Always respect the format of the solution and the instructions!"
   ]
  },
  {
   "cell_type": "markdown",
   "id": "9e90dfa2",
   "metadata": {},
   "source": [
    "# Recommendations:\n",
    "\n",
    "- There are as many ways to solve a problem as there are people in the world. Find yours!\n",
    "- Create as many variables as you want. They cost nothing and are worth it for the sake of clarity.\n",
    "- You can add cells if needed. \n",
    "- Remember that there are two types of cells: code and markdown. Use both. Explanations never hurt.\n",
    "- There are several ways to approach the same problem. Try not to repeat your way of thinking.\n",
    "- If different syntaxes lead to the same result, explore them.\n",
    "- Use internet in a smart way. Don't look at how to solve the problem in its entirety; it is better to learn methods that lead your logical reasoning to the solution.\n",
    "- Once you have a plan to address the problem, try breaking your code into manageable chunks.\n",
    "- Use `print()` and `type()` functions in the middle of your code to understand what your code is actually doing."
   ]
  },
  {
   "cell_type": "markdown",
   "id": "8e40902a",
   "metadata": {},
   "source": [
    "***"
   ]
  },
  {
   "cell_type": "markdown",
   "id": "78e87338",
   "metadata": {},
   "source": [
    "## Ask for a word\n",
    "\n",
    "Ask for a word. If it begins with a vowel, print 'The word you entered begins with a vowel'. If it ends with 'd', 'n' or 's', print 'I like the word .....', replacing the dots with the word entered. Finally, if neither is the case, print 'This exercise does not make any sense."
   ]
  },
  {
   "cell_type": "code",
   "execution_count": null,
   "id": "231e35ab",
   "metadata": {},
   "outputs": [],
   "source": [
    "# Type the code here:\n",
    "\n",
    "word=input(\"Write a WORD: \")\n",
    "final=len(word)\n",
    "\n",
    "vowel=\"aeiou\"\n",
    "ends=\"dns\"\n",
    "\n",
    "\n",
    "if word.lower()[0] in vowel:\n",
    "    print(\"The word you entered begins with a vowel\")\n",
    "    \n",
    "if word.lower()[final-1] in ends :\n",
    "   print(\"I like the word \"+ word)\n",
    "\n"
   ]
  },
  {
   "cell_type": "markdown",
   "id": "5aee1ee4",
   "metadata": {},
   "source": [
    "## Even or odd\n",
    "\n",
    "Write a program that asks for an integer and writes to the screen:\n",
    "\n",
    "- “The number entered is EVEN”, if it is even.\n",
    "\n",
    "\n",
    "- “The number entered is ODD”, in case it is odd."
   ]
  },
  {
   "cell_type": "code",
   "execution_count": 43,
   "id": "4fc3b5dd",
   "metadata": {},
   "outputs": [
    {
     "name": "stdout",
     "output_type": "stream",
     "text": [
      "Write a number:22\n",
      "The number entered is EVEN\n"
     ]
    }
   ],
   "source": [
    "# Type the code here:\n",
    "number=int(input(\"Write a number:\"))\n",
    "\n",
    "if number>0 and number%2==0:\n",
    "    print(\"The number entered is EVEN\")\n",
    "\n",
    "elif number==0:\n",
    "    print(\"The number is ZERO\")\n",
    "\n",
    "else:\n",
    "    print(\"The number is ODD\")\n"
   ]
  },
  {
   "cell_type": "markdown",
   "id": "0b9246d8",
   "metadata": {},
   "source": [
    "## Solve without coding\n",
    "\n",
    "- What does the following code return?\n",
    "\n",
    "> `for i in range(2,26,2):`\n",
    ">\n",
    "> $\\qquad$ `print(i)`\n",
    "\n",
    "- Also, what does `range(2,26,2)` return?\n",
    "- What type of variable is `range(2,26,2)`?"
   ]
  },
  {
   "cell_type": "markdown",
   "id": "94bdd8fb",
   "metadata": {},
   "source": [
    "*Write the solution in this markdown cell:*\n",
    "\n",
    "\n",
    ".Return the numbers betwwen 2-26, each 2 Steps\n",
    "\n",
    "\n",
    ".Want to say that the range are into 2-26, and the code count with steps 2. without get 26\n",
    "\n",
    ".A range"
   ]
  },
  {
   "cell_type": "markdown",
   "id": "235d8bab",
   "metadata": {},
   "source": [
    "## Are the following commands helpfull?\n",
    "\n",
    "Play around with them. Learn something :)\n",
    "\n",
    "- The first cell is an interactive cell. Try `help> True`, `help> 'What you want'`. When you are done type `help> quit`."
   ]
  },
  {
   "cell_type": "code",
   "execution_count": 4,
   "id": "d167fc4e",
   "metadata": {},
   "outputs": [
    {
     "name": "stdout",
     "output_type": "stream",
     "text": [
      "\n",
      "Welcome to Python 3.9's help utility!\n",
      "\n",
      "If this is your first time using Python, you should definitely check out\n",
      "the tutorial on the Internet at https://docs.python.org/3.9/tutorial/.\n",
      "\n",
      "Enter the name of any module, keyword, or topic to get help on writing\n",
      "Python programs and using Python modules.  To quit this help utility and\n",
      "return to the interpreter, just type \"quit\".\n",
      "\n",
      "To get a list of available modules, keywords, symbols, or topics, type\n",
      "\"modules\", \"keywords\", \"symbols\", or \"topics\".  Each module also comes\n",
      "with a one-line summary of what it does; to list the modules whose name\n",
      "or summary contain a given string such as \"spam\", type \"modules spam\".\n",
      "\n",
      "help> True\n",
      "Help on bool object:\n",
      "\n",
      "class bool(int)\n",
      " |  bool(x) -> bool\n",
      " |  \n",
      " |  Returns True when the argument x is true, False otherwise.\n",
      " |  The builtins True and False are the only two instances of the class bool.\n",
      " |  The class bool is a subclass of the class int, and cannot be subclassed.\n",
      " |  \n",
      " |  Method resolution order:\n",
      " |      bool\n",
      " |      int\n",
      " |      object\n",
      " |  \n",
      " |  Methods defined here:\n",
      " |  \n",
      " |  __and__(self, value, /)\n",
      " |      Return self&value.\n",
      " |  \n",
      " |  __or__(self, value, /)\n",
      " |      Return self|value.\n",
      " |  \n",
      " |  __rand__(self, value, /)\n",
      " |      Return value&self.\n",
      " |  \n",
      " |  __repr__(self, /)\n",
      " |      Return repr(self).\n",
      " |  \n",
      " |  __ror__(self, value, /)\n",
      " |      Return value|self.\n",
      " |  \n",
      " |  __rxor__(self, value, /)\n",
      " |      Return value^self.\n",
      " |  \n",
      " |  __xor__(self, value, /)\n",
      " |      Return self^value.\n",
      " |  \n",
      " |  ----------------------------------------------------------------------\n",
      " |  Static methods defined here:\n",
      " |  \n",
      " |  __new__(*args, **kwargs) from builtins.type\n",
      " |      Create and return a new object.  See help(type) for accurate signature.\n",
      " |  \n",
      " |  ----------------------------------------------------------------------\n",
      " |  Methods inherited from int:\n",
      " |  \n",
      " |  __abs__(self, /)\n",
      " |      abs(self)\n",
      " |  \n",
      " |  __add__(self, value, /)\n",
      " |      Return self+value.\n",
      " |  \n",
      " |  __bool__(self, /)\n",
      " |      True if self else False\n",
      " |  \n",
      " |  __ceil__(...)\n",
      " |      Ceiling of an Integral returns itself.\n",
      " |  \n",
      " |  __divmod__(self, value, /)\n",
      " |      Return divmod(self, value).\n",
      " |  \n",
      " |  __eq__(self, value, /)\n",
      " |      Return self==value.\n",
      " |  \n",
      " |  __float__(self, /)\n",
      " |      float(self)\n",
      " |  \n",
      " |  __floor__(...)\n",
      " |      Flooring an Integral returns itself.\n",
      " |  \n",
      " |  __floordiv__(self, value, /)\n",
      " |      Return self//value.\n",
      " |  \n",
      " |  __format__(self, format_spec, /)\n",
      " |      Default object formatter.\n",
      " |  \n",
      " |  __ge__(self, value, /)\n",
      " |      Return self>=value.\n",
      " |  \n",
      " |  __getattribute__(self, name, /)\n",
      " |      Return getattr(self, name).\n",
      " |  \n",
      " |  __getnewargs__(self, /)\n",
      " |  \n",
      " |  __gt__(self, value, /)\n",
      " |      Return self>value.\n",
      " |  \n",
      " |  __hash__(self, /)\n",
      " |      Return hash(self).\n",
      " |  \n",
      " |  __index__(self, /)\n",
      " |      Return self converted to an integer, if self is suitable for use as an index into a list.\n",
      " |  \n",
      " |  __int__(self, /)\n",
      " |      int(self)\n",
      " |  \n",
      " |  __invert__(self, /)\n",
      " |      ~self\n",
      " |  \n",
      " |  __le__(self, value, /)\n",
      " |      Return self<=value.\n",
      " |  \n",
      " |  __lshift__(self, value, /)\n",
      " |      Return self<<value.\n",
      " |  \n",
      " |  __lt__(self, value, /)\n",
      " |      Return self<value.\n",
      " |  \n",
      " |  __mod__(self, value, /)\n",
      " |      Return self%value.\n",
      " |  \n",
      " |  __mul__(self, value, /)\n",
      " |      Return self*value.\n",
      " |  \n",
      " |  __ne__(self, value, /)\n",
      " |      Return self!=value.\n",
      " |  \n",
      " |  __neg__(self, /)\n",
      " |      -self\n",
      " |  \n",
      " |  __pos__(self, /)\n",
      " |      +self\n",
      " |  \n",
      " |  __pow__(self, value, mod=None, /)\n",
      " |      Return pow(self, value, mod).\n",
      " |  \n",
      " |  __radd__(self, value, /)\n",
      " |      Return value+self.\n",
      " |  \n",
      " |  __rdivmod__(self, value, /)\n",
      " |      Return divmod(value, self).\n",
      " |  \n",
      " |  __rfloordiv__(self, value, /)\n",
      " |      Return value//self.\n",
      " |  \n",
      " |  __rlshift__(self, value, /)\n",
      " |      Return value<<self.\n",
      " |  \n",
      " |  __rmod__(self, value, /)\n",
      " |      Return value%self.\n",
      " |  \n",
      " |  __rmul__(self, value, /)\n",
      " |      Return value*self.\n",
      " |  \n",
      " |  __round__(...)\n",
      " |      Rounding an Integral returns itself.\n",
      " |      Rounding with an ndigits argument also returns an integer.\n",
      " |  \n",
      " |  __rpow__(self, value, mod=None, /)\n",
      " |      Return pow(value, self, mod).\n",
      " |  \n",
      " |  __rrshift__(self, value, /)\n",
      " |      Return value>>self.\n",
      " |  \n",
      " |  __rshift__(self, value, /)\n",
      " |      Return self>>value.\n",
      " |  \n",
      " |  __rsub__(self, value, /)\n",
      " |      Return value-self.\n",
      " |  \n",
      " |  __rtruediv__(self, value, /)\n",
      " |      Return value/self.\n",
      " |  \n",
      " |  __sizeof__(self, /)\n",
      " |      Returns size in memory, in bytes.\n",
      " |  \n",
      " |  __sub__(self, value, /)\n",
      " |      Return self-value.\n",
      " |  \n",
      " |  __truediv__(self, value, /)\n",
      " |      Return self/value.\n",
      " |  \n",
      " |  __trunc__(...)\n",
      " |      Truncating an Integral returns itself.\n",
      " |  \n",
      " |  as_integer_ratio(self, /)\n",
      " |      Return integer ratio.\n",
      " |      \n",
      " |      Return a pair of integers, whose ratio is exactly equal to the original int\n",
      " |      and with a positive denominator.\n",
      " |      \n",
      " |      >>> (10).as_integer_ratio()\n",
      " |      (10, 1)\n",
      " |      >>> (-10).as_integer_ratio()\n",
      " |      (-10, 1)\n",
      " |      >>> (0).as_integer_ratio()\n",
      " |      (0, 1)\n",
      " |  \n",
      " |  bit_length(self, /)\n",
      " |      Number of bits necessary to represent self in binary.\n",
      " |      \n",
      " |      >>> bin(37)\n",
      " |      '0b100101'\n",
      " |      >>> (37).bit_length()\n",
      " |      6\n",
      " |  \n",
      " |  conjugate(...)\n",
      " |      Returns self, the complex conjugate of any int.\n",
      " |  \n",
      " |  to_bytes(self, /, length, byteorder, *, signed=False)\n",
      " |      Return an array of bytes representing an integer.\n",
      " |      \n",
      " |      length\n",
      " |        Length of bytes object to use.  An OverflowError is raised if the\n",
      " |        integer is not representable with the given number of bytes.\n",
      " |      byteorder\n",
      " |        The byte order used to represent the integer.  If byteorder is 'big',\n",
      " |        the most significant byte is at the beginning of the byte array.  If\n",
      " |        byteorder is 'little', the most significant byte is at the end of the\n",
      " |        byte array.  To request the native byte order of the host system, use\n",
      " |        `sys.byteorder' as the byte order value.\n",
      " |      signed\n",
      " |        Determines whether two's complement is used to represent the integer.\n",
      " |        If signed is False and a negative integer is given, an OverflowError\n",
      " |        is raised.\n",
      " |  \n",
      " |  ----------------------------------------------------------------------\n",
      " |  Class methods inherited from int:\n",
      " |  \n",
      " |  from_bytes(bytes, byteorder, *, signed=False) from builtins.type\n",
      " |      Return the integer represented by the given array of bytes.\n",
      " |      \n",
      " |      bytes\n",
      " |        Holds the array of bytes to convert.  The argument must either\n",
      " |        support the buffer protocol or be an iterable object producing bytes.\n",
      " |        Bytes and bytearray are examples of built-in objects that support the\n",
      " |        buffer protocol.\n",
      " |      byteorder\n",
      " |        The byte order used to represent the integer.  If byteorder is 'big',\n",
      " |        the most significant byte is at the beginning of the byte array.  If\n",
      " |        byteorder is 'little', the most significant byte is at the end of the\n",
      " |        byte array.  To request the native byte order of the host system, use\n",
      " |        `sys.byteorder' as the byte order value.\n",
      " |      signed\n",
      " |        Indicates whether two's complement is used to represent the integer.\n",
      " |  \n",
      " |  ----------------------------------------------------------------------\n",
      " |  Data descriptors inherited from int:\n",
      " |  \n",
      " |  denominator\n",
      " |      the denominator of a rational number in lowest terms\n",
      " |  \n",
      " |  imag\n",
      " |      the imaginary part of a complex number\n",
      " |  \n",
      " |  numerator\n",
      " |      the numerator of a rational number in lowest terms\n",
      " |  \n",
      " |  real\n",
      " |      the real part of a complex number\n",
      "\n",
      "help> quit\n",
      "\n",
      "You are now leaving help and returning to the Python interpreter.\n",
      "If you want to ask for help on a particular object directly from the\n",
      "interpreter, you can type \"help(object)\".  Executing \"help('string')\"\n",
      "has the same effect as typing a particular string at the help> prompt.\n"
     ]
    }
   ],
   "source": [
    "help()"
   ]
  },
  {
   "cell_type": "markdown",
   "id": "e1177aec",
   "metadata": {},
   "source": [
    "- Subsequent cells present other ways to get help. Run them."
   ]
  },
  {
   "cell_type": "code",
   "execution_count": null,
   "id": "b59478c3",
   "metadata": {},
   "outputs": [],
   "source": [
    "help(print)"
   ]
  },
  {
   "cell_type": "code",
   "execution_count": null,
   "id": "288e3677",
   "metadata": {},
   "outputs": [],
   "source": [
    "help('random thing')"
   ]
  },
  {
   "cell_type": "code",
   "execution_count": null,
   "id": "970e35a3",
   "metadata": {},
   "outputs": [],
   "source": [
    "?print"
   ]
  },
  {
   "cell_type": "code",
   "execution_count": null,
   "id": "2e2f3426",
   "metadata": {},
   "outputs": [],
   "source": [
    "help('math')"
   ]
  },
  {
   "cell_type": "code",
   "execution_count": null,
   "id": "3cc9db5f",
   "metadata": {},
   "outputs": [],
   "source": [
    "+?"
   ]
  },
  {
   "cell_type": "code",
   "execution_count": null,
   "id": "c04f8e5f",
   "metadata": {},
   "outputs": [],
   "source": [
    "??"
   ]
  },
  {
   "cell_type": "markdown",
   "id": "811114bb",
   "metadata": {},
   "source": [
    "## Major, minor, even or odd\n",
    "\n",
    "Ask for two integer numbers as input and print which one is greater. Consider the case where they are equal. Within the print itself, include a message indicating whether the number that is greater is even or not.\n",
    "\n",
    "**Tip:** Don't even think about nesting ifs!! It is not a good practice."
   ]
  },
  {
   "cell_type": "code",
   "execution_count": 14,
   "id": "dbe9fbf8",
   "metadata": {},
   "outputs": [
    {
     "name": "stdout",
     "output_type": "stream",
     "text": [
      "Write a number:0\n",
      "Write other number:0\n"
     ]
    }
   ],
   "source": [
    "# Type the code here:\n",
    "\n",
    "num1=float(input(\"Write a number:\"))\n",
    "num2=float(input(\"Write other number:\"))\n",
    "\n",
    "while num1!=num2:\n",
    "   \n",
    "    print(\"Greater numbers is: {}\".format(max(num1,num2)))\n",
    "    if max(num1,num2)%2==0:\n",
    "        print(\"The number entered is EVEN\")\n",
    "    else:\n",
    "        print(\"The number entered is ODD\")\n",
    "    break \n",
    "\n"
   ]
  },
  {
   "cell_type": "markdown",
   "id": "ce2567e5",
   "metadata": {},
   "source": [
    "## Adding odd numbers\n",
    "\n",
    "Of the first 50 numbers, how much do only the odd numbers add up to?\n",
    "\n",
    "(*Answer: 625*)"
   ]
  },
  {
   "cell_type": "code",
   "execution_count": 3,
   "id": "478fe4d2",
   "metadata": {},
   "outputs": [
    {
     "name": "stdout",
     "output_type": "stream",
     "text": [
      "25\n",
      "[1, 2, 3, 4, 5, 6, 7, 8, 9, 10, 11, 12, 13, 14, 15, 16, 17, 18, 19, 20, 21, 22, 23, 24, 25, 26, 27, 28, 29, 30, 31, 32, 33, 34, 35, 36, 37, 38, 39, 40, 41, 42, 43, 44, 45, 46, 47, 48, 49, 50]\n"
     ]
    }
   ],
   "source": [
    "# Type the code here:\n",
    "numbers=[]\n",
    "odd=0\n",
    "\n",
    "for i in range(50):\n",
    "    numbers.append(i+1)\n",
    "for number in numbers:\n",
    "    if number%2==0:\n",
    "        odd+=1\n",
    "print(odd)\n",
    "print(numbers)"
   ]
  },
  {
   "cell_type": "markdown",
   "id": "c76ccd86",
   "metadata": {},
   "source": [
    "## How old would I be in the year...\n",
    "Ask for the year of birth as input, and then ask for any year, either in the past or in the future from that date. If the year is before your date of birth, print the remaining years to reach the date of birth (e.g. `10 years to go until I am born`). If the year is later, print how old you will be then."
   ]
  },
  {
   "cell_type": "code",
   "execution_count": 61,
   "id": "7806145f",
   "metadata": {},
   "outputs": [],
   "source": [
    "# Type the code here:\n",
    "\n"
   ]
  },
  {
   "cell_type": "markdown",
   "id": "21563dfd",
   "metadata": {},
   "source": [
    "## Passwords"
   ]
  },
  {
   "cell_type": "markdown",
   "id": "ea7d433f",
   "metadata": {},
   "source": [
    "Suppose you are in charge of the logging part of a mail server. The operation is as follows: the password defined by a user is saved as a string in a variable and will not be changed again. First, implement this; choose any password you can think of.\n",
    "\n",
    "The subsequent operation is based on requesting a password on the screen and printing if the entered password is correct or not, when compared with the saved variable.\n",
    "\n",
    "**Extra difficulty (or extra simplicity):** the passwords on this page are not case sensitive, so if the password is 'dog', if the user enters 'DoG', 'DOG' or doG, logging in will be successful."
   ]
  },
  {
   "cell_type": "code",
   "execution_count": 4,
   "id": "41e4c04a",
   "metadata": {},
   "outputs": [
    {
     "name": "stdout",
     "output_type": "stream",
     "text": [
      "Enter new Passwrod: ok\n",
      "Enter your Passwrod: ok\n",
      "logging in will be successful.\n"
     ]
    }
   ],
   "source": [
    "# Type the code here:\n",
    "passwordlist=[\"12345\",\"4321\",\"dog\",\"cat\",\"antonio\",\"pedro\",\"alberto\"]\n",
    "\n",
    "password=input(\"Enter new Passwrod: \")\n",
    "\n",
    "passwordlist.append(password)\n",
    "\n",
    "enter_password=input(\"Enter your Passwrod: \")\n",
    "\n",
    "for ele in passwordlist:\n",
    "    if ele==enter_password:\n",
    "        print(\"logging in will be successful.\")\n",
    "\n",
    "\n",
    "\n",
    "\n"
   ]
  },
  {
   "cell_type": "markdown",
   "id": "8c17d7d5",
   "metadata": {},
   "source": [
    "## Isolated question: \n",
    "\n",
    "What happens if the `type()` function is applied on the response to `type()` on a variable? And what does it mean?\n",
    "\n",
    "***Tip:*** *lean on google when you're lost.*"
   ]
  },
  {
   "cell_type": "code",
   "execution_count": 82,
   "id": "465ca630",
   "metadata": {},
   "outputs": [],
   "source": [
    "# Type the code here:\n",
    "y\n",
    "type(y)\n",
    "\n",
    "\n"
   ]
  },
  {
   "cell_type": "code",
   "execution_count": 33,
   "id": "e5d8dc69",
   "metadata": {},
   "outputs": [
    {
     "name": "stdout",
     "output_type": "stream",
     "text": [
      "['welcome', 'to', 'the', 'jungle']\n"
     ]
    }
   ],
   "source": []
  },
  {
   "cell_type": "markdown",
   "id": "87ae21d6",
   "metadata": {},
   "source": [
    "## Mean\n",
    "\n",
    "Write a program with the following steps:\n",
    "\n",
    "a- Ask how many numbers the user will enter in total (let us call it N).\\\n",
    "b- Ask the user to enter these N numbers (not necessarily integers, they can be decimals), one by one, each as input.\\\n",
    "c- Print on the screen the value of the average of those N numbers.\\\n",
    "d- The average of N numbers must be rounded up! 😎\n",
    "\n",
    "***Tip:*** *within the math library you can find two very useful methods: floor() and ceil()*"
   ]
  },
  {
   "cell_type": "code",
   "execution_count": 19,
   "id": "b635513f",
   "metadata": {},
   "outputs": [
    {
     "name": "stdout",
     "output_type": "stream",
     "text": [
      "How many numbers want to introduce: 3\n",
      "Write de 1º number: 1\n",
      "Write de 2º number: 2\n",
      "Write de 3º number: 3\n",
      "Average:  2.0\n",
      "[1.0, 2.0, 3.0]\n"
     ]
    }
   ],
   "source": [
    "# Type the code here:\n",
    "numbers=int(input(\"How many numbers want to introduce: \"))\n",
    "listnumbers=[]\n",
    "total=0.0\n",
    "for i in range(numbers):\n",
    "    listnumbers.append(float(input(\"Write de {}º number: \".format(i+1))))\n",
    "    total=total+listnumbers[i]\n",
    "\n",
    "average=total/numbers\n",
    "\n",
    "print(\"Average: \",average)    \n"
   ]
  },
  {
   "cell_type": "markdown",
   "id": "cfd2fc72",
   "metadata": {},
   "source": [
    "## Fibonacci? Who is Fibonacci?\n",
    "\n",
    "Keep this problem in mind. We will use it again in Functions."
   ]
  },
  {
   "cell_type": "markdown",
   "id": "3ed8c9b3",
   "metadata": {},
   "source": [
    "Have you heard of the Fibonacci sequence? Do you know their applications?\n",
    "\n",
    "The Fibonacci numbers are defined by the following equations:\n",
    "\n",
    "> $f_0 = 0$\n",
    ">\n",
    "> $f_1 = 1$\n",
    ">\n",
    "> $f_n = f_{n-1} + f_{n-2}$\n",
    "\n",
    "where $n$ corresponds to the natural numbers $(\\,\\mathbb{N}_0\\,)$. Using a `while`, of the first 20 elements of this sequence, print only the odd ones. \n",
    "\n",
    "**Help/solution:**\n",
    "- term 1: 1\n",
    "- term 2: 1\n",
    "- term 3: 2 (DO NOT PRINT, IT IS EVEN)\n",
    "- term 4: 3\n",
    "- term 5: 5\n",
    "- term 6: 8 (DO NOT PRINT, IT IS EVEN)\n",
    "- ...\n",
    "- term 20: 6765"
   ]
  },
  {
   "cell_type": "code",
   "execution_count": 10,
   "id": "ae4dae83",
   "metadata": {},
   "outputs": [
    {
     "name": "stdout",
     "output_type": "stream",
     "text": [
      "0\n",
      "1\n",
      "1\n",
      "3\n",
      "5\n",
      "13\n",
      "21\n",
      "55\n",
      "89\n",
      "233\n",
      "377\n",
      "987\n",
      "1597\n",
      "4181\n",
      "6765\n",
      "[0, 1, 1, 2, 3, 5, 8, 13, 21, 34, 55, 89, 144, 233, 377, 610, 987, 1597, 2584, 4181, 6765]\n"
     ]
    }
   ],
   "source": [
    "# Type the code here:\n",
    "fibonacci=[0,1,1]\n",
    "i=3\n",
    "even=0\n",
    "while True:\n",
    "       \n",
    "    fibonacci.append(fibonacci[i-2]+fibonacci[i-1])\n",
    "    i+=1\n",
    "    if i==21: \n",
    "        break\n",
    "for number in fibonacci:\n",
    "    if number>0 and number%2==0:\n",
    "        even+=1\n",
    "    else:\n",
    "        print(number)\n",
    "print(fibonacci)"
   ]
  },
  {
   "cell_type": "markdown",
   "id": "b2209889",
   "metadata": {},
   "source": [
    "## Which word is longer?\n",
    "\n",
    "Write a program that receives words (composed only of alphabetic characters) as input, and indicates which word is the longest. The program must be able to receive as many words as one wants and, after entering the last word, the ingestion must be interrupted with any non-alphabetic character. If the words are the same length, print any of them (maybe just the fist one?).\n",
    "\n",
    "\n",
    "**Help:** the [isalpha()](https://www.programiz.com/python-programming/methods/string/isalpha) method can help you stop word ingestion. Think how to implement it."
   ]
  },
  {
   "cell_type": "code",
   "execution_count": 34,
   "id": "3ed74d9f",
   "metadata": {},
   "outputs": [
    {
     "name": "stdout",
     "output_type": "stream",
     "text": [
      "1º Wordder\n"
     ]
    },
    {
     "ename": "NameError",
     "evalue": "name 'isalnum' is not defined",
     "output_type": "error",
     "traceback": [
      "\u001b[1;31m---------------------------------------------------------------------------\u001b[0m",
      "\u001b[1;31mNameError\u001b[0m                                 Traceback (most recent call last)",
      "Input \u001b[1;32mIn [34]\u001b[0m, in \u001b[0;36m<cell line: 8>\u001b[1;34m()\u001b[0m\n\u001b[0;32m      6\u001b[0m \u001b[38;5;28;01mwhile\u001b[39;00m \u001b[38;5;28;01mTrue\u001b[39;00m:\n\u001b[0;32m      8\u001b[0m     list_words\u001b[38;5;241m.\u001b[39mappend(\u001b[38;5;28minput\u001b[39m(\u001b[38;5;124m\"\u001b[39m\u001b[38;5;132;01m{}\u001b[39;00m\u001b[38;5;124mº Word\u001b[39m\u001b[38;5;124m\"\u001b[39m\u001b[38;5;241m.\u001b[39mformat(i\u001b[38;5;241m+\u001b[39m\u001b[38;5;241m1\u001b[39m)))\n\u001b[1;32m---> 10\u001b[0m     \u001b[38;5;28;01mif\u001b[39;00m \u001b[38;5;28;01mTrue\u001b[39;00m\u001b[38;5;241m==\u001b[39m\u001b[43misalnum\u001b[49m(list_words):\n\u001b[0;32m     11\u001b[0m         numbers\u001b[38;5;241m=\u001b[39m\u001b[38;5;124m\"\u001b[39m\u001b[38;5;124m0123456789\u001b[39m\u001b[38;5;124m\"\u001b[39m\n\u001b[0;32m     12\u001b[0m         \u001b[38;5;28;01mfor\u001b[39;00m char \u001b[38;5;129;01min\u001b[39;00m list_words[i]:\n",
      "\u001b[1;31mNameError\u001b[0m: name 'isalnum' is not defined"
     ]
    }
   ],
   "source": [
    "# Type the code here:\n",
    "#Try without isaalpha()\n",
    "##list_words=[]\n",
    "##longword=[]\n",
    "##i=0\n",
    "##while True:\n",
    "    \n",
    "##    list_words.append(input(\"{}º Word\".format(i+1)))\n",
    "    \n",
    "##    if True==isalnum(list_words):\n",
    "##        numbers=\"0123456789\"\n",
    "##        for char in list_words[i]:\n",
    "##            i+=1\n",
    "##            if char in numbers:\n",
    "##                break\n",
    "            \n",
    "##    print(\"no es una palabra\")  \n",
    "            \n",
    "    \n",
    "##for word in list_words:\n",
    "##    longword.append(len(word))\n",
    "\n",
    "##print(longword)\n",
    "\n",
    "##maxi=max(longword)\n",
    "##type(maxi)\n",
    "##position=longword.index(maxi)\n",
    "\n",
    "##print(\"The long WORD is\",words[position],'with',maxi,\"characters\")\n"
   ]
  }
 ],
 "metadata": {
  "kernelspec": {
   "display_name": "Python 3 (ipykernel)",
   "language": "python",
   "name": "python3"
  },
  "language_info": {
   "codemirror_mode": {
    "name": "ipython",
    "version": 3
   },
   "file_extension": ".py",
   "mimetype": "text/x-python",
   "name": "python",
   "nbconvert_exporter": "python",
   "pygments_lexer": "ipython3",
   "version": "3.9.12"
  },
  "toc": {
   "base_numbering": 1,
   "nav_menu": {},
   "number_sections": true,
   "sideBar": true,
   "skip_h1_title": true,
   "title_cell": "Table of Contents",
   "title_sidebar": "Contents",
   "toc_cell": false,
   "toc_position": {
    "height": "calc(100% - 180px)",
    "left": "10px",
    "top": "150px",
    "width": "375.851px"
   },
   "toc_section_display": true,
   "toc_window_display": false
  }
 },
 "nbformat": 4,
 "nbformat_minor": 5
}
