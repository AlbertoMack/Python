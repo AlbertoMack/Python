{
 "cells": [
  {
   "cell_type": "markdown",
   "id": "413f4c2a",
   "metadata": {},
   "source": [
    "# Introductory Task Sheet: "
   ]
  },
  {
   "cell_type": "markdown",
   "id": "fcc8fc33",
   "metadata": {},
   "source": [
    "<img width=80 src=\"https://media.giphy.com/media/KAq5w47R9rmTuvWOWa/giphy.gif\">\n",
    "\n",
    "<img width=150 src=\"Images/Assembler.png\">"
   ]
  },
  {
   "cell_type": "markdown",
   "id": "1eeef4db",
   "metadata": {},
   "source": [
    "# Important:\n",
    "\n",
    "- Comment your code explaining what each part does when you consider it.\n",
    "- We are asking about two types of problems. The first type are solved with code cells, and the second with markdown type cells (where the solution must be thought without executing code cells). This will be indicated in each problem.\n",
    "- Always respect the format of the solution and the instructions!"
   ]
  },
  {
   "cell_type": "markdown",
   "id": "9e90dfa2",
   "metadata": {},
   "source": [
    "# Recommendations:\n",
    "\n",
    "- There are as many ways to solve a problem as there are people in the world. Find yours!\n",
    "- Create as many variables as you want. They cost nothing and are worth it for the sake of clarity.\n",
    "- You can add cells if needed. \n",
    "- Remember that there are two types of cells: code and markdown. \n",
    "- Use both. Explanations never hurt.\n",
    "- There are several ways to approach the same problem. Try not to repeat your way of thinking. Explore different ways to achieve same results. \n",
    "- If different syntaxes lead to the same result, explore them. For example, if you use the print function, sometimes use f-strings, sometimes .format() and sometimes the syntax with %. Explore how each works.\n",
    "- Use internet in a smart way. Don't look at how to solve the problem in its entirety; it is better to learn methods that lead your logical reasoning to the solution.\n",
    "- Once you have a plan to address the problem, try breaking your code into manageable chunks.\n",
    "- Use `print()` and `type()` functions in the middle of your code to understand what your code is actually doing.\n",
    "- Use as many `print()` and `type()` as you consider until you understand the sintaxis."
   ]
  },
  {
   "cell_type": "markdown",
   "id": "92b04bae",
   "metadata": {},
   "source": [
    "***\n",
    "## Which number is bigger, $10^9$ or $9^{10}$?"
   ]
  },
  {
   "cell_type": "code",
   "execution_count": 1,
   "id": "84a311d0",
   "metadata": {},
   "outputs": [
    {
     "data": {
      "text/plain": [
       "True"
      ]
     },
     "execution_count": 1,
     "metadata": {},
     "output_type": "execute_result"
    }
   ],
   "source": [
    "# Type the code here:\n",
    "10**9<9**10"
   ]
  },
  {
   "cell_type": "markdown",
   "id": "2fc21aa0",
   "metadata": {},
   "source": [
    "## Variables\n",
    "\n",
    "Store in a variable the result of the division of two integer variables. What type of variable is this result?"
   ]
  },
  {
   "cell_type": "code",
   "execution_count": 119,
   "id": "ba518173",
   "metadata": {},
   "outputs": [
    {
     "name": "stdout",
     "output_type": "stream",
     "text": [
      "0.625 <class 'float'>\n"
     ]
    }
   ],
   "source": [
    "# Type the code here:\n",
    "a=5\n",
    "b=8\n",
    "resultado=a/b\n",
    "print(resultado,type(resultado))\n"
   ]
  },
  {
   "cell_type": "markdown",
   "id": "4f275752",
   "metadata": {},
   "source": [
    "## Rounding\n",
    "\n",
    "Let three numbers be `𝑎 = 5.5` , `𝑏 = 2.5` and `𝑐 = 𝑎 * 𝑏`.\n",
    "\n",
    "a. Enter these parameters as variables and print them rounded to an integer (int).\n",
    "\n",
    "b. Round `a` and `b` to an integer first, and then compute `c` as the product of `a` and `b` rounded.\n",
    "\n",
    "𝑐 . If you calculate `c` as the product of `a` and `b` (without rounding) and then round the result, what do you notice?"
   ]
  },
  {
   "cell_type": "code",
   "execution_count": 19,
   "id": "eadec871",
   "metadata": {},
   "outputs": [
    {
     "name": "stdout",
     "output_type": "stream",
     "text": [
      "a= 6 b= 2\n",
      "12\n",
      "13.75\n"
     ]
    }
   ],
   "source": [
    "# Type the code here:\n",
    "a=5.5\n",
    "b=2.5\n",
    "print(\"a=\",round(a), \"b=\",round(b))\n",
    "c=round(a)*round(b)\n",
    "print(c)\n",
    "c2=a*b\n",
    "print(c2)"
   ]
  },
  {
   "cell_type": "markdown",
   "id": "f549eb0f",
   "metadata": {},
   "source": [
    "## Variable type\n",
    "\n",
    "What type of variable does Python return when applying `round(x,n)`? \n",
    "\n",
    "(where `x` is a float and `n` is the number of decimal places one wishes to round to)\n",
    "\n",
    "Is it the same for n = 0, i.e. when rounded to an integer number?"
   ]
  },
  {
   "cell_type": "code",
   "execution_count": 23,
   "id": "3f068ee2",
   "metadata": {},
   "outputs": [
    {
     "data": {
      "text/plain": [
       "-2.3"
      ]
     },
     "execution_count": 23,
     "metadata": {},
     "output_type": "execute_result"
    }
   ],
   "source": [
    "# Type the code here:\n",
    "x=-2.326223426\n",
    "n=5\n",
    "round(x,1)"
   ]
  },
  {
   "cell_type": "markdown",
   "id": "8575e573",
   "metadata": {},
   "source": [
    "## Compound interest\n",
    "\n",
    "Suppose a principal amount of €500 is deposited in a bank and left for 5 years with interest compounded at 2% per annum. How much money do I end up with? (work only with two decimals)\n",
    "\n",
    "[Compound interest](https://es.wikipedia.org/wiki/Inter%C3%A9s_compuesto)"
   ]
  },
  {
   "cell_type": "code",
   "execution_count": 10,
   "id": "bcc29833",
   "metadata": {},
   "outputs": [
    {
     "name": "stdout",
     "output_type": "stream",
     "text": [
      "552.04\n"
     ]
    }
   ],
   "source": [
    "# Type the code here:\n",
    "bankroll=500\n",
    "years=5\n",
    "for i in range (years):\n",
    "    bankroll=bankroll*0.02+bankroll\n",
    "print(round(bankroll,2))"
   ]
  },
  {
   "cell_type": "markdown",
   "id": "b1e0567a",
   "metadata": {},
   "source": [
    "## Why not a simple square? \n",
    "Write a Python program that calculates the volume (in cubic meters) and the area (in square meters) of a sphere of any radius (in meters) entered as input. The output must be rounded to 2 digits for the volume and 3 for the area."
   ]
  },
  {
   "cell_type": "code",
   "execution_count": 32,
   "id": "1a268113",
   "metadata": {},
   "outputs": [
    {
     "name": "stdout",
     "output_type": "stream",
     "text": [
      "Area= 314.16 m² Volume= 523.6 m³\n"
     ]
    }
   ],
   "source": [
    "# Type the code here:\n",
    "import math\n",
    "radius=5\n",
    "\n",
    "area=4*math.pi*radius**2\n",
    "vol=4/3*math.pi*radius**3\n",
    "\n",
    "print(\"Area=\",round(area,2),\"m\\u00b2\",\"Volume=\",round(vol,2),\"m\\u00b3\")\n"
   ]
  },
  {
   "cell_type": "markdown",
   "id": "00278986",
   "metadata": {},
   "source": [
    "## Try first to solve this without running code cells:\n",
    "\n",
    "- What value will you get from executing 5 > 5?"
   ]
  },
  {
   "cell_type": "markdown",
   "id": "27652d40",
   "metadata": {},
   "source": [
    "*Write the solution in this markdown cell:*\n",
    "\n",
    "\n",
    ".False\n",
    "\n",
    "\n",
    "."
   ]
  },
  {
   "cell_type": "markdown",
   "id": "ea7113f9",
   "metadata": {},
   "source": [
    "- and from executing 5 >= 5?"
   ]
  },
  {
   "cell_type": "markdown",
   "id": "9cf3e653",
   "metadata": {},
   "source": [
    "*Write the solution in this markdown cell:*\n",
    "\n",
    "\n",
    ".SyntaxError: cannot assign to literal\n",
    "\n",
    "\n",
    "."
   ]
  },
  {
   "cell_type": "markdown",
   "id": "556956df",
   "metadata": {},
   "source": [
    "- Are operators == and != valid for strings?"
   ]
  },
  {
   "cell_type": "markdown",
   "id": "e3a2302e",
   "metadata": {},
   "source": [
    "*Write the solution in this markdown cell:*\n",
    "\n",
    "\n",
    ".they are valid\n",
    "\n",
    "\n",
    "."
   ]
  },
  {
   "cell_type": "markdown",
   "id": "6f83b02b",
   "metadata": {},
   "source": [
    "## Of quotients and remainders\n",
    "\n",
    "Write a program that asks the user for an integer and reports the value of the quotient and the remainder when divided by seven."
   ]
  },
  {
   "cell_type": "code",
   "execution_count": 22,
   "id": "3e689d17",
   "metadata": {
    "scrolled": true
   },
   "outputs": [
    {
     "name": "stdout",
     "output_type": "stream",
     "text": [
      "What number do you want to divide by seven\n",
      "2.435\n",
      "Quotient:  0.348 remainder: 2.435\n"
     ]
    }
   ],
   "source": [
    "# Type the code here:\n",
    "print(\"What number do you want to divide by seven\")\n",
    "number=input()\n",
    "number=float(number)\n",
    "cociente=number/7\n",
    "resto=number%7\n",
    "print(\"Quotient: \",round(cociente,2), \"remainder:\", resto)\n"
   ]
  },
  {
   "cell_type": "markdown",
   "id": "7e1aa3c0",
   "metadata": {},
   "source": [
    "## First steps on databases\n",
    "\n",
    "Make a Python program that prints on screen your data that will have been requested by keyboard:\n",
    "\n",
    "- Name(s)\n",
    "- Surname(s)\n",
    "- Age\n",
    "- Address\n",
    "- Mail\n",
    "\n",
    "Next, write a code that with the entered age computes the year of birth."
   ]
  },
  {
   "cell_type": "code",
   "execution_count": 47,
   "id": "bb8493cc",
   "metadata": {},
   "outputs": [
    {
     "name": "stdout",
     "output_type": "stream",
     "text": [
      "Enter your NAME:Alberto\n",
      "Enter your SURNAME:Padilla\n",
      "Enter your AGE:33\n",
      "Enter your ADDRESS:mack@g\n",
      "Enter your MAIL:asdw\n",
      "Your birth in: 1989\n"
     ]
    }
   ],
   "source": [
    "# Type the code here:\n",
    "name=input(\"Enter your NAME:\")\n",
    "surname=input(\"Enter your SURNAME:\")\n",
    "age=input(\"Enter your AGE:\")\n",
    "address=input(\"Enter your ADDRESS:\")\n",
    "mail=input(\"Enter your MAIL:\")\n",
    "birth=2022-int(age)\n",
    "print(\"Your birth in:\", birth)\n",
    "\n"
   ]
  },
  {
   "cell_type": "markdown",
   "id": "45c0fa4a",
   "metadata": {},
   "source": [
    "## IVA\n",
    "\n",
    "Write a program that queries a product and its price, and returns the value of the IVA.\n",
    "Show the data on the screen, taking into account that if the entered price has more than 3 decimal places, we want it to be rounded to exactly 2."
   ]
  },
  {
   "cell_type": "code",
   "execution_count": 46,
   "id": "4cd9a513",
   "metadata": {},
   "outputs": [
    {
     "name": "stdout",
     "output_type": "stream",
     "text": [
      "Name Product:Lejia\n",
      "Price:2.5463\n",
      "{'name': ['Lejia'], 'Price': [2.55], 'IVA': [0.53]}\n"
     ]
    }
   ],
   "source": [
    "# Type the code here:\n",
    "\n",
    "product=input(\"Name Product:\")\n",
    "price=float(input(\"Price:\"))\n",
    "iva=round(0.21*price,2)\n",
    "products={\"Name\":[product],\"Price\":[round(price,2)],\"IVA\":[iva]}\n",
    "print(products)"
   ]
  },
  {
   "cell_type": "markdown",
   "id": "d6a06f7b",
   "metadata": {},
   "source": [
    "## Reverse a string!  🤨"
   ]
  },
  {
   "cell_type": "code",
   "execution_count": 59,
   "id": "5d839d35",
   "metadata": {},
   "outputs": [
    {
     "name": "stdout",
     "output_type": "stream",
     "text": [
      "sdnegeL fo eugaeL led ortseam nu yoS\n"
     ]
    }
   ],
   "source": [
    "# Type the code here:\n",
    "txt=\"Soy un maestro del Swing\"\n",
    "print(txt[::-1])\n"
   ]
  },
  {
   "cell_type": "markdown",
   "id": "5b435efa",
   "metadata": {},
   "source": [
    "## Uppercase Half String  😮"
   ]
  },
  {
   "cell_type": "code",
   "execution_count": 101,
   "id": "1f504919",
   "metadata": {},
   "outputs": [
    {
     "name": "stdout",
     "output_type": "stream",
     "text": [
      "Soy un maestRO DEL SWING\n"
     ]
    }
   ],
   "source": [
    "# Type the code here:\n",
    "txt=\"Soy un maestro del Swing\"\n",
    "totalchar=len(txt) #Cuenta el numero total de caracteres\n",
    "half=int(totalchar/2) #Obtiene la mitad de los caracteres\n",
    "txtupper=txt[half:totalchar:] #Pone en la variable la mitad del txt y lo capitaliza\n",
    "print(txt[0:half:]+txtupper.upper()) #Suma la mitad sin capitalizar y la que si"
   ]
  },
  {
   "cell_type": "markdown",
   "id": "2c14da84",
   "metadata": {},
   "source": [
    "## Domains\n",
    "\n",
    "In your company, colegues are studying the statistical distribution of mail's domains of clients. Save your email in a variable and create an algorithm that extracts the domain from it. Print it on screen."
   ]
  },
  {
   "cell_type": "code",
   "execution_count": 118,
   "id": "88442013",
   "metadata": {},
   "outputs": [
    {
     "name": "stdout",
     "output_type": "stream",
     "text": [
      "gmail.com\n"
     ]
    }
   ],
   "source": [
    "# Type the code here:\n",
    "email1=\"antonio@gmail.com\"\n",
    "list1=email1.split(\"@\")\n",
    "print(list1[1])"
   ]
  },
  {
   "cell_type": "code",
   "execution_count": null,
   "id": "ba2f62ac",
   "metadata": {},
   "outputs": [],
   "source": []
  }
 ],
 "metadata": {
  "kernelspec": {
   "display_name": "Python 3 (ipykernel)",
   "language": "python",
   "name": "python3"
  },
  "language_info": {
   "codemirror_mode": {
    "name": "ipython",
    "version": 3
   },
   "file_extension": ".py",
   "mimetype": "text/x-python",
   "name": "python",
   "nbconvert_exporter": "python",
   "pygments_lexer": "ipython3",
   "version": "3.9.12"
  },
  "toc": {
   "base_numbering": 1,
   "nav_menu": {},
   "number_sections": true,
   "sideBar": true,
   "skip_h1_title": true,
   "title_cell": "Table of Contents",
   "title_sidebar": "Contents",
   "toc_cell": false,
   "toc_position": {
    "height": "calc(100% - 180px)",
    "left": "10px",
    "top": "150px",
    "width": "165px"
   },
   "toc_section_display": true,
   "toc_window_display": false
  }
 },
 "nbformat": 4,
 "nbformat_minor": 5
}
