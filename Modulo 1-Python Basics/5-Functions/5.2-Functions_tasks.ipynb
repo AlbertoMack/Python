{
 "cells": [
  {
   "cell_type": "markdown",
   "id": "5bc8653a",
   "metadata": {},
   "source": [
    "# Functions Task Sheet"
   ]
  },
  {
   "cell_type": "markdown",
   "id": "0af3fdc4",
   "metadata": {},
   "source": [
    "<img width=80 src=\"https://media.giphy.com/media/KAq5w47R9rmTuvWOWa/giphy.gif\">\n",
    "\n",
    "<img width=150 src=\"Images/Assembler.png\">"
   ]
  },
  {
   "cell_type": "markdown",
   "id": "4ffc34e1",
   "metadata": {},
   "source": [
    "# Important:\n",
    "\n",
    "- Comment your code explaining what each part does when you consider it.\n",
    "- We are asking about two types of problems. The first type are solved with code cells, and the second with markdown type cells (where the solution must be thought without executing code cells). This will be indicated in each problem.\n",
    "- Always respect the format of the solution and the instructions!"
   ]
  },
  {
   "cell_type": "markdown",
   "id": "66d84f30",
   "metadata": {},
   "source": [
    "# Recommendations:\n",
    "\n",
    "- There are as many ways to solve a problem as there are people in the world. Find yours!\n",
    "- Create as many variables as you want. They cost nothing and are worth it for the sake of clarity.\n",
    "- You can add cells if needed. \n",
    "- Remember that there are two types of cells: code and markdown. Use both. Explanations never hurt.\n",
    "- There are several ways to approach the same problem. Try not to repeat your way of thinking.\n",
    "- If different syntaxes lead to the same result, explore them.\n",
    "- Use internet in a smart way. Don't look at how to solve the problem in its entirety; it is better to learn methods that lead your logical reasoning to the solution.\n",
    "- Once you have a plan to address the problem, try breaking your code into manageable chunks.\n",
    "- Use `print()` and `type()` functions in the middle of your code to understand what your code is actually doing."
   ]
  },
  {
   "cell_type": "markdown",
   "id": "9e2e1a98",
   "metadata": {},
   "source": [
    "***"
   ]
  },
  {
   "cell_type": "markdown",
   "id": "87ab9ed5",
   "metadata": {},
   "source": [
    "## Warm up with a lecture\n",
    "\n",
    "- [Python Keywords and Identifiers](https://www.programiz.com/python-programming/keywords-identifier)"
   ]
  },
  {
   "cell_type": "markdown",
   "id": "15c7840a",
   "metadata": {},
   "source": [
    "## Equality function\n",
    "\n",
    "Define the function `equality(n1,n2)` that takes two numbers and returns `True` if they are equal or `False` otherwise."
   ]
  },
  {
   "cell_type": "code",
   "execution_count": null,
   "id": "c34c4993",
   "metadata": {},
   "outputs": [],
   "source": [
    "# Type the code here:\n",
    "def equality(n1,n2):\n",
    "    if n1==n2:\n",
    "        print(True)\n",
    "    else:\n",
    "        print(False)"
   ]
  },
  {
   "cell_type": "code",
   "execution_count": null,
   "id": "d67d5042",
   "metadata": {},
   "outputs": [],
   "source": [
    "equality(2,2)"
   ]
  },
  {
   "cell_type": "markdown",
   "id": "6371ce65",
   "metadata": {},
   "source": [
    "## Scream loud and repetitively function\n",
    "\n",
    "Create a function that receives a string and an integer, and prints that string in uppercase and with two exclamation marks at the end, as many times as the entered number indicates."
   ]
  },
  {
   "cell_type": "code",
   "execution_count": null,
   "id": "d7085038",
   "metadata": {},
   "outputs": [],
   "source": [
    "# Type the code here:\n",
    "def strint(string,integer):\n",
    "    print(string.upper()+\"\"+\"!!\"*integer)\n",
    "    "
   ]
  },
  {
   "cell_type": "code",
   "execution_count": null,
   "id": "2b057a3d",
   "metadata": {},
   "outputs": [],
   "source": [
    "strint(\"antonio\",2)"
   ]
  },
  {
   "cell_type": "markdown",
   "id": "765aa649",
   "metadata": {},
   "source": [
    "## Selecting specific entries from a list\n",
    "\n",
    "Do you remember the list of countries that we have used in the '*4.2-Lists_tasks*' notebook? (Problem **7 Countries**)\n",
    "\n",
    "Create a function that selects only countries that start with a specified letter. The program must be case insensitive.\n",
    "\n",
    "If this letter is not given to the function, it should automatically return countries that start with 'A'.\n",
    "\n",
    "The output of the function should be a new list containing the original list, but with a tuple at the beginning of the new list made up of all the countries that start with the chosen letter.\n",
    "\n",
    "**Look at this!** &nbsp;&nbsp; &rarr; &nbsp;&nbsp;  [Use Unpacking to Insert an Element Into the Beginning of a List](https://www.delftstack.com/howto/python/python-insert-into-list/#use-unpacking-to-insert-an-element-into-the-beginning-of-a-list)\n",
    "\n",
    "Do you dare to implement the unpacking operation to add the tuple at the beginning of the new list?"
   ]
  },
  {
   "cell_type": "code",
   "execution_count": null,
   "id": "f46cc5c5",
   "metadata": {},
   "outputs": [],
   "source": [
    "# Type the code here:\n",
    "city_population = ['Tokyo',\n",
    "'Sao Paulo',\n",
    "'Cairo',\n",
    "'Istanbul' ,\n",
    "'Buenos Aires',\n",
    "'Manila',\n",
    "'New York City',\n",
    "'Madrid',\n",
    "'Johannesburg',\n",
    "'Barcelona',\n",
    "'Rome',\n",
    "'Asuncion']\n",
    "\n"
   ]
  },
  {
   "cell_type": "code",
   "execution_count": null,
   "id": "3be3a2a2",
   "metadata": {},
   "outputs": [],
   "source": [
    "def seleccity(letter):\n",
    "    char=[]\n",
    "    for city in city_population:\n",
    "        if city[0].lower()==letter:\n",
    "            print(city)"
   ]
  },
  {
   "cell_type": "code",
   "execution_count": null,
   "id": "dc2e2d90",
   "metadata": {},
   "outputs": [],
   "source": [
    "seleccity(\"n\")"
   ]
  },
  {
   "cell_type": "markdown",
   "id": "a0f13a95",
   "metadata": {},
   "source": [
    "## Which number is bigger?\n",
    "\n",
    "Make a function that takes two numbers and prints the higher one (consider the case where they are equal).\n",
    "\n",
    "Create a full Docstring for your function. Here is some documentation on [docstrings](https://www.programiz.com/python-programming/docstrings)."
   ]
  },
  {
   "cell_type": "code",
   "execution_count": null,
   "id": "737ca560",
   "metadata": {},
   "outputs": [],
   "source": [
    "# Type the code here:\n",
    "def bigger(n1,n2):\n",
    "    if n1>n2:\n",
    "        print(f'The Higher is: {n1}.')\n",
    "    elif n1<n2:\n",
    "        print(f'The Higher is: {n2}.')\n",
    "    else:\n",
    "        print(f'{n1} and {n2} are Equals.')"
   ]
  },
  {
   "cell_type": "code",
   "execution_count": null,
   "id": "d92d7f10",
   "metadata": {},
   "outputs": [],
   "source": [
    "bigger(2,3)"
   ]
  },
  {
   "cell_type": "markdown",
   "id": "b1540284",
   "metadata": {},
   "source": [
    "The following cell accesses the docstring of your function:"
   ]
  },
  {
   "cell_type": "code",
   "execution_count": null,
   "id": "f80687ab",
   "metadata": {},
   "outputs": [],
   "source": [
    "print(highest_number.__doc__)"
   ]
  },
  {
   "cell_type": "markdown",
   "id": "70210a84",
   "metadata": {},
   "source": [
    "##  Define a function that adds a variable number of numbers, but only if they are odd.\n",
    "\n",
    "Develop a function that receives any N integers and returns the sum only of those that are odd."
   ]
  },
  {
   "cell_type": "code",
   "execution_count": null,
   "id": "c6288b7e",
   "metadata": {},
   "outputs": [],
   "source": [
    "# Type the code here:\n",
    "def oddlist(*arg):\n",
    "    total=0\n",
    "    for num in arg:\n",
    "        if num%2!=0:\n",
    "            total=num+total\n",
    "    print(total)"
   ]
  },
  {
   "cell_type": "code",
   "execution_count": null,
   "id": "50a4b903",
   "metadata": {},
   "outputs": [],
   "source": [
    "oddlist(3,3,4,5,2,4,2,1,1,1)"
   ]
  },
  {
   "cell_type": "markdown",
   "id": "563974ae",
   "metadata": {},
   "source": [
    "## Total amount of seconds\n",
    "\n",
    "**a.** Suppose you are performing an experiment whose time is measured by means of a stopwatch. The format of the recorded time is given in minutes and seconds; e.g. the first measurement records a time of '07:37'. You want to compare the total number of seconds each time the experiment runs. For this case, the function should return '457'. Create an algorithm that performs that task so you can skip the calculations by hand and just drink coffee.\n",
    "\n",
    "**b.** Suppose the experiment has two or more parts that are measured separately. How would you get the total time of two or more runs of the experiment? Define a function that can take an arbitrary number of time measurements (in the form `minutes:seconds`) and return their sum (in seconds)."
   ]
  },
  {
   "cell_type": "code",
   "execution_count": null,
   "id": "08617543",
   "metadata": {},
   "outputs": [],
   "source": [
    "# Type the code here:\n",
    "def timer(*kwarg)\n"
   ]
  },
  {
   "cell_type": "markdown",
   "id": "963a13f0",
   "metadata": {},
   "source": [
    "## Project Euler\n",
    "\n",
    "If we list all the natural numbers below 10 that are multiples of 3 or 5, we get 3, 5, 6 and 9. The sum of these multiples is 23.\n",
    "\n",
    "Create a program that requests an integer as input. With that number it executes a function that calculates all the multiples 3 and 5 of that number, and prints a tuple with the chosen number, all the multiples and their sum.\n",
    "\n",
    "**\n",
    "\n",
    "**Check:** If you enter the number 1000, you must obtain as the sum of their multiples 233168."
   ]
  },
  {
   "cell_type": "code",
   "execution_count": 111,
   "id": "c44d3b3e",
   "metadata": {},
   "outputs": [],
   "source": [
    "# Type the code here:\n",
    "def euler(num):\n",
    "    total=0\n",
    "    num_multp=[]\n",
    "    list_mult=[number for number in range(1,num+1)] \n",
    "    \n",
    "    for num_list in list_mult:\n",
    "        if num_list%3==0 or num_list%5==0:\n",
    "            num_multp.append(num_list)\n",
    "            total=num_list+total\n",
    "        \n",
    "    print(f'total: {total}, mult:{num_multp}')\n",
    "    \n"
   ]
  },
  {
   "cell_type": "code",
   "execution_count": 152,
   "id": "f26b363c",
   "metadata": {},
   "outputs": [],
   "source": [
    "def euler2(num):\n",
    "    num_multp=[num_list for num_list in [number for number in range(1,num+1)] if num_list%3==0 or num_list%5==0]\n",
    "    print(num_multp)"
   ]
  },
  {
   "cell_type": "code",
   "execution_count": 154,
   "id": "8c01491c",
   "metadata": {},
   "outputs": [
    {
     "name": "stdout",
     "output_type": "stream",
     "text": [
      "[3, 5, 6, 9, 10, 12, 15, 18, 20, 21, 24, 25, 27, 30, 33, 35, 36, 39, 40, 42, 45, 48, 50, 51, 54, 55, 57, 60, 63, 65, 66, 69, 70, 72, 75, 78, 80, 81, 84, 85, 87, 90, 93, 95, 96, 99, 100, 102, 105, 108, 110, 111, 114, 115, 117, 120, 123, 125, 126, 129, 130, 132, 135, 138, 140, 141, 144, 145, 147, 150, 153, 155, 156, 159, 160, 162, 165, 168, 170, 171, 174, 175, 177, 180, 183, 185, 186, 189, 190, 192, 195, 198, 200, 201, 204, 205, 207, 210, 213, 215, 216, 219, 220, 222, 225, 228, 230, 231, 234, 235, 237, 240, 243, 245, 246, 249, 250, 252, 255, 258, 260, 261, 264, 265, 267, 270, 273, 275, 276, 279, 280, 282, 285, 288, 290, 291, 294, 295, 297, 300, 303, 305, 306, 309, 310, 312, 315, 318, 320, 321, 324, 325, 327, 330, 333, 335, 336, 339, 340, 342, 345, 348, 350, 351, 354, 355, 357, 360, 363, 365, 366, 369, 370, 372, 375, 378, 380, 381, 384, 385, 387, 390, 393, 395, 396, 399, 400, 402, 405, 408, 410, 411, 414, 415, 417, 420, 423, 425, 426, 429, 430, 432, 435, 438, 440, 441, 444, 445, 447, 450, 453, 455, 456, 459, 460, 462, 465, 468, 470, 471, 474, 475, 477, 480, 483, 485, 486, 489, 490, 492, 495, 498, 500, 501, 504, 505, 507, 510, 513, 515, 516, 519, 520, 522, 525, 528, 530, 531, 534, 535, 537, 540, 543, 545, 546, 549, 550, 552, 555, 558, 560, 561, 564, 565, 567, 570, 573, 575, 576, 579, 580, 582, 585, 588, 590, 591, 594, 595, 597, 600, 603, 605, 606, 609, 610, 612, 615, 618, 620, 621, 624, 625, 627, 630, 633, 635, 636, 639, 640, 642, 645, 648, 650, 651, 654, 655, 657, 660, 663, 665, 666, 669, 670, 672, 675, 678, 680, 681, 684, 685, 687, 690, 693, 695, 696, 699, 700, 702, 705, 708, 710, 711, 714, 715, 717, 720, 723, 725, 726, 729, 730, 732, 735, 738, 740, 741, 744, 745, 747, 750, 753, 755, 756, 759, 760, 762, 765, 768, 770, 771, 774, 775, 777, 780, 783, 785, 786, 789, 790, 792, 795, 798, 800, 801, 804, 805, 807, 810, 813, 815, 816, 819, 820, 822, 825, 828, 830, 831, 834, 835, 837, 840, 843, 845, 846, 849, 850, 852, 855, 858, 860, 861, 864, 865, 867, 870, 873, 875, 876, 879, 880, 882, 885, 888, 890, 891, 894, 895, 897, 900, 903, 905, 906, 909, 910, 912, 915, 918, 920, 921, 924, 925, 927, 930, 933, 935, 936, 939, 940, 942, 945, 948, 950, 951, 954, 955, 957, 960, 963, 965, 966, 969, 970, 972, 975, 978, 980, 981, 984, 985, 987, 990, 993, 995, 996, 999, 1000]\n"
     ]
    }
   ],
   "source": [
    "euler2(1000)"
   ]
  },
  {
   "cell_type": "code",
   "execution_count": 191,
   "id": "b6dfa7e4",
   "metadata": {},
   "outputs": [],
   "source": [
    "def euler3(*num):\n",
    "    num_multp=[sum(number for number in range(n) if number%3==0 or number%5==0) for n in num]\n",
    "    print(num_multp)"
   ]
  },
  {
   "cell_type": "code",
   "execution_count": 192,
   "id": "a00e9e41",
   "metadata": {},
   "outputs": [
    {
     "name": "stdout",
     "output_type": "stream",
     "text": [
      "[233168, 12153, 3]\n"
     ]
    }
   ],
   "source": [
    "euler3(1000,230,4)"
   ]
  },
  {
   "cell_type": "code",
   "execution_count": 138,
   "id": "b72f2eac",
   "metadata": {},
   "outputs": [
    {
     "ename": "TypeError",
     "evalue": "reduce expected at least 2 arguments, got 1",
     "output_type": "error",
     "traceback": [
      "\u001b[1;31m---------------------------------------------------------------------------\u001b[0m",
      "\u001b[1;31mTypeError\u001b[0m                                 Traceback (most recent call last)",
      "Input \u001b[1;32mIn [138]\u001b[0m, in \u001b[0;36m<cell line: 2>\u001b[1;34m()\u001b[0m\n\u001b[0;32m      1\u001b[0m \u001b[38;5;28;01mfrom\u001b[39;00m \u001b[38;5;21;01mfunctools\u001b[39;00m \u001b[38;5;28;01mimport\u001b[39;00m reduce\n\u001b[1;32m----> 2\u001b[0m suma\u001b[38;5;241m=\u001b[39m\u001b[43mreduce\u001b[49m\u001b[43m(\u001b[49m\u001b[38;5;28;43;01mlambda\u001b[39;49;00m\u001b[43m \u001b[49m\u001b[43mcount\u001b[49m\u001b[43m:\u001b[49m\u001b[43mcount\u001b[49m\u001b[38;5;241;43m+\u001b[39;49m\u001b[43mnum_multp\u001b[49m\u001b[43m)\u001b[49m\n",
      "\u001b[1;31mTypeError\u001b[0m: reduce expected at least 2 arguments, got 1"
     ]
    }
   ],
   "source": [
    "from functools import reduce\n",
    "count=0\n",
    "\n",
    "suma=reduce(lambda count,num_multp:count+num_multp)"
   ]
  },
  {
   "cell_type": "markdown",
   "id": "922bbc2d",
   "metadata": {},
   "source": [
    "## Sort a list in a certain manner\n",
    "\n",
    "Build a function that sorts the list below based on how close or far the elements are from 100:"
   ]
  },
  {
   "cell_type": "code",
   "execution_count": 21,
   "id": "ac2379cd",
   "metadata": {},
   "outputs": [],
   "source": [
    "list_of_numbers = [102,100, 50, 65, 82, 23, 0, 198, 290, -34, 1, -1]"
   ]
  },
  {
   "cell_type": "code",
   "execution_count": 76,
   "id": "1453d36a",
   "metadata": {},
   "outputs": [],
   "source": [
    "# Type the code here:\n",
    "def near(*arg):\n",
    "    result0=100000\n",
    "    for num in arg:\n",
    "        result=abs(100-num)\n",
    "        if result<result0:\n",
    "            result0=result\n",
    "            num_near=num\n",
    "    print(num_near,result0)\n",
    "            \n",
    "    \n",
    "        "
   ]
  },
  {
   "cell_type": "code",
   "execution_count": 77,
   "id": "d67fcd3e",
   "metadata": {},
   "outputs": [
    {
     "name": "stdout",
     "output_type": "stream",
     "text": [
      "100 0\n"
     ]
    }
   ],
   "source": [
    "near(*list_of_numbers)"
   ]
  },
  {
   "cell_type": "markdown",
   "id": "7ba4e904",
   "metadata": {},
   "source": [
    "## Excess of freedom\n",
    "\n",
    "I dare you to find (or invent, whichever you think is faster!) a function that takes other functions as arguments. The program is executed by calling the main function by means of arguments within which one of them calls one or more external functions and thus performs some task of your choosing.\n",
    "\n",
    "**Hint:** Ask yourself the following: why is it useful for a function to call another function via one of its arguments?"
   ]
  },
  {
   "cell_type": "code",
   "execution_count": 78,
   "id": "3e506e33",
   "metadata": {},
   "outputs": [],
   "source": [
    "# Type the code here:\n",
    "def firstfunc(*arg):\n",
    "    print(arg)\n"
   ]
  },
  {
   "cell_type": "code",
   "execution_count": 84,
   "id": "a6512463",
   "metadata": {},
   "outputs": [],
   "source": [
    "def secondfunc(firstfunc):\n",
    "    print(arg2+ \"esto que es\")"
   ]
  },
  {
   "cell_type": "markdown",
   "id": "75186060",
   "metadata": {},
   "source": [
    "# Examples the functions in functions"
   ]
  },
  {
   "cell_type": "code",
   "execution_count": 87,
   "id": "61f6d12c",
   "metadata": {},
   "outputs": [],
   "source": [
    "def Square(X):\n",
    "    # computes the Square of the given number\n",
    "    # and return to the caller function\n",
    "    return (X * X)"
   ]
  },
  {
   "cell_type": "code",
   "execution_count": 88,
   "id": "8d849df2",
   "metadata": {},
   "outputs": [],
   "source": [
    "def SumofSquares(Array, n):\n",
    " \n",
    "    # Initialize variable Sum to 0. It stores the\n",
    "    # Total sum of squares of the array of elements\n",
    "    Sum = 0\n",
    "    for i in range(n):\n",
    " \n",
    "        # Square of Array[i] element is stored in SquaredValue\n",
    "        SquaredValue = Square(Array[i])\n",
    " \n",
    "        # Cumulative sum is stored in Sum variable\n",
    "        Sum += SquaredValue\n",
    "    return Sum"
   ]
  },
  {
   "cell_type": "code",
   "execution_count": 89,
   "id": "7b5e8741",
   "metadata": {},
   "outputs": [],
   "source": [
    "# Driver Function\n",
    "Array = [1, 2, 3, 4, 5, 6, 7, 8, 9, 10]\n",
    "n = len(Array)\n",
    " "
   ]
  },
  {
   "cell_type": "code",
   "execution_count": 90,
   "id": "41ebe8ca",
   "metadata": {},
   "outputs": [
    {
     "name": "stdout",
     "output_type": "stream",
     "text": [
      "Sum of the Square of List of Numbers: 385\n"
     ]
    }
   ],
   "source": [
    "Total = SumofSquares(Array, n)\n",
    "print(\"Sum of the Square of List of Numbers:\", Total)"
   ]
  },
  {
   "cell_type": "markdown",
   "id": "fbe8028b",
   "metadata": {},
   "source": [
    "# Class + functions"
   ]
  },
  {
   "cell_type": "code",
   "execution_count": 91,
   "id": "d32ef959",
   "metadata": {},
   "outputs": [
    {
     "name": "stdout",
     "output_type": "stream",
     "text": [
      "Function2 :  Hello\n",
      "Function1 :  World\n"
     ]
    }
   ],
   "source": [
    "class Main:\n",
    " \n",
    "    # constructor of Main class\n",
    "    def __init__(self):\n",
    "        # Initialization of the Strings\n",
    "        self.String1 =\"Hello\"\n",
    "        self.String2 =\"World\"\n",
    " \n",
    "    def Function1(self):\n",
    "        # calling Function2 Method\n",
    "        self.Function2()\n",
    "        print(\"Function1 : \", self.String2)\n",
    "        return\n",
    " \n",
    "    def Function2(self):\n",
    "        print(\"Function2 : \", self.String1)\n",
    "        return\n",
    " \n",
    "# Instance of Class Main\n",
    "Object = Main()\n",
    " \n",
    "# Calling Function1\n",
    "Object.Function1()"
   ]
  },
  {
   "cell_type": "markdown",
   "id": "ce8cfd3a",
   "metadata": {},
   "source": [
    "# Class parent-child"
   ]
  },
  {
   "cell_type": "code",
   "execution_count": 98,
   "id": "9cd20331",
   "metadata": {},
   "outputs": [
    {
     "name": "stdout",
     "output_type": "stream",
     "text": [
      "Function2 :  Hello\n",
      "Function1 :  World\n"
     ]
    },
    {
     "ename": "TypeError",
     "evalue": "Function2() missing 1 required positional argument: 'self'",
     "output_type": "error",
     "traceback": [
      "\u001b[1;31m---------------------------------------------------------------------------\u001b[0m",
      "\u001b[1;31mTypeError\u001b[0m                                 Traceback (most recent call last)",
      "Input \u001b[1;32mIn [98]\u001b[0m, in \u001b[0;36m<cell line: 30>\u001b[1;34m()\u001b[0m\n\u001b[0;32m     28\u001b[0m \u001b[38;5;66;03m# Calling Function1 using Child class instance\u001b[39;00m\n\u001b[0;32m     29\u001b[0m Object2\u001b[38;5;241m.\u001b[39mFunction1()\n\u001b[1;32m---> 30\u001b[0m \u001b[43mParent\u001b[49m\u001b[38;5;241;43m.\u001b[39;49m\u001b[43mFunction2\u001b[49m\u001b[43m(\u001b[49m\u001b[43m)\u001b[49m\n",
      "\u001b[1;31mTypeError\u001b[0m: Function2() missing 1 required positional argument: 'self'"
     ]
    }
   ],
   "source": [
    "class Parent:\n",
    " \n",
    "    # constructor of Parent class\n",
    "    def __init__(self):\n",
    "        # Initialization of the Strings\n",
    "        self.String1 =\"Hello\"\n",
    "        self.String2 =\"World\"\n",
    " \n",
    "    def Function2(self):\n",
    "        print(\"Function2 : \", self.String1)\n",
    "        return\n",
    " \n",
    "# Child class is inheriting from Parent class\n",
    "class Child(Parent):\n",
    " \n",
    "    def Function1(self):\n",
    "        # calling Function2 Method in parent class\n",
    "        self.Function2()\n",
    "        print(\"Function1 : \", self.String2)\n",
    "        return  \n",
    " \n",
    "### Instance of Parent class\n",
    "Object1 = Parent()\n",
    " \n",
    "### Instance of Child class\n",
    "Object2 = Child()\n",
    " \n",
    "# Calling Function1 using Child class instance\n",
    "Object2.Function1()\n",
    "Parent.Function2()"
   ]
  },
  {
   "cell_type": "code",
   "execution_count": 417,
   "id": "8a5a257a",
   "metadata": {},
   "outputs": [],
   "source": [
    "def solution(s):\n",
    "        "
   ]
  },
  {
   "cell_type": "code",
   "execution_count": 418,
   "id": "2c13d786",
   "metadata": {},
   "outputs": [
    {
     "name": "stdout",
     "output_type": "stream",
     "text": [
      "['as', 'df', 'ga', 'fs', 'ga', '2']\n",
      "2\n",
      "hola\n",
      "2\n",
      "hola\n",
      "2\n",
      "hola\n",
      "2\n",
      "hola\n",
      "2\n",
      "hola\n",
      "1\n"
     ]
    }
   ],
   "source": [
    "solution('asdfgafsga2')"
   ]
  },
  {
   "cell_type": "code",
   "execution_count": null,
   "id": "69174984",
   "metadata": {},
   "outputs": [],
   "source": []
  }
 ],
 "metadata": {
  "kernelspec": {
   "display_name": "Python 3 (ipykernel)",
   "language": "python",
   "name": "python3"
  },
  "language_info": {
   "codemirror_mode": {
    "name": "ipython",
    "version": 3
   },
   "file_extension": ".py",
   "mimetype": "text/x-python",
   "name": "python",
   "nbconvert_exporter": "python",
   "pygments_lexer": "ipython3",
   "version": "3.9.12"
  },
  "toc": {
   "base_numbering": 1,
   "nav_menu": {},
   "number_sections": true,
   "sideBar": true,
   "skip_h1_title": true,
   "title_cell": "Table of Contents",
   "title_sidebar": "Contents",
   "toc_cell": false,
   "toc_position": {
    "height": "calc(100% - 180px)",
    "left": "10px",
    "top": "150px",
    "width": "203.097px"
   },
   "toc_section_display": true,
   "toc_window_display": false
  }
 },
 "nbformat": 4,
 "nbformat_minor": 5
}
