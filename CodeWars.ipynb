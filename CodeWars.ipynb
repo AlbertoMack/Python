{
 "cells": [
  {
   "cell_type": "markdown",
   "id": "6a788bd4",
   "metadata": {},
   "source": [
    "#You are given an array (which will have a length of at least 3, but could be very large) containing integers. The array is either entirely comprised of odd integers or entirely comprised of even integers except for a single integer N. Write a method that takes the array as an argument and returns this \"outlier\" N."
   ]
  },
  {
   "cell_type": "code",
   "execution_count": null,
   "id": "9e9f7a2f",
   "metadata": {},
   "outputs": [],
   "source": [
    "integers=[]\n",
    "odd=0\n",
    "even=0\n",
    "for num in range(5):\n",
    "    integers.append(int(input()))\n",
    "    \n",
    "    if integers[num]>=0 and integers[num]%2==0:\n",
    "        odd+=1\n",
    "    elif integers[num]<0:\n",
    "        outlier=integers[num]\n",
    "    else:\n",
    "        even+=1\n",
    "        \n",
    "print (integers)\n",
    "print (outlier)"
   ]
  },
  {
   "cell_type": "code",
   "execution_count": null,
   "id": "39685204",
   "metadata": {},
   "outputs": [],
   "source": [
    "    integers=[]\n",
    "    odd=0\n",
    "    even=0\n",
    "    for num in range(5):\n",
    "        integers.append(int(input()))\n",
    "    \n",
    "    if integers[num]>=0:\n",
    "        odd+=1\n",
    "    elif integers[num]<0:\n",
    "        outlier=integers[num]\n",
    "    print(outlier)"
   ]
  },
  {
   "cell_type": "markdown",
   "id": "d546a8a2",
   "metadata": {},
   "source": [
    "Usually when you buy something, you're asked whether your credit card number, phone number or answer to your most secret question is still correct. However, since someone could look over your shoulder, you don't want that shown on your screen. Instead, we mask it.\n",
    "\n",
    "Your task is to write a function maskify, which changes all but the last four characters into '#'."
   ]
  },
  {
   "cell_type": "code",
   "execution_count": 31,
   "id": "ed215099",
   "metadata": {},
   "outputs": [],
   "source": [
    "def maskify(cc):\n",
    "    counter=0\n",
    "    if len(cc)>4:\n",
    "        print(len(cc))\n",
    "        for char in cc:\n",
    "            print(char)\n",
    "            cc=cc.replace(char,\"#\",1)\n",
    "            counter+=1\n",
    "            print(counter)\n",
    "            if counter==(len(cc)-4):\n",
    "                break\n",
    "    return cc"
   ]
  },
  {
   "cell_type": "code",
   "execution_count": 32,
   "id": "ac6cacf4",
   "metadata": {},
   "outputs": [
    {
     "name": "stdout",
     "output_type": "stream",
     "text": [
      "12\n",
      ",\n",
      "1\n",
      "[\n",
      "2\n",
      "*\n",
      "3\n",
      ";\n",
      "4\n",
      "d\n",
      "5\n",
      "e\n",
      "6\n",
      "Z\n",
      "7\n",
      "1\n",
      "8\n"
     ]
    },
    {
     "data": {
      "text/plain": [
       "'########eMk('"
      ]
     },
     "execution_count": 32,
     "metadata": {},
     "output_type": "execute_result"
    }
   ],
   "source": [
    "maskify(\",[*;deZ1eMk(\")"
   ]
  },
  {
   "cell_type": "code",
   "execution_count": null,
   "id": "e8f1f0ff",
   "metadata": {},
   "outputs": [],
   "source": []
  },
  {
   "cell_type": "code",
   "execution_count": 24,
   "id": "49d7d9fb",
   "metadata": {},
   "outputs": [],
   "source": [
    "def series_sum(*n):\n",
    "     \n",
    "    return '%.2f' %  sum(n)\n"
   ]
  },
  {
   "cell_type": "code",
   "execution_count": 25,
   "id": "a355d697",
   "metadata": {},
   "outputs": [
    {
     "data": {
      "text/plain": [
       "'1.57'"
      ]
     },
     "execution_count": 25,
     "metadata": {},
     "output_type": "execute_result"
    }
   ],
   "source": [
    "series_sum(1 , 1/4 , 1/7 , 1/10 , 1/13)"
   ]
  },
  {
   "cell_type": "code",
   "execution_count": null,
   "id": "245b9531",
   "metadata": {},
   "outputs": [],
   "source": []
  },
  {
   "cell_type": "code",
   "execution_count": 11,
   "id": "d9030ab8",
   "metadata": {},
   "outputs": [],
   "source": [
    "def solution(number):\n",
    "    numberlist=[]\n",
    "    while number>0:\n",
    "        numberlist=[num for num in range(number)  if num%3==0 or num%5==0]\n",
    "        break \n",
    "        \n",
    "    return sum(numberlist)\n"
   ]
  },
  {
   "cell_type": "code",
   "execution_count": 13,
   "id": "6f1b1299",
   "metadata": {},
   "outputs": [
    {
     "data": {
      "text/plain": [
       "45"
      ]
     },
     "execution_count": 13,
     "metadata": {},
     "output_type": "execute_result"
    }
   ],
   "source": [
    "solution(15)"
   ]
  },
  {
   "cell_type": "markdown",
   "id": "03eddec8",
   "metadata": {},
   "source": [
    "Take 2 strings s1 and s2 including only letters from a to z. Return a new sorted string, the longest possible, containing distinct letters - each taken only once - coming from s1 or s2.\n",
    "\n",
    "Examples:\n",
    "a = \"xyaabbbccccdefww\"\n",
    "b = \"xxxxyyyyabklmopq\"\n",
    "longest(a, b) -> \"abcdefklmopqwxy\"\n",
    "\n",
    "a = \"abcdefghijklmnopqrstuvwxyz\"\n",
    "longest(a, a) -> \"abcdefghijklmnopqrstuvwxyz\""
   ]
  },
  {
   "cell_type": "code",
   "execution_count": 54,
   "id": "12eeed6a",
   "metadata": {},
   "outputs": [],
   "source": [
    "def longest(a1, a2):\n",
    "    a1_new=\"\".join(dict.fromkeys(a1))\n",
    "    a2_new=\"\".join(dict.fromkeys(a2))\n",
    "    result=\"\".join(sorted(dict.fromkeys(a1.join(sorted(a2)))))\n",
    "    return result"
   ]
  },
  {
   "cell_type": "code",
   "execution_count": 55,
   "id": "8a0f928d",
   "metadata": {},
   "outputs": [
    {
     "data": {
      "text/plain": [
       "'abcdes'"
      ]
     },
     "execution_count": 55,
     "metadata": {},
     "output_type": "execute_result"
    }
   ],
   "source": [
    "longest(\"bcd\",\"ased\")"
   ]
  },
  {
   "cell_type": "markdown",
   "id": "f6afd568",
   "metadata": {},
   "source": [
    "Write a function that takes a string of parentheses, and determines if the order of the parentheses is valid. The function should return true if the string is valid, and false if it's invalid."
   ]
  },
  {
   "cell_type": "code",
   "execution_count": 85,
   "id": "666b2cdf",
   "metadata": {},
   "outputs": [],
   "source": [
    "def valid_parentheses(string):\n",
    "    cnt = 0\n",
    "    for char in string:\n",
    "        if char == '(': cnt += 1\n",
    "        if char == ')': cnt -= 1\n",
    "        if cnt < 0: return False\n",
    "    return True if cnt == 0 else False"
   ]
  },
  {
   "cell_type": "code",
   "execution_count": 86,
   "id": "3d810554",
   "metadata": {},
   "outputs": [
    {
     "data": {
      "text/plain": [
       "True"
      ]
     },
     "execution_count": 86,
     "metadata": {},
     "output_type": "execute_result"
    }
   ],
   "source": [
    "valid_parentheses(\"((())()())\")"
   ]
  },
  {
   "cell_type": "markdown",
   "id": "f483f0a0",
   "metadata": {},
   "source": [
    "You will be given a number and you will need to return it as a string in Expanded Form. For example:"
   ]
  },
  {
   "cell_type": "code",
   "execution_count": 18,
   "id": "84b52b47",
   "metadata": {},
   "outputs": [],
   "source": [
    "def expanded_form(num):\n",
    "    dim=len(str(num))\n",
    "    list1=[]\n",
    "    for char in str(num):\n",
    "        if char==\"0\":\n",
    "            dim-=1\n",
    "            next\n",
    "        else:\n",
    "            char=char+\"0\"*(dim-1)\n",
    "            list1.append(char)\n",
    "            dim-=1\n",
    "    \n",
    "    result=\" + \".join(list1)\n",
    "    return result"
   ]
  },
  {
   "cell_type": "code",
   "execution_count": 19,
   "id": "11d0d124",
   "metadata": {},
   "outputs": [
    {
     "data": {
      "text/plain": [
       "'300 + 3'"
      ]
     },
     "execution_count": 19,
     "metadata": {},
     "output_type": "execute_result"
    }
   ],
   "source": [
    "expanded_form(303)"
   ]
  },
  {
   "cell_type": "code",
   "execution_count": null,
   "id": "9ff53d67",
   "metadata": {},
   "outputs": [],
   "source": []
  },
  {
   "cell_type": "code",
   "execution_count": 98,
   "id": "60053c3b",
   "metadata": {},
   "outputs": [],
   "source": [
    "import operator\n",
    "import math\n",
    "ops = {\n",
    "    '+' : operator.add,\n",
    "    '-' : operator.sub,\n",
    "    '*' : operator.mul,\n",
    "    '/' : operator.truediv,\n",
    "}\n",
    "\n",
    "def zero(num2=\"\"):\n",
    "    if num2!=\"\":  \n",
    "        operation=list(num2)     \n",
    "        return math.floor(ops[operation[0]](0, int(operation[1])))\n",
    "    else:\n",
    "        return 0\n",
    "    \n",
    "def one(num2=\"\"):\n",
    "    if num2!=\"\":  \n",
    "        operation=list(num2)     \n",
    "        return math.floor(ops[operation[0]](1, int(operation[1])))\n",
    "    else:\n",
    "        return 1 \n",
    "def two(num2=\"\"):\n",
    "    if num2!=\"\":  \n",
    "        operation=list(num2)     \n",
    "        return math.floor(ops[operation[0]](2, int(operation[1])))\n",
    "    else:\n",
    "        return 2 \n",
    "def three(num2=\"\"):\n",
    "    if num2!=\"\":  \n",
    "        operation=list(num2)     \n",
    "        return math.floor(ops[operation[0]](3, int(operation[1])))\n",
    "    else:\n",
    "        return 3 \n",
    "def four(num2=\"\"):\n",
    "    if num2!=\"\":  \n",
    "        operation=list(num2)     \n",
    "        return math.floor(ops[operation[0]](4, int(operation[1])))\n",
    "    else:\n",
    "        return 4 \n",
    "def five(num2=\"\"):\n",
    "    if num2!=\"\":  \n",
    "        operation=list(num2)     \n",
    "        return math.floor(ops[operation[0]](5, int(operation[1])))\n",
    "    else:\n",
    "        return 5    \n",
    "def six(num2=\"\"):\n",
    "    if num2!=\"\":  \n",
    "        operation=list(num2)     \n",
    "        return math.floor(ops[operation[0]](6, int(operation[1])))\n",
    "    else:\n",
    "        return 6 \n",
    "def seven(num2=\"\"): \n",
    "    if num2!=\"\":  \n",
    "        operation=list(num2)     \n",
    "        return math.floor(ops[operation[0]](7, int(operation[1])))\n",
    "    else:\n",
    "        return 7 \n",
    "def eight(num2=\"\"):\n",
    "    if num2!=\"\":  \n",
    "        operation=list(num2)     \n",
    "        return math.floor(ops[operation[0]](8, int(operation[1])))\n",
    "    else:\n",
    "        return 8 \n",
    "def nine(num2=\"\"): \n",
    "    if num2!=\"\":  \n",
    "        operation=list(num2)     \n",
    "        return math.floor(ops[operation[0]](9, int(operation[1])))\n",
    "    else:\n",
    "        return 9 \n",
    "def plus(num): return f\"+{num}\"\n",
    "def minus(num): return f\"-{num}\"\n",
    "def times(num): return f\"*{num}\"\n",
    "def divided_by(num): return f\"/{num}\""
   ]
  },
  {
   "cell_type": "code",
   "execution_count": 100,
   "id": "40899d18",
   "metadata": {},
   "outputs": [
    {
     "data": {
      "text/plain": [
       "1"
      ]
     },
     "execution_count": 100,
     "metadata": {},
     "output_type": "execute_result"
    }
   ],
   "source": [
    "seven(divided_by(five()))"
   ]
  },
  {
   "cell_type": "markdown",
   "id": "41feaad3",
   "metadata": {},
   "source": [
    "Write a function that, given a string of text (possibly with punctuation and line-breaks), returns an array of the top-3 most occurring words, in descending order of the number of occurrences.\n",
    "\n",
    "Assumptions:\n",
    "A word is a string of letters (A to Z) optionally containing one or more apostrophes (') in ASCII.\n",
    "Apostrophes can appear at the start, middle or end of a word ('abc, abc', 'abc', ab'c are all valid)\n",
    "Any other characters (e.g. #, \\, / , . ...) are not part of a word and should be treated as whitespace.\n",
    "Matches should be case-insensitive, and the words in the result should be lowercased.\n",
    "Ties may be broken arbitrarily.\n",
    "If a text contains fewer than three unique words, then either the top-2 or top-1 words should be returned, or an empty array if a text contains no words\n",
    "\n",
    "A word is a string of letters (A to Z) optionally containing one or more apostrophes (') in ASCII.\n",
    "Apostrophes can appear at the start, middle or end of a word ('abc, abc', 'abc', ab'c are all valid)\n",
    "Any other characters (e.g. #, \\, / , . ...) are not part of a word and should be treated as whitespace.\n",
    "Matches should be case-insensitive, and the words in the result should be lowercased.\n",
    "Ties may be broken arbitrarily.\n",
    "If a text contains fewer than three unique words, then either the top-2 or top-1 words should be returned, or an empty array if a text contains no words"
   ]
  },
  {
   "cell_type": "code",
   "execution_count": 4,
   "id": "b1d89ae8",
   "metadata": {},
   "outputs": [
    {
     "ename": "NameError",
     "evalue": "name 'text1' is not defined",
     "output_type": "error",
     "traceback": [
      "\u001b[1;31m---------------------------------------------------------------------------\u001b[0m",
      "\u001b[1;31mNameError\u001b[0m                                 Traceback (most recent call last)",
      "Input \u001b[1;32mIn [4]\u001b[0m, in \u001b[0;36m<cell line: 4>\u001b[1;34m()\u001b[0m\n\u001b[0;32m      1\u001b[0m \u001b[38;5;66;03m# def top_3_words(text):\u001b[39;00m\n\u001b[0;32m      2\u001b[0m \u001b[38;5;28;01mimport\u001b[39;00m \u001b[38;5;21;01mnumpy\u001b[39;00m \u001b[38;5;28;01mas\u001b[39;00m \u001b[38;5;21;01mnp\u001b[39;00m\n\u001b[1;32m----> 4\u001b[0m arr\u001b[38;5;241m=\u001b[39mnp\u001b[38;5;241m.\u001b[39marray(\u001b[43mtext1\u001b[49m);arr\n",
      "\u001b[1;31mNameError\u001b[0m: name 'text1' is not defined"
     ]
    }
   ],
   "source": []
  },
  {
   "cell_type": "code",
   "execution_count": 7,
   "id": "5cce6acc",
   "metadata": {},
   "outputs": [],
   "source": [
    "text1=(\"\"\"In a village of La Mancha, the name of which I have no desire to call to\n",
    "        mind, there lived not long since one of those gentlemen that keep a lance\n",
    "        in the lance-rack, an old buckler, a lean hack, and a greyhound for\n",
    "        coursing. An olla of rather more beef than mutton, a salad on most\n",
    "        nights, scraps on Saturdays, lentils on Fridays, and a pigeon or so extra\n",
    "        on Sundays, made away with three-quarters of his income.\"\"\")"
   ]
  },
  {
   "cell_type": "code",
   "execution_count": 8,
   "id": "874a47db",
   "metadata": {},
   "outputs": [],
   "source": [
    "# def top_3_words(text):\n",
    "import numpy as np\n",
    "from string import punctuation\n"
   ]
  },
  {
   "cell_type": "code",
   "execution_count": 22,
   "id": "50e5c5c6",
   "metadata": {
    "scrolled": true
   },
   "outputs": [
    {
     "name": "stdout",
     "output_type": "stream",
     "text": [
      ",\n",
      " \n",
      ",\n",
      " \n",
      "-\n",
      " \n",
      ",\n",
      " \n",
      ",\n",
      " \n",
      ",\n",
      " \n",
      ".\n",
      " \n",
      ",\n",
      " \n",
      ",\n",
      " \n",
      ",\n",
      " \n",
      ",\n",
      " \n",
      ",\n",
      " \n",
      "-\n",
      " \n",
      ".\n",
      " \n",
      "In a village of La Mancha, the name of which I have no desire to call to\n",
      "        mind, there lived not long since one of those gentlemen that keep a lance\n",
      "        in the lance-rack, an old buckler, a lean hack, and a greyhound for\n",
      "        coursing. An olla of rather more beef than mutton, a salad on most\n",
      "        nights, scraps on Saturdays, lentils on Fridays, and a pigeon or so extra\n",
      "        on Sundays, made away with three-quarters of his income.\n"
     ]
    },
    {
     "data": {
      "text/plain": [
       "['a', 'of', 'on']"
      ]
     },
     "execution_count": 22,
     "metadata": {},
     "output_type": "execute_result"
    }
   ],
   "source": [
    "for char in list(text1):\n",
    "    if char in punctuation: \n",
    "        tex1=tex1.replace(char,\"\")\n",
    "print(text1)\n",
    "arr=np.array(text1.split())\n",
    "values, counts = np.unique(arr, return_counts=True)\n",
    "ocurr=dict(zip(values,counts)) \n",
    "\n",
    "sorted_values = sorted(ocurr.values(),reverse=True) # Sort the values\n",
    "sorted_dict = {}\n",
    "\n",
    "for i in sorted_values:\n",
    "    for k in ocurr.keys():\n",
    "        if ocurr[k] == i:\n",
    "            sorted_dict[k] = ocurr[k]\n",
    "\n",
    "first3 = [k for k in list(sorted_dict)[:3]]\n",
    "first3\n",
    "    \n",
    "#     return"
   ]
  },
  {
   "cell_type": "code",
   "execution_count": 58,
   "id": "41e409cc",
   "metadata": {},
   "outputs": [
    {
     "data": {
      "text/plain": [
       "array(['In', 'a', 'village', 'of', 'La', 'Mancha,', 'the', 'name', 'of',\n",
       "       'which', 'I', 'have', 'no', 'desire', 'to', 'call', 'to', 'mind,',\n",
       "       'there', 'lived', 'not', 'long', 'since', 'one', 'of', 'those',\n",
       "       'gentlemen', 'that', 'keep', 'a', 'lance', 'in', 'the',\n",
       "       'lance-rack,', 'an', 'old', 'buckler,', 'a', 'lean', 'hack,',\n",
       "       'and', 'a', 'greyhound', 'for', 'coursing.', 'An', 'olla', 'of',\n",
       "       'rather', 'more', 'beef', 'than', 'mutton,', 'a', 'salad', 'on',\n",
       "       'most', 'nights,', 'scraps', 'on', 'Saturdays,', 'lentils', 'on',\n",
       "       'Fridays,', 'and', 'a', 'pigeon', 'or', 'so', 'extra', 'on',\n",
       "       'Sundays,', 'made', 'away', 'with', 'three-quarters', 'of', 'his',\n",
       "       'income.'], dtype='<U14')"
      ]
     },
     "execution_count": 58,
     "metadata": {},
     "output_type": "execute_result"
    }
   ],
   "source": [
    "arr"
   ]
  },
  {
   "cell_type": "code",
   "execution_count": null,
   "id": "d9a52e91",
   "metadata": {},
   "outputs": [],
   "source": []
  }
 ],
 "metadata": {
  "kernelspec": {
   "display_name": "Python 3 (ipykernel)",
   "language": "python",
   "name": "python3"
  },
  "language_info": {
   "codemirror_mode": {
    "name": "ipython",
    "version": 3
   },
   "file_extension": ".py",
   "mimetype": "text/x-python",
   "name": "python",
   "nbconvert_exporter": "python",
   "pygments_lexer": "ipython3",
   "version": "3.9.12"
  },
  "toc": {
   "base_numbering": 1,
   "nav_menu": {},
   "number_sections": true,
   "sideBar": true,
   "skip_h1_title": false,
   "title_cell": "Table of Contents",
   "title_sidebar": "Contents",
   "toc_cell": false,
   "toc_position": {},
   "toc_section_display": true,
   "toc_window_display": false
  }
 },
 "nbformat": 4,
 "nbformat_minor": 5
}
